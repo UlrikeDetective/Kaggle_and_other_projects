{
 "cells": [
  {
   "cell_type": "markdown",
   "id": "183688df",
   "metadata": {
    "papermill": {
     "duration": 0.006813,
     "end_time": "2024-05-19T20:08:43.568210",
     "exception": false,
     "start_time": "2024-05-19T20:08:43.561397",
     "status": "completed"
    },
    "tags": []
   },
   "source": [
    "Lets start with the dataset and geodata.\n",
    "\n",
    "First loading the dataframe and have a look."
   ]
  },
  {
   "cell_type": "code",
   "execution_count": 1,
   "id": "97561281",
   "metadata": {
    "_cell_guid": "b1076dfc-b9ad-4769-8c92-a6c4dae69d19",
    "_uuid": "8f2839f25d086af736a60e9eeb907d3b93b6e0e5",
    "execution": {
     "iopub.execute_input": "2024-05-19T20:08:43.583013Z",
     "iopub.status.busy": "2024-05-19T20:08:43.582273Z",
     "iopub.status.idle": "2024-05-19T20:08:44.672184Z",
     "shell.execute_reply": "2024-05-19T20:08:44.670708Z"
    },
    "papermill": {
     "duration": 1.100452,
     "end_time": "2024-05-19T20:08:44.674851",
     "exception": false,
     "start_time": "2024-05-19T20:08:43.574399",
     "status": "completed"
    },
    "tags": []
   },
   "outputs": [
    {
     "name": "stdout",
     "output_type": "stream",
     "text": [
      "             City  Latitude  Longitude      Country  Population  Land_area  \\\n",
      "0  Tokyo/Yokohama   35.6895   139.6917        Japan    33200000       6993   \n",
      "1  New York Metro   40.7128   -74.0059          USA    17800000       8683   \n",
      "2       Sao Paulo  -23.5505   -46.6333       Brazil    17700000       1968   \n",
      "3   Seoul/Incheon   37.5665   126.9780  South Korea    17500000       1049   \n",
      "4     Mexico City   23.6345  -102.5528       Mexico    17400000       2072   \n",
      "\n",
      "   Density  Number  \n",
      "0     4750       1  \n",
      "1     2050       2  \n",
      "2     9000       3  \n",
      "3    16700       4  \n",
      "4     8400       5  \n"
     ]
    }
   ],
   "source": [
    "import pandas as pd\n",
    "\n",
    "df = pd.read_csv(\"/kaggle/input/geodata-for-exercises/cities_world.tsv\", sep='\\t')\n",
    "print(df.head())"
   ]
  },
  {
   "cell_type": "markdown",
   "id": "2893ea73",
   "metadata": {
    "papermill": {
     "duration": 0.005506,
     "end_time": "2024-05-19T20:08:44.686296",
     "exception": false,
     "start_time": "2024-05-19T20:08:44.680790",
     "status": "completed"
    },
    "tags": []
   },
   "source": [
    "I also like to add the continent as an information to the dataset.\n"
   ]
  },
  {
   "cell_type": "code",
   "execution_count": 2,
   "id": "0e473651",
   "metadata": {
    "execution": {
     "iopub.execute_input": "2024-05-19T20:08:44.699727Z",
     "iopub.status.busy": "2024-05-19T20:08:44.699330Z",
     "iopub.status.idle": "2024-05-19T20:09:03.975077Z",
     "shell.execute_reply": "2024-05-19T20:09:03.973158Z"
    },
    "papermill": {
     "duration": 19.285575,
     "end_time": "2024-05-19T20:09:03.977744",
     "exception": false,
     "start_time": "2024-05-19T20:08:44.692169",
     "status": "completed"
    },
    "tags": []
   },
   "outputs": [
    {
     "name": "stdout",
     "output_type": "stream",
     "text": [
      "Collecting pycountry_convert\r\n",
      "  Downloading pycountry_convert-0.7.2-py3-none-any.whl.metadata (7.2 kB)\r\n",
      "Collecting pprintpp>=0.3.0 (from pycountry_convert)\r\n",
      "  Downloading pprintpp-0.4.0-py2.py3-none-any.whl.metadata (7.9 kB)\r\n",
      "Collecting pycountry>=16.11.27.1 (from pycountry_convert)\r\n",
      "  Downloading pycountry-23.12.11-py3-none-any.whl.metadata (12 kB)\r\n",
      "Requirement already satisfied: pytest>=3.4.0 in /opt/conda/lib/python3.10/site-packages (from pycountry_convert) (8.1.1)\r\n",
      "Collecting pytest-mock>=1.6.3 (from pycountry_convert)\r\n",
      "  Downloading pytest_mock-3.14.0-py3-none-any.whl.metadata (3.8 kB)\r\n",
      "Collecting pytest-cov>=2.5.1 (from pycountry_convert)\r\n",
      "  Downloading pytest_cov-5.0.0-py3-none-any.whl.metadata (27 kB)\r\n",
      "Collecting repoze.lru>=0.7 (from pycountry_convert)\r\n",
      "  Downloading repoze.lru-0.7-py3-none-any.whl.metadata (1.1 kB)\r\n",
      "Requirement already satisfied: wheel>=0.30.0 in /opt/conda/lib/python3.10/site-packages (from pycountry_convert) (0.42.0)\r\n",
      "Requirement already satisfied: iniconfig in /opt/conda/lib/python3.10/site-packages (from pytest>=3.4.0->pycountry_convert) (2.0.0)\r\n",
      "Requirement already satisfied: packaging in /opt/conda/lib/python3.10/site-packages (from pytest>=3.4.0->pycountry_convert) (21.3)\r\n",
      "Requirement already satisfied: pluggy<2.0,>=1.4 in /opt/conda/lib/python3.10/site-packages (from pytest>=3.4.0->pycountry_convert) (1.4.0)\r\n",
      "Requirement already satisfied: exceptiongroup>=1.0.0rc8 in /opt/conda/lib/python3.10/site-packages (from pytest>=3.4.0->pycountry_convert) (1.2.0)\r\n",
      "Requirement already satisfied: tomli>=1 in /opt/conda/lib/python3.10/site-packages (from pytest>=3.4.0->pycountry_convert) (2.0.1)\r\n",
      "Collecting coverage>=5.2.1 (from coverage[toml]>=5.2.1->pytest-cov>=2.5.1->pycountry_convert)\r\n",
      "  Downloading coverage-7.5.1-cp310-cp310-manylinux_2_5_x86_64.manylinux1_x86_64.manylinux_2_17_x86_64.manylinux2014_x86_64.whl.metadata (8.2 kB)\r\n",
      "Requirement already satisfied: pyparsing!=3.0.5,>=2.0.2 in /opt/conda/lib/python3.10/site-packages (from packaging->pytest>=3.4.0->pycountry_convert) (3.1.1)\r\n",
      "Downloading pycountry_convert-0.7.2-py3-none-any.whl (13 kB)\r\n",
      "Downloading pprintpp-0.4.0-py2.py3-none-any.whl (16 kB)\r\n",
      "Downloading pycountry-23.12.11-py3-none-any.whl (6.2 MB)\r\n",
      "\u001b[2K   \u001b[90m━━━━━━━━━━━━━━━━━━━━━━━━━━━━━━━━━━━━━━━━\u001b[0m \u001b[32m6.2/6.2 MB\u001b[0m \u001b[31m56.1 MB/s\u001b[0m eta \u001b[36m0:00:00\u001b[0m\r\n",
      "\u001b[?25hDownloading pytest_cov-5.0.0-py3-none-any.whl (21 kB)\r\n",
      "Downloading pytest_mock-3.14.0-py3-none-any.whl (9.9 kB)\r\n",
      "Downloading repoze.lru-0.7-py3-none-any.whl (10 kB)\r\n",
      "Downloading coverage-7.5.1-cp310-cp310-manylinux_2_5_x86_64.manylinux1_x86_64.manylinux_2_17_x86_64.manylinux2014_x86_64.whl (231 kB)\r\n",
      "\u001b[2K   \u001b[90m━━━━━━━━━━━━━━━━━━━━━━━━━━━━━━━━━━━━━━━━\u001b[0m \u001b[32m231.7/231.7 kB\u001b[0m \u001b[31m11.2 MB/s\u001b[0m eta \u001b[36m0:00:00\u001b[0m\r\n",
      "\u001b[?25hInstalling collected packages: repoze.lru, pprintpp, pycountry, coverage, pytest-mock, pytest-cov, pycountry_convert\r\n",
      "Successfully installed coverage-7.5.1 pprintpp-0.4.0 pycountry-23.12.11 pycountry_convert-0.7.2 pytest-cov-5.0.0 pytest-mock-3.14.0 repoze.lru-0.7\r\n",
      "Note: you may need to restart the kernel to use updated packages.\n"
     ]
    }
   ],
   "source": [
    "pip install pycountry_convert"
   ]
  },
  {
   "cell_type": "code",
   "execution_count": 3,
   "id": "50d89965",
   "metadata": {
    "execution": {
     "iopub.execute_input": "2024-05-19T20:09:03.996003Z",
     "iopub.status.busy": "2024-05-19T20:09:03.995569Z",
     "iopub.status.idle": "2024-05-19T20:09:04.106550Z",
     "shell.execute_reply": "2024-05-19T20:09:04.105215Z"
    },
    "papermill": {
     "duration": 0.126726,
     "end_time": "2024-05-19T20:09:04.112425",
     "exception": false,
     "start_time": "2024-05-19T20:09:03.985699",
     "status": "completed"
    },
    "tags": []
   },
   "outputs": [
    {
     "name": "stderr",
     "output_type": "stream",
     "text": [
      "/tmp/ipykernel_18/3126753980.py:23: FutureWarning: A value is trying to be set on a copy of a DataFrame or Series through chained assignment using an inplace method.\n",
      "The behavior will change in pandas 3.0. This inplace method will never work because the intermediate object on which we are setting values always behaves as a copy.\n",
      "\n",
      "For example, when doing 'df[col].method(value, inplace=True)', try using 'df.method({col: value}, inplace=True)' or df[col] = df[col].method(value) instead, to perform the operation inplace on the original object.\n",
      "\n",
      "\n",
      "  df['City'].fillna('Unknown', inplace=True)\n",
      "/tmp/ipykernel_18/3126753980.py:24: FutureWarning: A value is trying to be set on a copy of a DataFrame or Series through chained assignment using an inplace method.\n",
      "The behavior will change in pandas 3.0. This inplace method will never work because the intermediate object on which we are setting values always behaves as a copy.\n",
      "\n",
      "For example, when doing 'df[col].method(value, inplace=True)', try using 'df.method({col: value}, inplace=True)' or df[col] = df[col].method(value) instead, to perform the operation inplace on the original object.\n",
      "\n",
      "\n",
      "  df['Country'].fillna('Unknown', inplace=True)\n",
      "Processing rows:   0%|          | 0/125 [00:00<?, ?it/s]/opt/conda/lib/python3.10/site-packages/pycountry/db.py:51: UserWarning: Country's official_name not found. Country name provided instead.\n",
      "  warnings.warn(warning_message, UserWarning)\n",
      "/opt/conda/lib/python3.10/site-packages/pycountry/db.py:51: UserWarning: Country's common_name not found. Country name provided instead.\n",
      "  warnings.warn(warning_message, UserWarning)\n",
      "Processing rows: 100%|██████████| 125/125 [00:00<00:00, 1925.53it/s]"
     ]
    },
    {
     "name": "stdout",
     "output_type": "stream",
     "text": [
      "Country: Japan, Continent: Asia\n",
      "Country: USA, Continent: North America\n",
      "Country: Brazil, Continent: South America\n",
      "Country: South Korea, Continent: Asia\n",
      "Country: Mexico, Continent: North America\n",
      "Country: Japan, Continent: Asia\n",
      "Country: Philippines, Continent: Asia\n",
      "Country: India, Continent: Asia\n",
      "Country: India, Continent: Asia\n",
      "Country: Indonesia, Continent: Asia\n",
      "Country: Nigeria, Continent: Africa\n",
      "Country: India, Continent: Asia\n",
      "Country: Egypt, Continent: Africa\n",
      "Country: USA, Continent: North America\n",
      "Country: Argentina, Continent: South America\n",
      "Country: Brazil, Continent: South America\n",
      "Country: Russia, Continent: Europe\n",
      "Country: China, Continent: Asia\n",
      "Country: Pakistan, Continent: Asia\n",
      "Country: France, Continent: Europe\n",
      "Country: Turkey, Continent: Asia\n",
      "Country: Japan, Continent: Asia\n",
      "Country: China, Continent: Asia\n",
      "Country: USA, Continent: North America\n",
      "Error fetching continent for UK: argument of type 'functools._lru_cache_wrapper' is not iterable\n",
      "Country: UK, Continent: Unknown\n",
      "Country: China, Continent: Asia\n",
      "Country: Germany, Continent: Europe\n",
      "Country: Iran, Continent: Asia\n",
      "Country: Colombia, Continent: South America\n",
      "Country: Peru, Continent: South America\n",
      "Country: Thailand, Continent: Asia\n",
      "Country: South Africa, Continent: Africa\n",
      "Country: India, Continent: Asia\n",
      "Country: Taiwan, Continent: Asia\n",
      "Country: Iraq, Continent: Asia\n",
      "Country: Chile, Continent: South America\n",
      "Country: India, Continent: Asia\n",
      "Country: India, Continent: Asia\n",
      "Country: Russia, Continent: Europe\n",
      "Country: USA, Continent: North America\n",
      "Country: Pakistan, Continent: Asia\n",
      "Country: Congo, Continent: Africa\n",
      "Country: USA, Continent: North America\n",
      "Country: Vietnam, Continent: Asia\n",
      "Country: Spain, Continent: Europe\n",
      "Country: China, Continent: Asia\n",
      "Country: Malaysia, Continent: Asia\n",
      "Country: Canada, Continent: North America\n",
      "Country: Italy, Continent: Europe\n",
      "Country: China, Continent: Asia\n",
      "Country: USA, Continent: North America\n",
      "Country: USA, Continent: North America\n",
      "Country: Brazil, Continent: South America\n",
      "Country: Sudan, Continent: Africa\n",
      "Country: Saudi Arabia, Continent: Asia\n",
      "Country: Singapore, Continent: Asia\n",
      "Country: USA, Continent: North America\n",
      "Country: USA, Continent: North America\n",
      "Country: Spain, Continent: Europe\n",
      "Country: USA, Continent: North America\n",
      "Country: Greece, Continent: Europe\n",
      "Country: Germany, Continent: Europe\n",
      "Country: Australia, Continent: Oceania\n",
      "Country: USA, Continent: North America\n",
      "Country: Mexico, Continent: North America\n",
      "Country: USA, Continent: North America\n",
      "Country: Canada, Continent: North America\n",
      "Country: Mexico, Continent: North America\n",
      "Country: Australia, Continent: Oceania\n",
      "Country: Turkey, Continent: Asia\n",
      "Country: Brazil, Continent: South America\n",
      "Country: USA, Continent: North America\n",
      "Country: South Africa, Continent: Africa\n",
      "Country: Brazil, Continent: South America\n",
      "Country: China, Continent: Asia\n",
      "Country: Saudi Arabia, Continent: Asia\n",
      "Country: USA, Continent: North America\n",
      "Country: South Africa, Continent: Africa\n",
      "Country: USA, Continent: North America\n",
      "Country: Brazil, Continent: South America\n",
      "Country: Brazil, Continent: South America\n",
      "Country: Italy, Continent: Europe\n",
      "Country: Italy, Continent: Europe\n",
      "Country: USA, Continent: North America\n",
      "Country: Israel, Continent: Asia\n",
      "Error fetching continent for UK: argument of type 'functools._lru_cache_wrapper' is not iterable\n",
      "Country: UK, Continent: Unknown\n",
      "Country: Germany, Continent: Europe\n",
      "Country: Portugal, Continent: Europe\n",
      "Error fetching continent for UK: argument of type 'functools._lru_cache_wrapper' is not iterable\n",
      "Country: UK, Continent: Unknown\n",
      "Country: Puerto Rico, Continent: North America\n",
      "Country: Poland, Continent: Europe\n",
      "Country: Uzbekistan, Continent: Asia\n",
      "Country: Japan, Continent: Asia\n",
      "Country: Azerbaijan, Continent: Asia\n",
      "Country: USA, Continent: North America\n",
      "Country: USA, Continent: North America\n",
      "Country: Japan, Continent: Asia\n",
      "Country: USA, Continent: North America\n",
      "Country: Taiwan, Continent: Asia\n",
      "Country: Poland, Continent: Europe\n",
      "Country: USA, Continent: North America\n",
      "Country: Germany, Continent: Europe\n",
      "Country: Germany, Continent: Europe\n",
      "Error fetching continent for UAE: \"Invalid Country Alpha-3 code: 'UAE'\"\n",
      "Country: UAE, Continent: Unknown\n",
      "Country: South Africa, Continent: Africa\n",
      "Country: Canada, Continent: North America\n",
      "Country: Lebanon, Continent: Asia\n",
      "Country: Hungary, Continent: Europe\n",
      "Country: USA, Continent: North America\n",
      "Country: USA, Continent: North America\n",
      "Country: Brazil, Continent: South America\n",
      "Country: Zimbabwe, Continent: Africa\n",
      "Country: Brazil, Continent: South America\n",
      "Country: Kuwait, Continent: Asia\n",
      "Country: Germany, Continent: Europe\n",
      "Country: USA, Continent: North America\n",
      "Country: Belgium, Continent: Europe\n",
      "Country: Austria, Continent: Europe\n",
      "Country: USA, Continent: North America\n",
      "Country: Saudi Arabia, Continent: Asia\n",
      "Country: Denmark, Continent: Europe\n",
      "Country: Australia, Continent: Oceania\n",
      "Country: USA, Continent: North America\n",
      "Country: USA, Continent: North America\n",
      "Country: Ghana, Continent: Africa\n",
      "             City  Latitude  Longitude      Country  Population  Land_area  \\\n",
      "0  Tokyo/Yokohama   35.6895   139.6917        Japan    33200000       6993   \n",
      "1  New York Metro   40.7128   -74.0059          USA    17800000       8683   \n",
      "2       Sao Paulo  -23.5505   -46.6333       Brazil    17700000       1968   \n",
      "3   Seoul/Incheon   37.5665   126.9780  South Korea    17500000       1049   \n",
      "4     Mexico City   23.6345  -102.5528       Mexico    17400000       2072   \n",
      "\n",
      "   Density  Number      Continent  \n",
      "0     4750       1           Asia  \n",
      "1     2050       2  North America  \n",
      "2     9000       3  South America  \n",
      "3    16700       4           Asia  \n",
      "4     8400       5  North America  \n"
     ]
    },
    {
     "name": "stderr",
     "output_type": "stream",
     "text": [
      "\n"
     ]
    }
   ],
   "source": [
    "import pandas as pd\n",
    "from tqdm import tqdm\n",
    "import numpy as np  # Import numpy for handling NaN values\n",
    "import pycountry_convert as pc\n",
    "\n",
    "### Function to get continent name from country name\n",
    "def get_continent(country_name: str) -> str:\n",
    "    try:\n",
    "        # Convert country name to ISO-2 country code\n",
    "        country_code = pc.country_name_to_country_alpha2(country_name, cn_name_format=\"default\")\n",
    "        # Convert ISO-2 country code to continent code\n",
    "        continent_code = pc.country_alpha2_to_continent_code(country_code)\n",
    "        # Convert continent code to continent name\n",
    "        continent_name = pc.convert_continent_code_to_continent_name(continent_code)\n",
    "    except Exception as e:\n",
    "        print(f\"Error fetching continent for {country_name}: {e}\")\n",
    "        continent_name = 'Unknown'\n",
    "    return continent_name\n",
    "\n",
    "df = pd.read_csv('/kaggle/input/geodata-for-exercises/cities_world.tsv', sep='\\t')\n",
    "\n",
    "# Replace NaN values with 'Unknown' for City and Country\n",
    "df['City'].fillna('Unknown', inplace=True)\n",
    "df['Country'].fillna('Unknown', inplace=True)\n",
    "\n",
    "# Add a new column for continent\n",
    "df['Continent'] = 'Unknown'\n",
    "\n",
    "# Initialize tqdm progress bar\n",
    "with tqdm(total=len(df), desc=\"Processing rows\") as pbar:\n",
    "    # Process each row in the DataFrame\n",
    "    for index, row in df.iterrows():\n",
    "        country = row['Country']\n",
    "        \n",
    "        if country != 'Unknown':\n",
    "            continent = get_continent(country)\n",
    "            print(f\"Country: {country}, Continent: {continent}\")  # Debug statement\n",
    "            # Add location information to the DataFrame\n",
    "            df.at[index, 'Continent'] = continent\n",
    "        \n",
    "        # Update the tqdm progress bar\n",
    "        pbar.update(1)\n",
    "\n",
    "print(df.head())"
   ]
  },
  {
   "cell_type": "markdown",
   "id": "0122e0c2",
   "metadata": {
    "papermill": {
     "duration": 0.008944,
     "end_time": "2024-05-19T20:09:04.130085",
     "exception": false,
     "start_time": "2024-05-19T20:09:04.121141",
     "status": "completed"
    },
    "tags": []
   },
   "source": [
    "df.to_csv('/kaggle/working/cities_world_with_continent.csv', index=False)"
   ]
  },
  {
   "cell_type": "markdown",
   "id": "cf55efc8",
   "metadata": {
    "papermill": {
     "duration": 0.008272,
     "end_time": "2024-05-19T20:09:04.147091",
     "exception": false,
     "start_time": "2024-05-19T20:09:04.138819",
     "status": "completed"
    },
    "tags": []
   },
   "source": [
    "seems good.\n",
    "\n",
    "Now, do some sunburst charts and a treemap."
   ]
  },
  {
   "cell_type": "code",
   "execution_count": 4,
   "id": "6187a9d0",
   "metadata": {
    "execution": {
     "iopub.execute_input": "2024-05-19T20:09:04.166494Z",
     "iopub.status.busy": "2024-05-19T20:09:04.165731Z",
     "iopub.status.idle": "2024-05-19T20:09:04.187657Z",
     "shell.execute_reply": "2024-05-19T20:09:04.186263Z"
    },
    "papermill": {
     "duration": 0.034901,
     "end_time": "2024-05-19T20:09:04.190540",
     "exception": false,
     "start_time": "2024-05-19T20:09:04.155639",
     "status": "completed"
    },
    "tags": []
   },
   "outputs": [],
   "source": [
    "gr_cat = df[[\"Continent\",\n",
    "             \"Country\"]].groupby([\"Continent\",\n",
    "                                       \"Country\"], as_index=False).size()"
   ]
  },
  {
   "cell_type": "code",
   "execution_count": 5,
   "id": "6e06328f",
   "metadata": {
    "execution": {
     "iopub.execute_input": "2024-05-19T20:09:04.209782Z",
     "iopub.status.busy": "2024-05-19T20:09:04.209324Z",
     "iopub.status.idle": "2024-05-19T20:09:07.264808Z",
     "shell.execute_reply": "2024-05-19T20:09:07.263301Z"
    },
    "papermill": {
     "duration": 3.068286,
     "end_time": "2024-05-19T20:09:07.267622",
     "exception": false,
     "start_time": "2024-05-19T20:09:04.199336",
     "status": "completed"
    },
    "tags": []
   },
   "outputs": [
    {
     "data": {
      "text/html": [
       "        <script type=\"text/javascript\">\n",
       "        window.PlotlyConfig = {MathJaxConfig: 'local'};\n",
       "        if (window.MathJax && window.MathJax.Hub && window.MathJax.Hub.Config) {window.MathJax.Hub.Config({SVG: {font: \"STIX-Web\"}});}\n",
       "        if (typeof require !== 'undefined') {\n",
       "        require.undef(\"plotly\");\n",
       "        requirejs.config({\n",
       "            paths: {\n",
       "                'plotly': ['https://cdn.plot.ly/plotly-2.27.0.min']\n",
       "            }\n",
       "        });\n",
       "        require(['plotly'], function(Plotly) {\n",
       "            window._Plotly = Plotly;\n",
       "        });\n",
       "        }\n",
       "        </script>\n",
       "        "
      ]
     },
     "metadata": {},
     "output_type": "display_data"
    },
    {
     "data": {
      "text/html": [
       "<div>                            <div id=\"c5a04c14-290d-42f7-9d06-819a579c687e\" class=\"plotly-graph-div\" style=\"height:800px; width:1280px;\"></div>            <script type=\"text/javascript\">                require([\"plotly\"], function(Plotly) {                    window.PLOTLYENV=window.PLOTLYENV || {};                                    if (document.getElementById(\"c5a04c14-290d-42f7-9d06-819a579c687e\")) {                    Plotly.newPlot(                        \"c5a04c14-290d-42f7-9d06-819a579c687e\",                        [{\"branchvalues\":\"total\",\"customdata\":[[\"South America\"],[\"Oceania\"],[\"Europe\"],[\"Asia\"],[\"Europe\"],[\"South America\"],[\"North America\"],[\"Asia\"],[\"Asia\"],[\"Asia\"],[\"Asia\"],[\"Asia\"],[\"Asia\"],[\"Asia\"],[\"Asia\"],[\"Europe\"],[\"Europe\"],[\"Asia\"],[\"Africa\"],[\"Europe\"],[\"Europe\"],[\"Africa\"],[\"Europe\"],[\"Africa\"],[\"South America\"],[\"Asia\"],[\"South America\"],[\"Europe\"],[\"Africa\"],[\"Asia\"],[\"Asia\"],[\"Europe\"],[\"North America\"],[\"Europe\"],[\"Asia\"],[\"South America\"],[\"Asia\"],[\"Africa\"],[\"North America\"],[\"Europe\"],[\"Asia\"],[\"Africa\"],[\"Asia\"],[\"Europe\"],[\"Asia\"],[\"Asia\"],[\"Unknown\"],[\"Unknown\"],[\"North America\"],[\"Asia\"],[\"Asia\"],[\"Africa\"],[\"Africa\"],[\"Asia\"],[\"Europe\"],[\"North America\"],[\"Oceania\"],[\"South America\"],[\"Unknown\"]],\"domain\":{\"x\":[0.0,1.0],\"y\":[0.0,1.0]},\"hovertemplate\":\"labels=%{label}\\u003cbr\\u003esize=%{value}\\u003cbr\\u003eparent=%{parent}\\u003cbr\\u003eid=%{id}\\u003cbr\\u003eContinent=%{customdata[0]}\\u003cextra\\u003e\\u003c\\u002fextra\\u003e\",\"ids\":[\"South America\\u002fArgentina\",\"Oceania\\u002fAustralia\",\"Europe\\u002fAustria\",\"Asia\\u002fAzerbaijan\",\"Europe\\u002fBelgium\",\"South America\\u002fBrazil\",\"North America\\u002fCanada\",\"Asia\\u002fIndonesia\",\"Asia\\u002fIran\",\"Asia\\u002fIraq\",\"Asia\\u002fIsrael\",\"Asia\\u002fLebanon\",\"Asia\\u002fJapan\",\"Asia\\u002fIndia\",\"Asia\\u002fMalaysia\",\"Europe\\u002fItaly\",\"Europe\\u002fHungary\",\"Asia\\u002fKuwait\",\"Africa\\u002fGhana\",\"Europe\\u002fGermany\",\"Europe\\u002fFrance\",\"Africa\\u002fEgypt\",\"Europe\\u002fDenmark\",\"Africa\\u002fCongo\",\"South America\\u002fColombia\",\"Asia\\u002fChina\",\"South America\\u002fChile\",\"Europe\\u002fGreece\",\"Africa\\u002fSouth Africa\",\"Asia\\u002fSingapore\",\"Asia\\u002fSaudi Arabia\",\"Europe\\u002fRussia\",\"North America\\u002fPuerto Rico\",\"Europe\\u002fPortugal\",\"Asia\\u002fPhilippines\",\"South America\\u002fPeru\",\"Asia\\u002fPakistan\",\"Africa\\u002fNigeria\",\"North America\\u002fMexico\",\"Europe\\u002fPoland\",\"Asia\\u002fTaiwan\",\"Africa\\u002fSudan\",\"Asia\\u002fSouth Korea\",\"Europe\\u002fSpain\",\"Asia\\u002fThailand\",\"Asia\\u002fTurkey\",\"Unknown\\u002fUAE\",\"Unknown\\u002fUK\",\"North America\\u002fUSA\",\"Asia\\u002fUzbekistan\",\"Asia\\u002fVietnam\",\"Africa\\u002fZimbabwe\",\"Africa\",\"Asia\",\"Europe\",\"North America\",\"Oceania\",\"South America\",\"Unknown\"],\"labels\":[\"Argentina\",\"Australia\",\"Austria\",\"Azerbaijan\",\"Belgium\",\"Brazil\",\"Canada\",\"Indonesia\",\"Iran\",\"Iraq\",\"Israel\",\"Lebanon\",\"Japan\",\"India\",\"Malaysia\",\"Italy\",\"Hungary\",\"Kuwait\",\"Ghana\",\"Germany\",\"France\",\"Egypt\",\"Denmark\",\"Congo\",\"Colombia\",\"China\",\"Chile\",\"Greece\",\"South Africa\",\"Singapore\",\"Saudi Arabia\",\"Russia\",\"Puerto Rico\",\"Portugal\",\"Philippines\",\"Peru\",\"Pakistan\",\"Nigeria\",\"Mexico\",\"Poland\",\"Taiwan\",\"Sudan\",\"South Korea\",\"Spain\",\"Thailand\",\"Turkey\",\"UAE\",\"UK\",\"USA\",\"Uzbekistan\",\"Vietnam\",\"Zimbabwe\",\"Africa\",\"Asia\",\"Europe\",\"North America\",\"Oceania\",\"South America\",\"Unknown\"],\"marker\":{\"colors\":[\"#636efa\",\"#EF553B\",\"#00cc96\",\"#ab63fa\",\"#00cc96\",\"#636efa\",\"#FFA15A\",\"#ab63fa\",\"#ab63fa\",\"#ab63fa\",\"#ab63fa\",\"#ab63fa\",\"#ab63fa\",\"#ab63fa\",\"#ab63fa\",\"#00cc96\",\"#00cc96\",\"#ab63fa\",\"#19d3f3\",\"#00cc96\",\"#00cc96\",\"#19d3f3\",\"#00cc96\",\"#19d3f3\",\"#636efa\",\"#ab63fa\",\"#636efa\",\"#00cc96\",\"#19d3f3\",\"#ab63fa\",\"#ab63fa\",\"#00cc96\",\"#FFA15A\",\"#00cc96\",\"#ab63fa\",\"#636efa\",\"#ab63fa\",\"#19d3f3\",\"#FFA15A\",\"#00cc96\",\"#ab63fa\",\"#19d3f3\",\"#ab63fa\",\"#00cc96\",\"#ab63fa\",\"#ab63fa\",\"#FF6692\",\"#FF6692\",\"#FFA15A\",\"#ab63fa\",\"#ab63fa\",\"#19d3f3\",\"#19d3f3\",\"#ab63fa\",\"#00cc96\",\"#FFA15A\",\"#EF553B\",\"#636efa\",\"#FF6692\"]},\"name\":\"\",\"parents\":[\"South America\",\"Oceania\",\"Europe\",\"Asia\",\"Europe\",\"South America\",\"North America\",\"Asia\",\"Asia\",\"Asia\",\"Asia\",\"Asia\",\"Asia\",\"Asia\",\"Asia\",\"Europe\",\"Europe\",\"Asia\",\"Africa\",\"Europe\",\"Europe\",\"Africa\",\"Europe\",\"Africa\",\"South America\",\"Asia\",\"South America\",\"Europe\",\"Africa\",\"Asia\",\"Asia\",\"Europe\",\"North America\",\"Europe\",\"Asia\",\"South America\",\"Asia\",\"Africa\",\"North America\",\"Europe\",\"Asia\",\"Africa\",\"Asia\",\"Europe\",\"Asia\",\"Asia\",\"Unknown\",\"Unknown\",\"North America\",\"Asia\",\"Asia\",\"Africa\",\"\",\"\",\"\",\"\",\"\",\"\",\"\"],\"values\":[1,3,1,1,1,9,3,1,1,1,1,1,5,6,1,3,1,1,1,6,1,1,1,1,1,6,1,1,4,1,3,2,1,1,1,1,2,1,3,2,2,1,1,2,1,2,1,3,26,1,1,1,10,40,22,33,3,13,4],\"type\":\"sunburst\",\"textinfo\":\"label+percent parent\"}],                        {\"template\":{\"data\":{\"histogram2dcontour\":[{\"type\":\"histogram2dcontour\",\"colorbar\":{\"outlinewidth\":0,\"ticks\":\"\"},\"colorscale\":[[0.0,\"#0d0887\"],[0.1111111111111111,\"#46039f\"],[0.2222222222222222,\"#7201a8\"],[0.3333333333333333,\"#9c179e\"],[0.4444444444444444,\"#bd3786\"],[0.5555555555555556,\"#d8576b\"],[0.6666666666666666,\"#ed7953\"],[0.7777777777777778,\"#fb9f3a\"],[0.8888888888888888,\"#fdca26\"],[1.0,\"#f0f921\"]]}],\"choropleth\":[{\"type\":\"choropleth\",\"colorbar\":{\"outlinewidth\":0,\"ticks\":\"\"}}],\"histogram2d\":[{\"type\":\"histogram2d\",\"colorbar\":{\"outlinewidth\":0,\"ticks\":\"\"},\"colorscale\":[[0.0,\"#0d0887\"],[0.1111111111111111,\"#46039f\"],[0.2222222222222222,\"#7201a8\"],[0.3333333333333333,\"#9c179e\"],[0.4444444444444444,\"#bd3786\"],[0.5555555555555556,\"#d8576b\"],[0.6666666666666666,\"#ed7953\"],[0.7777777777777778,\"#fb9f3a\"],[0.8888888888888888,\"#fdca26\"],[1.0,\"#f0f921\"]]}],\"heatmap\":[{\"type\":\"heatmap\",\"colorbar\":{\"outlinewidth\":0,\"ticks\":\"\"},\"colorscale\":[[0.0,\"#0d0887\"],[0.1111111111111111,\"#46039f\"],[0.2222222222222222,\"#7201a8\"],[0.3333333333333333,\"#9c179e\"],[0.4444444444444444,\"#bd3786\"],[0.5555555555555556,\"#d8576b\"],[0.6666666666666666,\"#ed7953\"],[0.7777777777777778,\"#fb9f3a\"],[0.8888888888888888,\"#fdca26\"],[1.0,\"#f0f921\"]]}],\"heatmapgl\":[{\"type\":\"heatmapgl\",\"colorbar\":{\"outlinewidth\":0,\"ticks\":\"\"},\"colorscale\":[[0.0,\"#0d0887\"],[0.1111111111111111,\"#46039f\"],[0.2222222222222222,\"#7201a8\"],[0.3333333333333333,\"#9c179e\"],[0.4444444444444444,\"#bd3786\"],[0.5555555555555556,\"#d8576b\"],[0.6666666666666666,\"#ed7953\"],[0.7777777777777778,\"#fb9f3a\"],[0.8888888888888888,\"#fdca26\"],[1.0,\"#f0f921\"]]}],\"contourcarpet\":[{\"type\":\"contourcarpet\",\"colorbar\":{\"outlinewidth\":0,\"ticks\":\"\"}}],\"contour\":[{\"type\":\"contour\",\"colorbar\":{\"outlinewidth\":0,\"ticks\":\"\"},\"colorscale\":[[0.0,\"#0d0887\"],[0.1111111111111111,\"#46039f\"],[0.2222222222222222,\"#7201a8\"],[0.3333333333333333,\"#9c179e\"],[0.4444444444444444,\"#bd3786\"],[0.5555555555555556,\"#d8576b\"],[0.6666666666666666,\"#ed7953\"],[0.7777777777777778,\"#fb9f3a\"],[0.8888888888888888,\"#fdca26\"],[1.0,\"#f0f921\"]]}],\"surface\":[{\"type\":\"surface\",\"colorbar\":{\"outlinewidth\":0,\"ticks\":\"\"},\"colorscale\":[[0.0,\"#0d0887\"],[0.1111111111111111,\"#46039f\"],[0.2222222222222222,\"#7201a8\"],[0.3333333333333333,\"#9c179e\"],[0.4444444444444444,\"#bd3786\"],[0.5555555555555556,\"#d8576b\"],[0.6666666666666666,\"#ed7953\"],[0.7777777777777778,\"#fb9f3a\"],[0.8888888888888888,\"#fdca26\"],[1.0,\"#f0f921\"]]}],\"mesh3d\":[{\"type\":\"mesh3d\",\"colorbar\":{\"outlinewidth\":0,\"ticks\":\"\"}}],\"scatter\":[{\"fillpattern\":{\"fillmode\":\"overlay\",\"size\":10,\"solidity\":0.2},\"type\":\"scatter\"}],\"parcoords\":[{\"type\":\"parcoords\",\"line\":{\"colorbar\":{\"outlinewidth\":0,\"ticks\":\"\"}}}],\"scatterpolargl\":[{\"type\":\"scatterpolargl\",\"marker\":{\"colorbar\":{\"outlinewidth\":0,\"ticks\":\"\"}}}],\"bar\":[{\"error_x\":{\"color\":\"#2a3f5f\"},\"error_y\":{\"color\":\"#2a3f5f\"},\"marker\":{\"line\":{\"color\":\"#E5ECF6\",\"width\":0.5},\"pattern\":{\"fillmode\":\"overlay\",\"size\":10,\"solidity\":0.2}},\"type\":\"bar\"}],\"scattergeo\":[{\"type\":\"scattergeo\",\"marker\":{\"colorbar\":{\"outlinewidth\":0,\"ticks\":\"\"}}}],\"scatterpolar\":[{\"type\":\"scatterpolar\",\"marker\":{\"colorbar\":{\"outlinewidth\":0,\"ticks\":\"\"}}}],\"histogram\":[{\"marker\":{\"pattern\":{\"fillmode\":\"overlay\",\"size\":10,\"solidity\":0.2}},\"type\":\"histogram\"}],\"scattergl\":[{\"type\":\"scattergl\",\"marker\":{\"colorbar\":{\"outlinewidth\":0,\"ticks\":\"\"}}}],\"scatter3d\":[{\"type\":\"scatter3d\",\"line\":{\"colorbar\":{\"outlinewidth\":0,\"ticks\":\"\"}},\"marker\":{\"colorbar\":{\"outlinewidth\":0,\"ticks\":\"\"}}}],\"scattermapbox\":[{\"type\":\"scattermapbox\",\"marker\":{\"colorbar\":{\"outlinewidth\":0,\"ticks\":\"\"}}}],\"scatterternary\":[{\"type\":\"scatterternary\",\"marker\":{\"colorbar\":{\"outlinewidth\":0,\"ticks\":\"\"}}}],\"scattercarpet\":[{\"type\":\"scattercarpet\",\"marker\":{\"colorbar\":{\"outlinewidth\":0,\"ticks\":\"\"}}}],\"carpet\":[{\"aaxis\":{\"endlinecolor\":\"#2a3f5f\",\"gridcolor\":\"white\",\"linecolor\":\"white\",\"minorgridcolor\":\"white\",\"startlinecolor\":\"#2a3f5f\"},\"baxis\":{\"endlinecolor\":\"#2a3f5f\",\"gridcolor\":\"white\",\"linecolor\":\"white\",\"minorgridcolor\":\"white\",\"startlinecolor\":\"#2a3f5f\"},\"type\":\"carpet\"}],\"table\":[{\"cells\":{\"fill\":{\"color\":\"#EBF0F8\"},\"line\":{\"color\":\"white\"}},\"header\":{\"fill\":{\"color\":\"#C8D4E3\"},\"line\":{\"color\":\"white\"}},\"type\":\"table\"}],\"barpolar\":[{\"marker\":{\"line\":{\"color\":\"#E5ECF6\",\"width\":0.5},\"pattern\":{\"fillmode\":\"overlay\",\"size\":10,\"solidity\":0.2}},\"type\":\"barpolar\"}],\"pie\":[{\"automargin\":true,\"type\":\"pie\"}]},\"layout\":{\"autotypenumbers\":\"strict\",\"colorway\":[\"#636efa\",\"#EF553B\",\"#00cc96\",\"#ab63fa\",\"#FFA15A\",\"#19d3f3\",\"#FF6692\",\"#B6E880\",\"#FF97FF\",\"#FECB52\"],\"font\":{\"color\":\"#2a3f5f\"},\"hovermode\":\"closest\",\"hoverlabel\":{\"align\":\"left\"},\"paper_bgcolor\":\"white\",\"plot_bgcolor\":\"#E5ECF6\",\"polar\":{\"bgcolor\":\"#E5ECF6\",\"angularaxis\":{\"gridcolor\":\"white\",\"linecolor\":\"white\",\"ticks\":\"\"},\"radialaxis\":{\"gridcolor\":\"white\",\"linecolor\":\"white\",\"ticks\":\"\"}},\"ternary\":{\"bgcolor\":\"#E5ECF6\",\"aaxis\":{\"gridcolor\":\"white\",\"linecolor\":\"white\",\"ticks\":\"\"},\"baxis\":{\"gridcolor\":\"white\",\"linecolor\":\"white\",\"ticks\":\"\"},\"caxis\":{\"gridcolor\":\"white\",\"linecolor\":\"white\",\"ticks\":\"\"}},\"coloraxis\":{\"colorbar\":{\"outlinewidth\":0,\"ticks\":\"\"}},\"colorscale\":{\"sequential\":[[0.0,\"#0d0887\"],[0.1111111111111111,\"#46039f\"],[0.2222222222222222,\"#7201a8\"],[0.3333333333333333,\"#9c179e\"],[0.4444444444444444,\"#bd3786\"],[0.5555555555555556,\"#d8576b\"],[0.6666666666666666,\"#ed7953\"],[0.7777777777777778,\"#fb9f3a\"],[0.8888888888888888,\"#fdca26\"],[1.0,\"#f0f921\"]],\"sequentialminus\":[[0.0,\"#0d0887\"],[0.1111111111111111,\"#46039f\"],[0.2222222222222222,\"#7201a8\"],[0.3333333333333333,\"#9c179e\"],[0.4444444444444444,\"#bd3786\"],[0.5555555555555556,\"#d8576b\"],[0.6666666666666666,\"#ed7953\"],[0.7777777777777778,\"#fb9f3a\"],[0.8888888888888888,\"#fdca26\"],[1.0,\"#f0f921\"]],\"diverging\":[[0,\"#8e0152\"],[0.1,\"#c51b7d\"],[0.2,\"#de77ae\"],[0.3,\"#f1b6da\"],[0.4,\"#fde0ef\"],[0.5,\"#f7f7f7\"],[0.6,\"#e6f5d0\"],[0.7,\"#b8e186\"],[0.8,\"#7fbc41\"],[0.9,\"#4d9221\"],[1,\"#276419\"]]},\"xaxis\":{\"gridcolor\":\"white\",\"linecolor\":\"white\",\"ticks\":\"\",\"title\":{\"standoff\":15},\"zerolinecolor\":\"white\",\"automargin\":true,\"zerolinewidth\":2},\"yaxis\":{\"gridcolor\":\"white\",\"linecolor\":\"white\",\"ticks\":\"\",\"title\":{\"standoff\":15},\"zerolinecolor\":\"white\",\"automargin\":true,\"zerolinewidth\":2},\"scene\":{\"xaxis\":{\"backgroundcolor\":\"#E5ECF6\",\"gridcolor\":\"white\",\"linecolor\":\"white\",\"showbackground\":true,\"ticks\":\"\",\"zerolinecolor\":\"white\",\"gridwidth\":2},\"yaxis\":{\"backgroundcolor\":\"#E5ECF6\",\"gridcolor\":\"white\",\"linecolor\":\"white\",\"showbackground\":true,\"ticks\":\"\",\"zerolinecolor\":\"white\",\"gridwidth\":2},\"zaxis\":{\"backgroundcolor\":\"#E5ECF6\",\"gridcolor\":\"white\",\"linecolor\":\"white\",\"showbackground\":true,\"ticks\":\"\",\"zerolinecolor\":\"white\",\"gridwidth\":2}},\"shapedefaults\":{\"line\":{\"color\":\"#2a3f5f\"}},\"annotationdefaults\":{\"arrowcolor\":\"#2a3f5f\",\"arrowhead\":0,\"arrowwidth\":1},\"geo\":{\"bgcolor\":\"white\",\"landcolor\":\"#E5ECF6\",\"subunitcolor\":\"white\",\"showland\":true,\"showlakes\":true,\"lakecolor\":\"white\"},\"title\":{\"x\":0.05},\"mapbox\":{\"style\":\"light\"}}},\"legend\":{\"tracegroupgap\":0},\"title\":{\"text\":\"\\u003cspan style='font-size:18px;'\\u003e\\u003cb\\u003eContinents and Countries in the dataset\\u003c\\u002fb\\u003e\\u003c\\u002fspan\\u003e\\u003cb\\u003e\\u003c\\u002fb\\u003e\"},\"height\":800,\"width\":1280,\"font\":{\"size\":10},\"margin\":{\"l\":10,\"r\":10,\"t\":30,\"b\":50}},                        {\"responsive\": true}                    ).then(function(){\n",
       "                            \n",
       "var gd = document.getElementById('c5a04c14-290d-42f7-9d06-819a579c687e');\n",
       "var x = new MutationObserver(function (mutations, observer) {{\n",
       "        var display = window.getComputedStyle(gd).display;\n",
       "        if (!display || display === 'none') {{\n",
       "            console.log([gd, 'removed!']);\n",
       "            Plotly.purge(gd);\n",
       "            observer.disconnect();\n",
       "        }}\n",
       "}});\n",
       "\n",
       "// Listen for the removal of the full notebook cells\n",
       "var notebookContainer = gd.closest('#notebook-container');\n",
       "if (notebookContainer) {{\n",
       "    x.observe(notebookContainer, {childList: true});\n",
       "}}\n",
       "\n",
       "// Listen for the clearing of the current output cell\n",
       "var outputEl = gd.closest('.output');\n",
       "if (outputEl) {{\n",
       "    x.observe(outputEl, {childList: true});\n",
       "}}\n",
       "\n",
       "                        })                };                });            </script>        </div>"
      ]
     },
     "metadata": {},
     "output_type": "display_data"
    }
   ],
   "source": [
    "import plotly.express as px\n",
    "\n",
    "fig = px.sunburst(gr_cat, width=1280, height=800,\n",
    "                  path=[\"Continent\", \"Country\"], values=\"size\",\n",
    "                  color=\"Continent\",\n",
    "                  title=\"<span style='font-size:18px;'><b>Continents and Countries in the dataset</b></span><b></b>\"\n",
    "                  )\n",
    "fig.update_layout(font_size=10, margin=dict(l=10, r=10, t=30, b=50))\n",
    "fig.update_traces(textinfo=\"label+percent parent\")\n",
    "fig.show()"
   ]
  },
  {
   "cell_type": "code",
   "execution_count": 6,
   "id": "1992859b",
   "metadata": {
    "execution": {
     "iopub.execute_input": "2024-05-19T20:09:07.288894Z",
     "iopub.status.busy": "2024-05-19T20:09:07.288469Z",
     "iopub.status.idle": "2024-05-19T20:09:07.299254Z",
     "shell.execute_reply": "2024-05-19T20:09:07.297976Z"
    },
    "papermill": {
     "duration": 0.024744,
     "end_time": "2024-05-19T20:09:07.302232",
     "exception": false,
     "start_time": "2024-05-19T20:09:07.277488",
     "status": "completed"
    },
    "tags": []
   },
   "outputs": [],
   "source": [
    "gr2_cat = df.groupby(['Continent', 'Country'], as_index=False).agg({'Population': 'sum'})"
   ]
  },
  {
   "cell_type": "code",
   "execution_count": 7,
   "id": "d8b105b2",
   "metadata": {
    "execution": {
     "iopub.execute_input": "2024-05-19T20:09:07.324004Z",
     "iopub.status.busy": "2024-05-19T20:09:07.323184Z",
     "iopub.status.idle": "2024-05-19T20:09:07.427222Z",
     "shell.execute_reply": "2024-05-19T20:09:07.426033Z"
    },
    "papermill": {
     "duration": 0.118202,
     "end_time": "2024-05-19T20:09:07.429784",
     "exception": false,
     "start_time": "2024-05-19T20:09:07.311582",
     "status": "completed"
    },
    "tags": []
   },
   "outputs": [
    {
     "data": {
      "text/html": [
       "<div>                            <div id=\"0a10b82c-4479-4f0b-86cb-c9c906adca22\" class=\"plotly-graph-div\" style=\"height:800px; width:1280px;\"></div>            <script type=\"text/javascript\">                require([\"plotly\"], function(Plotly) {                    window.PLOTLYENV=window.PLOTLYENV || {};                                    if (document.getElementById(\"0a10b82c-4479-4f0b-86cb-c9c906adca22\")) {                    Plotly.newPlot(                        \"0a10b82c-4479-4f0b-86cb-c9c906adca22\",                        [{\"branchvalues\":\"total\",\"customdata\":[[\"South America\"],[\"Oceania\"],[\"Europe\"],[\"Asia\"],[\"Europe\"],[\"South America\"],[\"North America\"],[\"Asia\"],[\"Asia\"],[\"Asia\"],[\"Asia\"],[\"Asia\"],[\"Asia\"],[\"Asia\"],[\"Asia\"],[\"Europe\"],[\"Europe\"],[\"Asia\"],[\"Africa\"],[\"Europe\"],[\"Europe\"],[\"Africa\"],[\"Europe\"],[\"Africa\"],[\"South America\"],[\"Asia\"],[\"South America\"],[\"Europe\"],[\"Africa\"],[\"Asia\"],[\"Asia\"],[\"Europe\"],[\"North America\"],[\"Europe\"],[\"Asia\"],[\"South America\"],[\"Asia\"],[\"Africa\"],[\"North America\"],[\"Europe\"],[\"Asia\"],[\"Africa\"],[\"Asia\"],[\"Europe\"],[\"Asia\"],[\"Asia\"],[\"Unknown\"],[\"Unknown\"],[\"North America\"],[\"Asia\"],[\"Asia\"],[\"Africa\"],[\"Africa\"],[\"Asia\"],[\"Europe\"],[\"North America\"],[\"Oceania\"],[\"South America\"],[\"Unknown\"]],\"domain\":{\"x\":[0.0,1.0],\"y\":[0.0,1.0]},\"hovertemplate\":\"labels=%{label}\\u003cbr\\u003ePopulation=%{value}\\u003cbr\\u003eparent=%{parent}\\u003cbr\\u003eid=%{id}\\u003cbr\\u003eContinent=%{customdata[0]}\\u003cextra\\u003e\\u003c\\u002fextra\\u003e\",\"ids\":[\"South America\\u002fArgentina\",\"Oceania\\u002fAustralia\",\"Europe\\u002fAustria\",\"Asia\\u002fAzerbaijan\",\"Europe\\u002fBelgium\",\"South America\\u002fBrazil\",\"North America\\u002fCanada\",\"Asia\\u002fIndonesia\",\"Asia\\u002fIran\",\"Asia\\u002fIraq\",\"Asia\\u002fIsrael\",\"Asia\\u002fLebanon\",\"Asia\\u002fJapan\",\"Asia\\u002fIndia\",\"Asia\\u002fMalaysia\",\"Europe\\u002fItaly\",\"Europe\\u002fHungary\",\"Asia\\u002fKuwait\",\"Africa\\u002fGhana\",\"Europe\\u002fGermany\",\"Europe\\u002fFrance\",\"Africa\\u002fEgypt\",\"Europe\\u002fDenmark\",\"Africa\\u002fCongo\",\"South America\\u002fColombia\",\"Asia\\u002fChina\",\"South America\\u002fChile\",\"Europe\\u002fGreece\",\"Africa\\u002fSouth Africa\",\"Asia\\u002fSingapore\",\"Asia\\u002fSaudi Arabia\",\"Europe\\u002fRussia\",\"North America\\u002fPuerto Rico\",\"Europe\\u002fPortugal\",\"Asia\\u002fPhilippines\",\"South America\\u002fPeru\",\"Asia\\u002fPakistan\",\"Africa\\u002fNigeria\",\"North America\\u002fMexico\",\"Europe\\u002fPoland\",\"Asia\\u002fTaiwan\",\"Africa\\u002fSudan\",\"Asia\\u002fSouth Korea\",\"Europe\\u002fSpain\",\"Asia\\u002fThailand\",\"Asia\\u002fTurkey\",\"Unknown\\u002fUAE\",\"Unknown\\u002fUK\",\"North America\\u002fUSA\",\"Asia\\u002fUzbekistan\",\"Asia\\u002fVietnam\",\"Africa\\u002fZimbabwe\",\"Africa\",\"Asia\",\"Europe\",\"North America\",\"Oceania\",\"South America\",\"Unknown\"],\"labels\":[\"Argentina\",\"Australia\",\"Austria\",\"Azerbaijan\",\"Belgium\",\"Brazil\",\"Canada\",\"Indonesia\",\"Iran\",\"Iraq\",\"Israel\",\"Lebanon\",\"Japan\",\"India\",\"Malaysia\",\"Italy\",\"Hungary\",\"Kuwait\",\"Ghana\",\"Germany\",\"France\",\"Egypt\",\"Denmark\",\"Congo\",\"Colombia\",\"China\",\"Chile\",\"Greece\",\"South Africa\",\"Singapore\",\"Saudi Arabia\",\"Russia\",\"Puerto Rico\",\"Portugal\",\"Philippines\",\"Peru\",\"Pakistan\",\"Nigeria\",\"Mexico\",\"Poland\",\"Taiwan\",\"Sudan\",\"South Korea\",\"Spain\",\"Thailand\",\"Turkey\",\"UAE\",\"UK\",\"USA\",\"Uzbekistan\",\"Vietnam\",\"Zimbabwe\",\"Africa\",\"Asia\",\"Europe\",\"North America\",\"Oceania\",\"South America\",\"Unknown\"],\"marker\":{\"colors\":[\"#636efa\",\"#EF553B\",\"#00cc96\",\"#ab63fa\",\"#00cc96\",\"#636efa\",\"#FFA15A\",\"#ab63fa\",\"#ab63fa\",\"#ab63fa\",\"#ab63fa\",\"#ab63fa\",\"#ab63fa\",\"#ab63fa\",\"#ab63fa\",\"#00cc96\",\"#00cc96\",\"#ab63fa\",\"#19d3f3\",\"#00cc96\",\"#00cc96\",\"#19d3f3\",\"#00cc96\",\"#19d3f3\",\"#636efa\",\"#ab63fa\",\"#636efa\",\"#00cc96\",\"#19d3f3\",\"#ab63fa\",\"#ab63fa\",\"#00cc96\",\"#FFA15A\",\"#00cc96\",\"#ab63fa\",\"#636efa\",\"#ab63fa\",\"#19d3f3\",\"#FFA15A\",\"#00cc96\",\"#ab63fa\",\"#19d3f3\",\"#ab63fa\",\"#00cc96\",\"#ab63fa\",\"#ab63fa\",\"#FF6692\",\"#FF6692\",\"#FFA15A\",\"#ab63fa\",\"#ab63fa\",\"#19d3f3\",\"#19d3f3\",\"#ab63fa\",\"#00cc96\",\"#FFA15A\",\"#EF553B\",\"#636efa\",\"#FF6692\"]},\"name\":\"\",\"parents\":[\"South America\",\"Oceania\",\"Europe\",\"Asia\",\"Europe\",\"South America\",\"North America\",\"Asia\",\"Asia\",\"Asia\",\"Asia\",\"Asia\",\"Asia\",\"Asia\",\"Asia\",\"Europe\",\"Europe\",\"Asia\",\"Africa\",\"Europe\",\"Europe\",\"Africa\",\"Europe\",\"Africa\",\"South America\",\"Asia\",\"South America\",\"Europe\",\"Africa\",\"Asia\",\"Asia\",\"Europe\",\"North America\",\"Europe\",\"Asia\",\"South America\",\"Asia\",\"Africa\",\"North America\",\"Europe\",\"Asia\",\"Africa\",\"Asia\",\"Europe\",\"Asia\",\"Asia\",\"Unknown\",\"Unknown\",\"North America\",\"Asia\",\"Asia\",\"Africa\",\"\",\"\",\"\",\"\",\"\",\"\",\"\"],\"values\":[11200000,8172000,1550000,2100000,1570000,46850000,9413000,14250000,7250000,5500000,2300000,1800000,62850000,58000000,4400000,9150000,1800000,1600000,1500000,18770000,9645000,12200000,1525000,5000000,7000000,38314000,5425000,3685000,13450000,4000000,8275000,15800000,2217000,2250000,14750000,7000000,14900000,13400000,24100000,4200000,7700000,4000000,17500000,8800000,6500000,12100000,1900000,12807000,103086000,2200000,4900000,1750000,51300000,291189000,78745000,138816000,8172000,77475000,14707000],\"type\":\"sunburst\",\"textinfo\":\"label+percent parent\"}],                        {\"template\":{\"data\":{\"histogram2dcontour\":[{\"type\":\"histogram2dcontour\",\"colorbar\":{\"outlinewidth\":0,\"ticks\":\"\"},\"colorscale\":[[0.0,\"#0d0887\"],[0.1111111111111111,\"#46039f\"],[0.2222222222222222,\"#7201a8\"],[0.3333333333333333,\"#9c179e\"],[0.4444444444444444,\"#bd3786\"],[0.5555555555555556,\"#d8576b\"],[0.6666666666666666,\"#ed7953\"],[0.7777777777777778,\"#fb9f3a\"],[0.8888888888888888,\"#fdca26\"],[1.0,\"#f0f921\"]]}],\"choropleth\":[{\"type\":\"choropleth\",\"colorbar\":{\"outlinewidth\":0,\"ticks\":\"\"}}],\"histogram2d\":[{\"type\":\"histogram2d\",\"colorbar\":{\"outlinewidth\":0,\"ticks\":\"\"},\"colorscale\":[[0.0,\"#0d0887\"],[0.1111111111111111,\"#46039f\"],[0.2222222222222222,\"#7201a8\"],[0.3333333333333333,\"#9c179e\"],[0.4444444444444444,\"#bd3786\"],[0.5555555555555556,\"#d8576b\"],[0.6666666666666666,\"#ed7953\"],[0.7777777777777778,\"#fb9f3a\"],[0.8888888888888888,\"#fdca26\"],[1.0,\"#f0f921\"]]}],\"heatmap\":[{\"type\":\"heatmap\",\"colorbar\":{\"outlinewidth\":0,\"ticks\":\"\"},\"colorscale\":[[0.0,\"#0d0887\"],[0.1111111111111111,\"#46039f\"],[0.2222222222222222,\"#7201a8\"],[0.3333333333333333,\"#9c179e\"],[0.4444444444444444,\"#bd3786\"],[0.5555555555555556,\"#d8576b\"],[0.6666666666666666,\"#ed7953\"],[0.7777777777777778,\"#fb9f3a\"],[0.8888888888888888,\"#fdca26\"],[1.0,\"#f0f921\"]]}],\"heatmapgl\":[{\"type\":\"heatmapgl\",\"colorbar\":{\"outlinewidth\":0,\"ticks\":\"\"},\"colorscale\":[[0.0,\"#0d0887\"],[0.1111111111111111,\"#46039f\"],[0.2222222222222222,\"#7201a8\"],[0.3333333333333333,\"#9c179e\"],[0.4444444444444444,\"#bd3786\"],[0.5555555555555556,\"#d8576b\"],[0.6666666666666666,\"#ed7953\"],[0.7777777777777778,\"#fb9f3a\"],[0.8888888888888888,\"#fdca26\"],[1.0,\"#f0f921\"]]}],\"contourcarpet\":[{\"type\":\"contourcarpet\",\"colorbar\":{\"outlinewidth\":0,\"ticks\":\"\"}}],\"contour\":[{\"type\":\"contour\",\"colorbar\":{\"outlinewidth\":0,\"ticks\":\"\"},\"colorscale\":[[0.0,\"#0d0887\"],[0.1111111111111111,\"#46039f\"],[0.2222222222222222,\"#7201a8\"],[0.3333333333333333,\"#9c179e\"],[0.4444444444444444,\"#bd3786\"],[0.5555555555555556,\"#d8576b\"],[0.6666666666666666,\"#ed7953\"],[0.7777777777777778,\"#fb9f3a\"],[0.8888888888888888,\"#fdca26\"],[1.0,\"#f0f921\"]]}],\"surface\":[{\"type\":\"surface\",\"colorbar\":{\"outlinewidth\":0,\"ticks\":\"\"},\"colorscale\":[[0.0,\"#0d0887\"],[0.1111111111111111,\"#46039f\"],[0.2222222222222222,\"#7201a8\"],[0.3333333333333333,\"#9c179e\"],[0.4444444444444444,\"#bd3786\"],[0.5555555555555556,\"#d8576b\"],[0.6666666666666666,\"#ed7953\"],[0.7777777777777778,\"#fb9f3a\"],[0.8888888888888888,\"#fdca26\"],[1.0,\"#f0f921\"]]}],\"mesh3d\":[{\"type\":\"mesh3d\",\"colorbar\":{\"outlinewidth\":0,\"ticks\":\"\"}}],\"scatter\":[{\"fillpattern\":{\"fillmode\":\"overlay\",\"size\":10,\"solidity\":0.2},\"type\":\"scatter\"}],\"parcoords\":[{\"type\":\"parcoords\",\"line\":{\"colorbar\":{\"outlinewidth\":0,\"ticks\":\"\"}}}],\"scatterpolargl\":[{\"type\":\"scatterpolargl\",\"marker\":{\"colorbar\":{\"outlinewidth\":0,\"ticks\":\"\"}}}],\"bar\":[{\"error_x\":{\"color\":\"#2a3f5f\"},\"error_y\":{\"color\":\"#2a3f5f\"},\"marker\":{\"line\":{\"color\":\"#E5ECF6\",\"width\":0.5},\"pattern\":{\"fillmode\":\"overlay\",\"size\":10,\"solidity\":0.2}},\"type\":\"bar\"}],\"scattergeo\":[{\"type\":\"scattergeo\",\"marker\":{\"colorbar\":{\"outlinewidth\":0,\"ticks\":\"\"}}}],\"scatterpolar\":[{\"type\":\"scatterpolar\",\"marker\":{\"colorbar\":{\"outlinewidth\":0,\"ticks\":\"\"}}}],\"histogram\":[{\"marker\":{\"pattern\":{\"fillmode\":\"overlay\",\"size\":10,\"solidity\":0.2}},\"type\":\"histogram\"}],\"scattergl\":[{\"type\":\"scattergl\",\"marker\":{\"colorbar\":{\"outlinewidth\":0,\"ticks\":\"\"}}}],\"scatter3d\":[{\"type\":\"scatter3d\",\"line\":{\"colorbar\":{\"outlinewidth\":0,\"ticks\":\"\"}},\"marker\":{\"colorbar\":{\"outlinewidth\":0,\"ticks\":\"\"}}}],\"scattermapbox\":[{\"type\":\"scattermapbox\",\"marker\":{\"colorbar\":{\"outlinewidth\":0,\"ticks\":\"\"}}}],\"scatterternary\":[{\"type\":\"scatterternary\",\"marker\":{\"colorbar\":{\"outlinewidth\":0,\"ticks\":\"\"}}}],\"scattercarpet\":[{\"type\":\"scattercarpet\",\"marker\":{\"colorbar\":{\"outlinewidth\":0,\"ticks\":\"\"}}}],\"carpet\":[{\"aaxis\":{\"endlinecolor\":\"#2a3f5f\",\"gridcolor\":\"white\",\"linecolor\":\"white\",\"minorgridcolor\":\"white\",\"startlinecolor\":\"#2a3f5f\"},\"baxis\":{\"endlinecolor\":\"#2a3f5f\",\"gridcolor\":\"white\",\"linecolor\":\"white\",\"minorgridcolor\":\"white\",\"startlinecolor\":\"#2a3f5f\"},\"type\":\"carpet\"}],\"table\":[{\"cells\":{\"fill\":{\"color\":\"#EBF0F8\"},\"line\":{\"color\":\"white\"}},\"header\":{\"fill\":{\"color\":\"#C8D4E3\"},\"line\":{\"color\":\"white\"}},\"type\":\"table\"}],\"barpolar\":[{\"marker\":{\"line\":{\"color\":\"#E5ECF6\",\"width\":0.5},\"pattern\":{\"fillmode\":\"overlay\",\"size\":10,\"solidity\":0.2}},\"type\":\"barpolar\"}],\"pie\":[{\"automargin\":true,\"type\":\"pie\"}]},\"layout\":{\"autotypenumbers\":\"strict\",\"colorway\":[\"#636efa\",\"#EF553B\",\"#00cc96\",\"#ab63fa\",\"#FFA15A\",\"#19d3f3\",\"#FF6692\",\"#B6E880\",\"#FF97FF\",\"#FECB52\"],\"font\":{\"color\":\"#2a3f5f\"},\"hovermode\":\"closest\",\"hoverlabel\":{\"align\":\"left\"},\"paper_bgcolor\":\"white\",\"plot_bgcolor\":\"#E5ECF6\",\"polar\":{\"bgcolor\":\"#E5ECF6\",\"angularaxis\":{\"gridcolor\":\"white\",\"linecolor\":\"white\",\"ticks\":\"\"},\"radialaxis\":{\"gridcolor\":\"white\",\"linecolor\":\"white\",\"ticks\":\"\"}},\"ternary\":{\"bgcolor\":\"#E5ECF6\",\"aaxis\":{\"gridcolor\":\"white\",\"linecolor\":\"white\",\"ticks\":\"\"},\"baxis\":{\"gridcolor\":\"white\",\"linecolor\":\"white\",\"ticks\":\"\"},\"caxis\":{\"gridcolor\":\"white\",\"linecolor\":\"white\",\"ticks\":\"\"}},\"coloraxis\":{\"colorbar\":{\"outlinewidth\":0,\"ticks\":\"\"}},\"colorscale\":{\"sequential\":[[0.0,\"#0d0887\"],[0.1111111111111111,\"#46039f\"],[0.2222222222222222,\"#7201a8\"],[0.3333333333333333,\"#9c179e\"],[0.4444444444444444,\"#bd3786\"],[0.5555555555555556,\"#d8576b\"],[0.6666666666666666,\"#ed7953\"],[0.7777777777777778,\"#fb9f3a\"],[0.8888888888888888,\"#fdca26\"],[1.0,\"#f0f921\"]],\"sequentialminus\":[[0.0,\"#0d0887\"],[0.1111111111111111,\"#46039f\"],[0.2222222222222222,\"#7201a8\"],[0.3333333333333333,\"#9c179e\"],[0.4444444444444444,\"#bd3786\"],[0.5555555555555556,\"#d8576b\"],[0.6666666666666666,\"#ed7953\"],[0.7777777777777778,\"#fb9f3a\"],[0.8888888888888888,\"#fdca26\"],[1.0,\"#f0f921\"]],\"diverging\":[[0,\"#8e0152\"],[0.1,\"#c51b7d\"],[0.2,\"#de77ae\"],[0.3,\"#f1b6da\"],[0.4,\"#fde0ef\"],[0.5,\"#f7f7f7\"],[0.6,\"#e6f5d0\"],[0.7,\"#b8e186\"],[0.8,\"#7fbc41\"],[0.9,\"#4d9221\"],[1,\"#276419\"]]},\"xaxis\":{\"gridcolor\":\"white\",\"linecolor\":\"white\",\"ticks\":\"\",\"title\":{\"standoff\":15},\"zerolinecolor\":\"white\",\"automargin\":true,\"zerolinewidth\":2},\"yaxis\":{\"gridcolor\":\"white\",\"linecolor\":\"white\",\"ticks\":\"\",\"title\":{\"standoff\":15},\"zerolinecolor\":\"white\",\"automargin\":true,\"zerolinewidth\":2},\"scene\":{\"xaxis\":{\"backgroundcolor\":\"#E5ECF6\",\"gridcolor\":\"white\",\"linecolor\":\"white\",\"showbackground\":true,\"ticks\":\"\",\"zerolinecolor\":\"white\",\"gridwidth\":2},\"yaxis\":{\"backgroundcolor\":\"#E5ECF6\",\"gridcolor\":\"white\",\"linecolor\":\"white\",\"showbackground\":true,\"ticks\":\"\",\"zerolinecolor\":\"white\",\"gridwidth\":2},\"zaxis\":{\"backgroundcolor\":\"#E5ECF6\",\"gridcolor\":\"white\",\"linecolor\":\"white\",\"showbackground\":true,\"ticks\":\"\",\"zerolinecolor\":\"white\",\"gridwidth\":2}},\"shapedefaults\":{\"line\":{\"color\":\"#2a3f5f\"}},\"annotationdefaults\":{\"arrowcolor\":\"#2a3f5f\",\"arrowhead\":0,\"arrowwidth\":1},\"geo\":{\"bgcolor\":\"white\",\"landcolor\":\"#E5ECF6\",\"subunitcolor\":\"white\",\"showland\":true,\"showlakes\":true,\"lakecolor\":\"white\"},\"title\":{\"x\":0.05},\"mapbox\":{\"style\":\"light\"}}},\"legend\":{\"tracegroupgap\":0},\"title\":{\"text\":\"\\u003cspan style='font-size:18px;'\\u003e\\u003cb\\u003eContinents and Countries by Population\\u003c\\u002fb\\u003e\\u003c\\u002fspan\\u003e\\u003cb\\u003e\\u003c\\u002fb\\u003e\"},\"height\":800,\"width\":1280,\"font\":{\"size\":10},\"margin\":{\"l\":10,\"r\":10,\"t\":30,\"b\":50}},                        {\"responsive\": true}                    ).then(function(){\n",
       "                            \n",
       "var gd = document.getElementById('0a10b82c-4479-4f0b-86cb-c9c906adca22');\n",
       "var x = new MutationObserver(function (mutations, observer) {{\n",
       "        var display = window.getComputedStyle(gd).display;\n",
       "        if (!display || display === 'none') {{\n",
       "            console.log([gd, 'removed!']);\n",
       "            Plotly.purge(gd);\n",
       "            observer.disconnect();\n",
       "        }}\n",
       "}});\n",
       "\n",
       "// Listen for the removal of the full notebook cells\n",
       "var notebookContainer = gd.closest('#notebook-container');\n",
       "if (notebookContainer) {{\n",
       "    x.observe(notebookContainer, {childList: true});\n",
       "}}\n",
       "\n",
       "// Listen for the clearing of the current output cell\n",
       "var outputEl = gd.closest('.output');\n",
       "if (outputEl) {{\n",
       "    x.observe(outputEl, {childList: true});\n",
       "}}\n",
       "\n",
       "                        })                };                });            </script>        </div>"
      ]
     },
     "metadata": {},
     "output_type": "display_data"
    }
   ],
   "source": [
    "import plotly.express as px\n",
    "\n",
    "# Ensure your DataFrame has the necessary columns\n",
    "# gr_cat should be the DataFrame containing the columns \"Continent\", \"Country\", \"City\", and \"Population\"\n",
    "\n",
    "fig = px.sunburst(gr2_cat, \n",
    "                  width=1280, \n",
    "                  height=800,\n",
    "                  path=[\"Continent\", \"Country\"],  # Include \"City\" in the path\n",
    "                  values=\"Population\",  # Use \"Population\" for the values\n",
    "                  color=\"Continent\",\n",
    "                  title=\"<span style='font-size:18px;'><b>Continents and Countries by Population</b></span><b></b>\"\n",
    "                  )\n",
    "\n",
    "fig.update_layout(font_size=10, margin=dict(l=10, r=10, t=30, b=50))\n",
    "fig.update_traces(textinfo=\"label+percent parent\")\n",
    "fig.show()\n"
   ]
  },
  {
   "cell_type": "code",
   "execution_count": 8,
   "id": "3f750399",
   "metadata": {
    "execution": {
     "iopub.execute_input": "2024-05-19T20:09:07.451934Z",
     "iopub.status.busy": "2024-05-19T20:09:07.451502Z",
     "iopub.status.idle": "2024-05-19T20:09:07.588735Z",
     "shell.execute_reply": "2024-05-19T20:09:07.587485Z"
    },
    "papermill": {
     "duration": 0.150817,
     "end_time": "2024-05-19T20:09:07.591285",
     "exception": false,
     "start_time": "2024-05-19T20:09:07.440468",
     "status": "completed"
    },
    "tags": []
   },
   "outputs": [
    {
     "data": {
      "text/html": [
       "<div>                            <div id=\"328103d7-46ca-4d51-93a3-95d18592aafb\" class=\"plotly-graph-div\" style=\"height:800px; width:1280px;\"></div>            <script type=\"text/javascript\">                require([\"plotly\"], function(Plotly) {                    window.PLOTLYENV=window.PLOTLYENV || {};                                    if (document.getElementById(\"328103d7-46ca-4d51-93a3-95d18592aafb\")) {                    Plotly.newPlot(                        \"328103d7-46ca-4d51-93a3-95d18592aafb\",                        [{\"branchvalues\":\"total\",\"customdata\":[[\"North America\"],[\"North America\"],[\"Europe\"],[\"North America\"],[\"Europe\"],[\"Asia\"],[\"Europe\"],[\"North America\"],[\"Europe\"],[\"North America\"],[\"South America\"],[\"Asia\"],[\"North America\"],[\"Europe\"],[\"Africa\"],[\"Asia\"],[\"Asia\"],[\"Africa\"],[\"Africa\"],[\"Asia\"],[\"South America\"],[\"Europe\"],[\"Africa\"],[\"Asia\"],[\"Africa\"],[\"Asia\"],[\"Asia\"],[\"Europe\"],[\"Europe\"],[\"Unknown\"],[\"North America\"],[\"Unknown\"],[\"North America\"],[\"North America\"],[\"Europe\"],[\"Asia\"],[\"North America\"],[\"North America\"],[\"Asia\"],[\"South America\"],[\"North America\"],[\"South America\"],[\"Asia\"],[\"Africa\"],[\"Europe\"],[\"Europe\"],[\"Asia\"],[\"Europe\"],[\"Africa\"],[\"South America\"],[\"North America\"],[\"North America\"],[\"Asia\"],[\"Europe\"],[\"North America\"],[\"North America\"],[\"Europe\"],[\"Oceania\"],[\"Asia\"],[\"Africa\"],[\"South America\"],[\"North America\"],[\"Europe\"],[\"Unknown\"],[\"North America\"],[\"Asia\"],[\"Asia\"],[\"Asia\"],[\"Asia\"],[\"Asia\"],[\"Asia\"],[\"North America\"],[\"Asia\"],[\"Asia\"],[\"South America\"],[\"North America\"],[\"North America\"],[\"South America\"],[\"North America\"],[\"Asia\"],[\"North America\"],[\"Asia\"],[\"North America\"],[\"Asia\"],[\"Asia\"],[\"Oceania\"],[\"Asia\"],[\"North America\"],[\"Europe\"],[\"Asia\"],[\"Asia\"],[\"Asia\"],[\"Asia\"],[\"Asia\"],[\"North America\"],[\"Asia\"],[\"North America\"],[\"Asia\"],[\"North America\"],[\"South America\"],[\"Africa\"],[\"Oceania\"],[\"South America\"],[\"North America\"],[\"North America\"],[\"Asia\"],[\"Europe\"],[\"North America\"],[\"South America\"],[\"Asia\"],[\"Asia\"],[\"Europe\"],[\"Asia\"],[\"Asia\"],[\"Africa\"],[\"Europe\"],[\"Unknown\"],[\"Europe\"],[\"North America\"],[\"Europe\"],[\"South America\"],[\"South America\"],[\"North America\"],[\"Asia\"],[\"Europe\"],[\"South America\"],[\"Oceania\"],[\"Europe\"],[\"Asia\"],[\"Europe\"],[\"South America\"],[\"North America\"],[\"South America\"],[\"Asia\"],[\"South America\"],[\"Africa\"],[\"Europe\"],[\"Africa\"],[\"Europe\"],[\"Europe\"],[\"Africa\"],[\"Europe\"],[\"Europe\"],[\"Asia\"],[\"Asia\"],[\"Asia\"],[\"Asia\"],[\"Asia\"],[\"Europe\"],[\"Asia\"],[\"Asia\"],[\"Asia\"],[\"Asia\"],[\"North America\"],[\"Africa\"],[\"Asia\"],[\"South America\"],[\"Asia\"],[\"Europe\"],[\"Europe\"],[\"North America\"],[\"Europe\"],[\"Asia\"],[\"Asia\"],[\"Africa\"],[\"Asia\"],[\"Europe\"],[\"Africa\"],[\"Asia\"],[\"Asia\"],[\"Asia\"],[\"Unknown\"],[\"Unknown\"],[\"North America\"],[\"Asia\"],[\"Asia\"],[\"Africa\"]],\"domain\":{\"x\":[0.0,1.0],\"y\":[0.0,1.0]},\"hovertemplate\":\"labels=%{label}\\u003cbr\\u003ePopulation=%{value}\\u003cbr\\u003eparent=%{parent}\\u003cbr\\u003eid=%{id}\\u003cbr\\u003eContinent=%{customdata[0]}\\u003cextra\\u003e\\u003c\\u002fextra\\u003e\",\"ids\":[\"USA\\u002fWashington\",\"USA\\u002fDetroit\",\"Germany\\u002fCologne\\u002fBonn\",\"USA\\u002fCincinnati\",\"Germany\\u002fMunich\",\"Japan\\u002fNagoya\",\"Italy\\u002fNaples\",\"USA\\u002fNew York Metro\",\"Portugal\\u002fLisbon\",\"USA\\u002fPhoenix\\u002fMesa\",\"Brazil\\u002fRecife\",\"Japan\\u002fFukuoka\",\"Mexico\\u002fGuadalajara\",\"Germany\\u002fHamburg\",\"Zimbabwe\\u002fHarare\",\"Vietnam\\u002fHo Chi Minh City\",\"India\\u002fHyderabad\",\"South Africa\\u002fJohannesburg\\u002fEast Rand\",\"South Africa\\u002fPretoria\",\"Pakistan\\u002fKarachi\",\"Brazil\\u002fPorto Alegre\",\"Poland\\u002fKatowice\",\"Sudan\\u002fKhartoum\",\"Japan\\u002fOsaka\\u002fKobe\\u002fKyoto\",\"Congo\\u002fKinshasa\",\"Malaysia\\u002fKuala Lumpur\",\"Kuwait\\u002fKuwait\",\"Poland\\u002fWarsaw\",\"Germany\\u002fFrankfurt\",\"UK\\u002fLondon\",\"USA\\u002fLos Angeles\",\"UK\\u002fManchester\",\"Mexico\\u002fMonterey\",\"Canada\\u002fMontreal\",\"Russia\\u002fMoscow\",\"India\\u002fMumbai\",\"USA\\u002fPortland\",\"USA\\u002fPittsburgh\",\"India\\u002fKolkata\",\"Brazil\\u002fFortaleza\",\"USA\\u002fHouston\",\"Argentina\\u002fBuenos Aires\",\"India\\u002fChennai\",\"Egypt\\u002fCairo\",\"Hungary\\u002fBudapest\",\"Austria\\u002fVienna\",\"Azerbaijan\\u002fBaku\\u002fSumqayit\",\"Germany\\u002fEssen\\u002fDГјsseldorf\",\"South Africa\\u002fCape Town\",\"Brazil\\u002fCampinas\",\"Mexico\\u002fMexico City\",\"USA\\u002fBaltimore\",\"Iraq\\u002fBaghdad\",\"Italy\\u002fMilan\",\"USA\\u002fMinneapolis\\u002fSt. Paul\",\"USA\\u002fPhiladelphia\",\"France\\u002fParis\",\"Australia\\u002fMelbourne\",\"Philippines\\u002fManila\",\"South Africa\\u002fDurban\",\"Brazil\\u002fCuritiba\",\"USA\\u002fCleveland\",\"Denmark\\u002fCopenhagen\",\"UAE\\u002fDubai\",\"USA\\u002fDenver\",\"Saudi Arabia\\u002fJeddah\",\"Indonesia\\u002fJakarta\",\"Turkey\\u002fIstanbul\",\"India\\u002fDelhi\",\"Saudi Arabia\\u002fDammam\",\"China\\u002fDalian\",\"USA\\u002fDallas\\u002fFort Worth\",\"Japan\\u002fTokyo\\u002fYokohama\",\"China\\u002fTianjin\",\"Chile\\u002fSantiago\",\"Canada\\u002fToronto\",\"Canada\\u002fVancouver\",\"Brazil\\u002fSao Paulo\",\"Puerto Rico\\u002fSan Juan\",\"Israel\\u002fTel Aviv\",\"USA\\u002fSt. Louis\",\"Uzbekistan\\u002fTashkent\",\"USA\\u002fTampa\\u002fSt. Petersburg\",\"Taiwan\\u002fTaipei\",\"Taiwan\\u002fTaichung\",\"Australia\\u002fSydney\",\"Japan\\u002fSapporo\",\"USA\\u002fSeattle\",\"Russia\\u002fSt Petersburg\",\"Singapore\\u002fSingapore\",\"China\\u002fShenzhen\",\"South Korea\\u002fSeoul\\u002fIncheon\",\"China\\u002fShanghai\",\"China\\u002fShenyang\",\"USA\\u002fSan Jose\",\"Iran\\u002fTehran\",\"USA\\u002fSan Francisco\\u002fOakland\",\"Pakistan\\u002fLahore\",\"USA\\u002fMiami\",\"Peru\\u002fLima\",\"Nigeria\\u002fLagos\",\"Australia\\u002fBrisbane\",\"Brazil\\u002fBrasilia\",\"USA\\u002fBoston\",\"USA\\u002fSan Diego\",\"Turkey\\u002fAnkara\",\"Greece\\u002fAthens\",\"USA\\u002fAtlanta\",\"Colombia\\u002fBogota\",\"India\\u002fBangalore\",\"Thailand\\u002fBangkok\",\"Spain\\u002fBarcelona\",\"China\\u002fBeijing\",\"Lebanon\\u002fBeirut\",\"Ghana\\u002fAccra\",\"Germany\\u002fBerlin\",\"UK\\u002fBirmingham\",\"Belgium\\u002fBrussels\",\"USA\\u002fChicago\",\"Spain\\u002fMadrid\",\"Brazil\\u002fBelo Horizonte\",\"Brazil\\u002fRio de Janeiro\",\"USA\\u002fRiverside\\u002fSan Bernardino\",\"Saudi Arabia\\u002fRiyadh\",\"Italy\\u002fRome\",\"Argentina\",\"Australia\",\"Austria\",\"Azerbaijan\",\"Belgium\",\"Brazil\",\"Canada\",\"Chile\",\"China\",\"Colombia\",\"Congo\",\"Denmark\",\"Egypt\",\"France\",\"Germany\",\"Ghana\",\"Greece\",\"Hungary\",\"India\",\"Indonesia\",\"Iran\",\"Iraq\",\"Israel\",\"Italy\",\"Japan\",\"Kuwait\",\"Lebanon\",\"Malaysia\",\"Mexico\",\"Nigeria\",\"Pakistan\",\"Peru\",\"Philippines\",\"Poland\",\"Portugal\",\"Puerto Rico\",\"Russia\",\"Saudi Arabia\",\"Singapore\",\"South Africa\",\"South Korea\",\"Spain\",\"Sudan\",\"Taiwan\",\"Thailand\",\"Turkey\",\"UAE\",\"UK\",\"USA\",\"Uzbekistan\",\"Vietnam\",\"Zimbabwe\"],\"labels\":[\"Washington\",\"Detroit\",\"Cologne\\u002fBonn\",\"Cincinnati\",\"Munich\",\"Nagoya\",\"Naples\",\"New York Metro\",\"Lisbon\",\"Phoenix\\u002fMesa\",\"Recife\",\"Fukuoka\",\"Guadalajara\",\"Hamburg\",\"Harare\",\"Ho Chi Minh City\",\"Hyderabad\",\"Johannesburg\\u002fEast Rand\",\"Pretoria\",\"Karachi\",\"Porto Alegre\",\"Katowice\",\"Khartoum\",\"Osaka\\u002fKobe\\u002fKyoto\",\"Kinshasa\",\"Kuala Lumpur\",\"Kuwait\",\"Warsaw\",\"Frankfurt\",\"London\",\"Los Angeles\",\"Manchester\",\"Monterey\",\"Montreal\",\"Moscow\",\"Mumbai\",\"Portland\",\"Pittsburgh\",\"Kolkata\",\"Fortaleza\",\"Houston\",\"Buenos Aires\",\"Chennai\",\"Cairo\",\"Budapest\",\"Vienna\",\"Baku\\u002fSumqayit\",\"Essen\\u002fDГјsseldorf\",\"Cape Town\",\"Campinas\",\"Mexico City\",\"Baltimore\",\"Baghdad\",\"Milan\",\"Minneapolis\\u002fSt. Paul\",\"Philadelphia\",\"Paris\",\"Melbourne\",\"Manila\",\"Durban\",\"Curitiba\",\"Cleveland\",\"Copenhagen\",\"Dubai\",\"Denver\",\"Jeddah\",\"Jakarta\",\"Istanbul\",\"Delhi\",\"Dammam\",\"Dalian\",\"Dallas\\u002fFort Worth\",\"Tokyo\\u002fYokohama\",\"Tianjin\",\"Santiago\",\"Toronto\",\"Vancouver\",\"Sao Paulo\",\"San Juan\",\"Tel Aviv\",\"St. Louis\",\"Tashkent\",\"Tampa\\u002fSt. Petersburg\",\"Taipei\",\"Taichung\",\"Sydney\",\"Sapporo\",\"Seattle\",\"St Petersburg\",\"Singapore\",\"Shenzhen\",\"Seoul\\u002fIncheon\",\"Shanghai\",\"Shenyang\",\"San Jose\",\"Tehran\",\"San Francisco\\u002fOakland\",\"Lahore\",\"Miami\",\"Lima\",\"Lagos\",\"Brisbane\",\"Brasilia\",\"Boston\",\"San Diego\",\"Ankara\",\"Athens\",\"Atlanta\",\"Bogota\",\"Bangalore\",\"Bangkok\",\"Barcelona\",\"Beijing\",\"Beirut\",\"Accra\",\"Berlin\",\"Birmingham\",\"Brussels\",\"Chicago\",\"Madrid\",\"Belo Horizonte\",\"Rio de Janeiro\",\"Riverside\\u002fSan Bernardino\",\"Riyadh\",\"Rome\",\"Argentina\",\"Australia\",\"Austria\",\"Azerbaijan\",\"Belgium\",\"Brazil\",\"Canada\",\"Chile\",\"China\",\"Colombia\",\"Congo\",\"Denmark\",\"Egypt\",\"France\",\"Germany\",\"Ghana\",\"Greece\",\"Hungary\",\"India\",\"Indonesia\",\"Iran\",\"Iraq\",\"Israel\",\"Italy\",\"Japan\",\"Kuwait\",\"Lebanon\",\"Malaysia\",\"Mexico\",\"Nigeria\",\"Pakistan\",\"Peru\",\"Philippines\",\"Poland\",\"Portugal\",\"Puerto Rico\",\"Russia\",\"Saudi Arabia\",\"Singapore\",\"South Africa\",\"South Korea\",\"Spain\",\"Sudan\",\"Taiwan\",\"Thailand\",\"Turkey\",\"UAE\",\"UK\",\"USA\",\"Uzbekistan\",\"Vietnam\",\"Zimbabwe\"],\"marker\":{\"colors\":[\"#636efa\",\"#636efa\",\"#EF553B\",\"#636efa\",\"#EF553B\",\"#00cc96\",\"#EF553B\",\"#636efa\",\"#EF553B\",\"#636efa\",\"#ab63fa\",\"#00cc96\",\"#636efa\",\"#EF553B\",\"#FFA15A\",\"#00cc96\",\"#00cc96\",\"#FFA15A\",\"#FFA15A\",\"#00cc96\",\"#ab63fa\",\"#EF553B\",\"#FFA15A\",\"#00cc96\",\"#FFA15A\",\"#00cc96\",\"#00cc96\",\"#EF553B\",\"#EF553B\",\"#19d3f3\",\"#636efa\",\"#19d3f3\",\"#636efa\",\"#636efa\",\"#EF553B\",\"#00cc96\",\"#636efa\",\"#636efa\",\"#00cc96\",\"#ab63fa\",\"#636efa\",\"#ab63fa\",\"#00cc96\",\"#FFA15A\",\"#EF553B\",\"#EF553B\",\"#00cc96\",\"#EF553B\",\"#FFA15A\",\"#ab63fa\",\"#636efa\",\"#636efa\",\"#00cc96\",\"#EF553B\",\"#636efa\",\"#636efa\",\"#EF553B\",\"#FF6692\",\"#00cc96\",\"#FFA15A\",\"#ab63fa\",\"#636efa\",\"#EF553B\",\"#19d3f3\",\"#636efa\",\"#00cc96\",\"#00cc96\",\"#00cc96\",\"#00cc96\",\"#00cc96\",\"#00cc96\",\"#636efa\",\"#00cc96\",\"#00cc96\",\"#ab63fa\",\"#636efa\",\"#636efa\",\"#ab63fa\",\"#636efa\",\"#00cc96\",\"#636efa\",\"#00cc96\",\"#636efa\",\"#00cc96\",\"#00cc96\",\"#FF6692\",\"#00cc96\",\"#636efa\",\"#EF553B\",\"#00cc96\",\"#00cc96\",\"#00cc96\",\"#00cc96\",\"#00cc96\",\"#636efa\",\"#00cc96\",\"#636efa\",\"#00cc96\",\"#636efa\",\"#ab63fa\",\"#FFA15A\",\"#FF6692\",\"#ab63fa\",\"#636efa\",\"#636efa\",\"#00cc96\",\"#EF553B\",\"#636efa\",\"#ab63fa\",\"#00cc96\",\"#00cc96\",\"#EF553B\",\"#00cc96\",\"#00cc96\",\"#FFA15A\",\"#EF553B\",\"#19d3f3\",\"#EF553B\",\"#636efa\",\"#EF553B\",\"#ab63fa\",\"#ab63fa\",\"#636efa\",\"#00cc96\",\"#EF553B\",\"#ab63fa\",\"#FF6692\",\"#EF553B\",\"#00cc96\",\"#EF553B\",\"#ab63fa\",\"#636efa\",\"#ab63fa\",\"#00cc96\",\"#ab63fa\",\"#FFA15A\",\"#EF553B\",\"#FFA15A\",\"#EF553B\",\"#EF553B\",\"#FFA15A\",\"#EF553B\",\"#EF553B\",\"#00cc96\",\"#00cc96\",\"#00cc96\",\"#00cc96\",\"#00cc96\",\"#EF553B\",\"#00cc96\",\"#00cc96\",\"#00cc96\",\"#00cc96\",\"#636efa\",\"#FFA15A\",\"#00cc96\",\"#ab63fa\",\"#00cc96\",\"#EF553B\",\"#EF553B\",\"#636efa\",\"#EF553B\",\"#00cc96\",\"#00cc96\",\"#FFA15A\",\"#00cc96\",\"#EF553B\",\"#FFA15A\",\"#00cc96\",\"#00cc96\",\"#00cc96\",\"#19d3f3\",\"#19d3f3\",\"#636efa\",\"#00cc96\",\"#00cc96\",\"#FFA15A\"]},\"name\":\"\",\"parents\":[\"USA\",\"USA\",\"Germany\",\"USA\",\"Germany\",\"Japan\",\"Italy\",\"USA\",\"Portugal\",\"USA\",\"Brazil\",\"Japan\",\"Mexico\",\"Germany\",\"Zimbabwe\",\"Vietnam\",\"India\",\"South Africa\",\"South Africa\",\"Pakistan\",\"Brazil\",\"Poland\",\"Sudan\",\"Japan\",\"Congo\",\"Malaysia\",\"Kuwait\",\"Poland\",\"Germany\",\"UK\",\"USA\",\"UK\",\"Mexico\",\"Canada\",\"Russia\",\"India\",\"USA\",\"USA\",\"India\",\"Brazil\",\"USA\",\"Argentina\",\"India\",\"Egypt\",\"Hungary\",\"Austria\",\"Azerbaijan\",\"Germany\",\"South Africa\",\"Brazil\",\"Mexico\",\"USA\",\"Iraq\",\"Italy\",\"USA\",\"USA\",\"France\",\"Australia\",\"Philippines\",\"South Africa\",\"Brazil\",\"USA\",\"Denmark\",\"UAE\",\"USA\",\"Saudi Arabia\",\"Indonesia\",\"Turkey\",\"India\",\"Saudi Arabia\",\"China\",\"USA\",\"Japan\",\"China\",\"Chile\",\"Canada\",\"Canada\",\"Brazil\",\"Puerto Rico\",\"Israel\",\"USA\",\"Uzbekistan\",\"USA\",\"Taiwan\",\"Taiwan\",\"Australia\",\"Japan\",\"USA\",\"Russia\",\"Singapore\",\"China\",\"South Korea\",\"China\",\"China\",\"USA\",\"Iran\",\"USA\",\"Pakistan\",\"USA\",\"Peru\",\"Nigeria\",\"Australia\",\"Brazil\",\"USA\",\"USA\",\"Turkey\",\"Greece\",\"USA\",\"Colombia\",\"India\",\"Thailand\",\"Spain\",\"China\",\"Lebanon\",\"Ghana\",\"Germany\",\"UK\",\"Belgium\",\"USA\",\"Spain\",\"Brazil\",\"Brazil\",\"USA\",\"Saudi Arabia\",\"Italy\",\"\",\"\",\"\",\"\",\"\",\"\",\"\",\"\",\"\",\"\",\"\",\"\",\"\",\"\",\"\",\"\",\"\",\"\",\"\",\"\",\"\",\"\",\"\",\"\",\"\",\"\",\"\",\"\",\"\",\"\",\"\",\"\",\"\",\"\",\"\",\"\",\"\",\"\",\"\",\"\",\"\",\"\",\"\",\"\",\"\",\"\",\"\",\"\",\"\",\"\",\"\",\"\"],\"values\":[3934000,3903000,1960000,1503000,1600000,9000000,2400000,17800000,2250000,2907000,3025000,2150000,3500000,1925000,1750000,4900000,5300000,6000000,1850000,9800000,2800000,2200000,4000000,16425000,5000000,4400000,1600000,2000000,2260000,8278000,11789000,2245000,3200000,3216000,10500000,14350000,1583000,1753000,12700000,2650000,3823000,11200000,5950000,12200000,1800000,1550000,2100000,7350000,2700000,1750000,17400000,2076000,5500000,4250000,2389000,5149000,9645000,3162000,14750000,2900000,2500000,1787000,1525000,1900000,1985000,2750000,14250000,9000000,14300000,1525000,2750000,4146000,33200000,4750000,5425000,4367000,1830000,17700000,2217000,2300000,2078000,2200000,2062000,5700000,2000000,3502000,2075000,2712000,5300000,4000000,8000000,17500000,10000000,4200000,1538000,7250000,3229000,5100000,4919000,7000000,13400000,1508000,1625000,4032000,2674000,3100000,3685000,3500000,7000000,5400000,6500000,3900000,8614000,1800000,1500000,3675000,2284000,1570000,8308000,4900000,4000000,10800000,1507000,4000000,2500000,11200000,8172000,1550000,2100000,1570000,46850000,9413000,5425000,38314000,7000000,5000000,1525000,12200000,9645000,18770000,1500000,3685000,1800000,58000000,14250000,7250000,5500000,2300000,9150000,62850000,1600000,1800000,4400000,24100000,13400000,14900000,7000000,14750000,4200000,2250000,2217000,15800000,8275000,4000000,13450000,17500000,8800000,4000000,7700000,6500000,12100000,1900000,12807000,103086000,2200000,4900000,1750000],\"type\":\"sunburst\",\"textinfo\":\"label+percent parent\"}],                        {\"template\":{\"data\":{\"histogram2dcontour\":[{\"type\":\"histogram2dcontour\",\"colorbar\":{\"outlinewidth\":0,\"ticks\":\"\"},\"colorscale\":[[0.0,\"#0d0887\"],[0.1111111111111111,\"#46039f\"],[0.2222222222222222,\"#7201a8\"],[0.3333333333333333,\"#9c179e\"],[0.4444444444444444,\"#bd3786\"],[0.5555555555555556,\"#d8576b\"],[0.6666666666666666,\"#ed7953\"],[0.7777777777777778,\"#fb9f3a\"],[0.8888888888888888,\"#fdca26\"],[1.0,\"#f0f921\"]]}],\"choropleth\":[{\"type\":\"choropleth\",\"colorbar\":{\"outlinewidth\":0,\"ticks\":\"\"}}],\"histogram2d\":[{\"type\":\"histogram2d\",\"colorbar\":{\"outlinewidth\":0,\"ticks\":\"\"},\"colorscale\":[[0.0,\"#0d0887\"],[0.1111111111111111,\"#46039f\"],[0.2222222222222222,\"#7201a8\"],[0.3333333333333333,\"#9c179e\"],[0.4444444444444444,\"#bd3786\"],[0.5555555555555556,\"#d8576b\"],[0.6666666666666666,\"#ed7953\"],[0.7777777777777778,\"#fb9f3a\"],[0.8888888888888888,\"#fdca26\"],[1.0,\"#f0f921\"]]}],\"heatmap\":[{\"type\":\"heatmap\",\"colorbar\":{\"outlinewidth\":0,\"ticks\":\"\"},\"colorscale\":[[0.0,\"#0d0887\"],[0.1111111111111111,\"#46039f\"],[0.2222222222222222,\"#7201a8\"],[0.3333333333333333,\"#9c179e\"],[0.4444444444444444,\"#bd3786\"],[0.5555555555555556,\"#d8576b\"],[0.6666666666666666,\"#ed7953\"],[0.7777777777777778,\"#fb9f3a\"],[0.8888888888888888,\"#fdca26\"],[1.0,\"#f0f921\"]]}],\"heatmapgl\":[{\"type\":\"heatmapgl\",\"colorbar\":{\"outlinewidth\":0,\"ticks\":\"\"},\"colorscale\":[[0.0,\"#0d0887\"],[0.1111111111111111,\"#46039f\"],[0.2222222222222222,\"#7201a8\"],[0.3333333333333333,\"#9c179e\"],[0.4444444444444444,\"#bd3786\"],[0.5555555555555556,\"#d8576b\"],[0.6666666666666666,\"#ed7953\"],[0.7777777777777778,\"#fb9f3a\"],[0.8888888888888888,\"#fdca26\"],[1.0,\"#f0f921\"]]}],\"contourcarpet\":[{\"type\":\"contourcarpet\",\"colorbar\":{\"outlinewidth\":0,\"ticks\":\"\"}}],\"contour\":[{\"type\":\"contour\",\"colorbar\":{\"outlinewidth\":0,\"ticks\":\"\"},\"colorscale\":[[0.0,\"#0d0887\"],[0.1111111111111111,\"#46039f\"],[0.2222222222222222,\"#7201a8\"],[0.3333333333333333,\"#9c179e\"],[0.4444444444444444,\"#bd3786\"],[0.5555555555555556,\"#d8576b\"],[0.6666666666666666,\"#ed7953\"],[0.7777777777777778,\"#fb9f3a\"],[0.8888888888888888,\"#fdca26\"],[1.0,\"#f0f921\"]]}],\"surface\":[{\"type\":\"surface\",\"colorbar\":{\"outlinewidth\":0,\"ticks\":\"\"},\"colorscale\":[[0.0,\"#0d0887\"],[0.1111111111111111,\"#46039f\"],[0.2222222222222222,\"#7201a8\"],[0.3333333333333333,\"#9c179e\"],[0.4444444444444444,\"#bd3786\"],[0.5555555555555556,\"#d8576b\"],[0.6666666666666666,\"#ed7953\"],[0.7777777777777778,\"#fb9f3a\"],[0.8888888888888888,\"#fdca26\"],[1.0,\"#f0f921\"]]}],\"mesh3d\":[{\"type\":\"mesh3d\",\"colorbar\":{\"outlinewidth\":0,\"ticks\":\"\"}}],\"scatter\":[{\"fillpattern\":{\"fillmode\":\"overlay\",\"size\":10,\"solidity\":0.2},\"type\":\"scatter\"}],\"parcoords\":[{\"type\":\"parcoords\",\"line\":{\"colorbar\":{\"outlinewidth\":0,\"ticks\":\"\"}}}],\"scatterpolargl\":[{\"type\":\"scatterpolargl\",\"marker\":{\"colorbar\":{\"outlinewidth\":0,\"ticks\":\"\"}}}],\"bar\":[{\"error_x\":{\"color\":\"#2a3f5f\"},\"error_y\":{\"color\":\"#2a3f5f\"},\"marker\":{\"line\":{\"color\":\"#E5ECF6\",\"width\":0.5},\"pattern\":{\"fillmode\":\"overlay\",\"size\":10,\"solidity\":0.2}},\"type\":\"bar\"}],\"scattergeo\":[{\"type\":\"scattergeo\",\"marker\":{\"colorbar\":{\"outlinewidth\":0,\"ticks\":\"\"}}}],\"scatterpolar\":[{\"type\":\"scatterpolar\",\"marker\":{\"colorbar\":{\"outlinewidth\":0,\"ticks\":\"\"}}}],\"histogram\":[{\"marker\":{\"pattern\":{\"fillmode\":\"overlay\",\"size\":10,\"solidity\":0.2}},\"type\":\"histogram\"}],\"scattergl\":[{\"type\":\"scattergl\",\"marker\":{\"colorbar\":{\"outlinewidth\":0,\"ticks\":\"\"}}}],\"scatter3d\":[{\"type\":\"scatter3d\",\"line\":{\"colorbar\":{\"outlinewidth\":0,\"ticks\":\"\"}},\"marker\":{\"colorbar\":{\"outlinewidth\":0,\"ticks\":\"\"}}}],\"scattermapbox\":[{\"type\":\"scattermapbox\",\"marker\":{\"colorbar\":{\"outlinewidth\":0,\"ticks\":\"\"}}}],\"scatterternary\":[{\"type\":\"scatterternary\",\"marker\":{\"colorbar\":{\"outlinewidth\":0,\"ticks\":\"\"}}}],\"scattercarpet\":[{\"type\":\"scattercarpet\",\"marker\":{\"colorbar\":{\"outlinewidth\":0,\"ticks\":\"\"}}}],\"carpet\":[{\"aaxis\":{\"endlinecolor\":\"#2a3f5f\",\"gridcolor\":\"white\",\"linecolor\":\"white\",\"minorgridcolor\":\"white\",\"startlinecolor\":\"#2a3f5f\"},\"baxis\":{\"endlinecolor\":\"#2a3f5f\",\"gridcolor\":\"white\",\"linecolor\":\"white\",\"minorgridcolor\":\"white\",\"startlinecolor\":\"#2a3f5f\"},\"type\":\"carpet\"}],\"table\":[{\"cells\":{\"fill\":{\"color\":\"#EBF0F8\"},\"line\":{\"color\":\"white\"}},\"header\":{\"fill\":{\"color\":\"#C8D4E3\"},\"line\":{\"color\":\"white\"}},\"type\":\"table\"}],\"barpolar\":[{\"marker\":{\"line\":{\"color\":\"#E5ECF6\",\"width\":0.5},\"pattern\":{\"fillmode\":\"overlay\",\"size\":10,\"solidity\":0.2}},\"type\":\"barpolar\"}],\"pie\":[{\"automargin\":true,\"type\":\"pie\"}]},\"layout\":{\"autotypenumbers\":\"strict\",\"colorway\":[\"#636efa\",\"#EF553B\",\"#00cc96\",\"#ab63fa\",\"#FFA15A\",\"#19d3f3\",\"#FF6692\",\"#B6E880\",\"#FF97FF\",\"#FECB52\"],\"font\":{\"color\":\"#2a3f5f\"},\"hovermode\":\"closest\",\"hoverlabel\":{\"align\":\"left\"},\"paper_bgcolor\":\"white\",\"plot_bgcolor\":\"#E5ECF6\",\"polar\":{\"bgcolor\":\"#E5ECF6\",\"angularaxis\":{\"gridcolor\":\"white\",\"linecolor\":\"white\",\"ticks\":\"\"},\"radialaxis\":{\"gridcolor\":\"white\",\"linecolor\":\"white\",\"ticks\":\"\"}},\"ternary\":{\"bgcolor\":\"#E5ECF6\",\"aaxis\":{\"gridcolor\":\"white\",\"linecolor\":\"white\",\"ticks\":\"\"},\"baxis\":{\"gridcolor\":\"white\",\"linecolor\":\"white\",\"ticks\":\"\"},\"caxis\":{\"gridcolor\":\"white\",\"linecolor\":\"white\",\"ticks\":\"\"}},\"coloraxis\":{\"colorbar\":{\"outlinewidth\":0,\"ticks\":\"\"}},\"colorscale\":{\"sequential\":[[0.0,\"#0d0887\"],[0.1111111111111111,\"#46039f\"],[0.2222222222222222,\"#7201a8\"],[0.3333333333333333,\"#9c179e\"],[0.4444444444444444,\"#bd3786\"],[0.5555555555555556,\"#d8576b\"],[0.6666666666666666,\"#ed7953\"],[0.7777777777777778,\"#fb9f3a\"],[0.8888888888888888,\"#fdca26\"],[1.0,\"#f0f921\"]],\"sequentialminus\":[[0.0,\"#0d0887\"],[0.1111111111111111,\"#46039f\"],[0.2222222222222222,\"#7201a8\"],[0.3333333333333333,\"#9c179e\"],[0.4444444444444444,\"#bd3786\"],[0.5555555555555556,\"#d8576b\"],[0.6666666666666666,\"#ed7953\"],[0.7777777777777778,\"#fb9f3a\"],[0.8888888888888888,\"#fdca26\"],[1.0,\"#f0f921\"]],\"diverging\":[[0,\"#8e0152\"],[0.1,\"#c51b7d\"],[0.2,\"#de77ae\"],[0.3,\"#f1b6da\"],[0.4,\"#fde0ef\"],[0.5,\"#f7f7f7\"],[0.6,\"#e6f5d0\"],[0.7,\"#b8e186\"],[0.8,\"#7fbc41\"],[0.9,\"#4d9221\"],[1,\"#276419\"]]},\"xaxis\":{\"gridcolor\":\"white\",\"linecolor\":\"white\",\"ticks\":\"\",\"title\":{\"standoff\":15},\"zerolinecolor\":\"white\",\"automargin\":true,\"zerolinewidth\":2},\"yaxis\":{\"gridcolor\":\"white\",\"linecolor\":\"white\",\"ticks\":\"\",\"title\":{\"standoff\":15},\"zerolinecolor\":\"white\",\"automargin\":true,\"zerolinewidth\":2},\"scene\":{\"xaxis\":{\"backgroundcolor\":\"#E5ECF6\",\"gridcolor\":\"white\",\"linecolor\":\"white\",\"showbackground\":true,\"ticks\":\"\",\"zerolinecolor\":\"white\",\"gridwidth\":2},\"yaxis\":{\"backgroundcolor\":\"#E5ECF6\",\"gridcolor\":\"white\",\"linecolor\":\"white\",\"showbackground\":true,\"ticks\":\"\",\"zerolinecolor\":\"white\",\"gridwidth\":2},\"zaxis\":{\"backgroundcolor\":\"#E5ECF6\",\"gridcolor\":\"white\",\"linecolor\":\"white\",\"showbackground\":true,\"ticks\":\"\",\"zerolinecolor\":\"white\",\"gridwidth\":2}},\"shapedefaults\":{\"line\":{\"color\":\"#2a3f5f\"}},\"annotationdefaults\":{\"arrowcolor\":\"#2a3f5f\",\"arrowhead\":0,\"arrowwidth\":1},\"geo\":{\"bgcolor\":\"white\",\"landcolor\":\"#E5ECF6\",\"subunitcolor\":\"white\",\"showland\":true,\"showlakes\":true,\"lakecolor\":\"white\"},\"title\":{\"x\":0.05},\"mapbox\":{\"style\":\"light\"}}},\"legend\":{\"tracegroupgap\":0},\"title\":{\"text\":\"\\u003cspan style='font-size:18px;'\\u003e\\u003cb\\u003eContinents, Countries, and Cities by Population\\u003c\\u002fb\\u003e\\u003c\\u002fspan\\u003e\\u003cb\\u003e\\u003c\\u002fb\\u003e\"},\"height\":800,\"width\":1280,\"font\":{\"size\":10},\"margin\":{\"l\":10,\"r\":10,\"t\":30,\"b\":50}},                        {\"responsive\": true}                    ).then(function(){\n",
       "                            \n",
       "var gd = document.getElementById('328103d7-46ca-4d51-93a3-95d18592aafb');\n",
       "var x = new MutationObserver(function (mutations, observer) {{\n",
       "        var display = window.getComputedStyle(gd).display;\n",
       "        if (!display || display === 'none') {{\n",
       "            console.log([gd, 'removed!']);\n",
       "            Plotly.purge(gd);\n",
       "            observer.disconnect();\n",
       "        }}\n",
       "}});\n",
       "\n",
       "// Listen for the removal of the full notebook cells\n",
       "var notebookContainer = gd.closest('#notebook-container');\n",
       "if (notebookContainer) {{\n",
       "    x.observe(notebookContainer, {childList: true});\n",
       "}}\n",
       "\n",
       "// Listen for the clearing of the current output cell\n",
       "var outputEl = gd.closest('.output');\n",
       "if (outputEl) {{\n",
       "    x.observe(outputEl, {childList: true});\n",
       "}}\n",
       "\n",
       "                        })                };                });            </script>        </div>"
      ]
     },
     "metadata": {},
     "output_type": "display_data"
    }
   ],
   "source": [
    "import pandas as pd\n",
    "import plotly.express as px\n",
    "\n",
    "\n",
    "gr3_cat = df.groupby([\"Country\", \"City\", \"Continent\"], as_index=False).agg({'Population': 'sum'})\n",
    "\n",
    "fig = px.sunburst(gr3_cat, \n",
    "                  width=1280, \n",
    "                  height=800,\n",
    "                  path=[\"Country\", \"City\"],  # Include \"Country\" and \"City\" in the path\n",
    "                  values=\"Population\",  # Use \"Population\" for the values\n",
    "                  color=\"Continent\",  # Use \"Continent\" for color\n",
    "                  title=\"<span style='font-size:18px;'><b>Continents, Countries, and Cities by Population</b></span><b></b>\"\n",
    "                  )\n",
    "\n",
    "fig.update_layout(font_size=10, margin=dict(l=10, r=10, t=30, b=50))\n",
    "fig.update_traces(textinfo=\"label+percent parent\")\n",
    "fig.show()\n"
   ]
  },
  {
   "cell_type": "markdown",
   "id": "1d4d5ed9",
   "metadata": {
    "papermill": {
     "duration": 0.009808,
     "end_time": "2024-05-19T20:09:07.611212",
     "exception": false,
     "start_time": "2024-05-19T20:09:07.601404",
     "status": "completed"
    },
    "tags": []
   },
   "source": [
    "Hard to read\n",
    "\n",
    "Let's do the continents by population (countries and cities) individually.\n",
    "\n",
    "Starting with Europe"
   ]
  },
  {
   "cell_type": "code",
   "execution_count": 9,
   "id": "74e748fb",
   "metadata": {
    "execution": {
     "iopub.execute_input": "2024-05-19T20:09:07.633374Z",
     "iopub.status.busy": "2024-05-19T20:09:07.632946Z",
     "iopub.status.idle": "2024-05-19T20:09:07.740836Z",
     "shell.execute_reply": "2024-05-19T20:09:07.739478Z"
    },
    "papermill": {
     "duration": 0.12234,
     "end_time": "2024-05-19T20:09:07.743556",
     "exception": false,
     "start_time": "2024-05-19T20:09:07.621216",
     "status": "completed"
    },
    "tags": []
   },
   "outputs": [
    {
     "data": {
      "text/html": [
       "<div>                            <div id=\"4bdb17df-70e4-42ac-9703-25b3997dc104\" class=\"plotly-graph-div\" style=\"height:800px; width:1280px;\"></div>            <script type=\"text/javascript\">                require([\"plotly\"], function(Plotly) {                    window.PLOTLYENV=window.PLOTLYENV || {};                                    if (document.getElementById(\"4bdb17df-70e4-42ac-9703-25b3997dc104\")) {                    Plotly.newPlot(                        \"4bdb17df-70e4-42ac-9703-25b3997dc104\",                        [{\"branchvalues\":\"total\",\"customdata\":[[\"Greece\"],[\"Spain\"],[\"Germany\"],[\"Belgium\"],[\"Hungary\"],[\"Germany\"],[\"Denmark\"],[\"Germany\"],[\"Germany\"],[\"Germany\"],[\"Poland\"],[\"Portugal\"],[\"Spain\"],[\"Italy\"],[\"Russia\"],[\"Germany\"],[\"Italy\"],[\"France\"],[\"Italy\"],[\"Russia\"],[\"Austria\"],[\"Poland\"],[\"Austria\"],[\"Belgium\"],[\"Denmark\"],[\"France\"],[\"Germany\"],[\"Greece\"],[\"Hungary\"],[\"Italy\"],[\"Poland\"],[\"Portugal\"],[\"Russia\"],[\"Spain\"]],\"domain\":{\"x\":[0.0,1.0],\"y\":[0.0,1.0]},\"hovertemplate\":\"labels=%{label}\\u003cbr\\u003ePopulation=%{value}\\u003cbr\\u003eparent=%{parent}\\u003cbr\\u003eid=%{id}\\u003cbr\\u003eCountry=%{customdata[0]}\\u003cextra\\u003e\\u003c\\u002fextra\\u003e\",\"ids\":[\"Greece\\u002fAthens\",\"Spain\\u002fBarcelona\",\"Germany\\u002fBerlin\",\"Belgium\\u002fBrussels\",\"Hungary\\u002fBudapest\",\"Germany\\u002fCologne\\u002fBonn\",\"Denmark\\u002fCopenhagen\",\"Germany\\u002fEssen\\u002fDГјsseldorf\",\"Germany\\u002fFrankfurt\",\"Germany\\u002fHamburg\",\"Poland\\u002fKatowice\",\"Portugal\\u002fLisbon\",\"Spain\\u002fMadrid\",\"Italy\\u002fMilan\",\"Russia\\u002fMoscow\",\"Germany\\u002fMunich\",\"Italy\\u002fNaples\",\"France\\u002fParis\",\"Italy\\u002fRome\",\"Russia\\u002fSt Petersburg\",\"Austria\\u002fVienna\",\"Poland\\u002fWarsaw\",\"Austria\",\"Belgium\",\"Denmark\",\"France\",\"Germany\",\"Greece\",\"Hungary\",\"Italy\",\"Poland\",\"Portugal\",\"Russia\",\"Spain\"],\"labels\":[\"Athens\",\"Barcelona\",\"Berlin\",\"Brussels\",\"Budapest\",\"Cologne\\u002fBonn\",\"Copenhagen\",\"Essen\\u002fDГјsseldorf\",\"Frankfurt\",\"Hamburg\",\"Katowice\",\"Lisbon\",\"Madrid\",\"Milan\",\"Moscow\",\"Munich\",\"Naples\",\"Paris\",\"Rome\",\"St Petersburg\",\"Vienna\",\"Warsaw\",\"Austria\",\"Belgium\",\"Denmark\",\"France\",\"Germany\",\"Greece\",\"Hungary\",\"Italy\",\"Poland\",\"Portugal\",\"Russia\",\"Spain\"],\"marker\":{\"colors\":[\"#636efa\",\"#EF553B\",\"#00cc96\",\"#ab63fa\",\"#FFA15A\",\"#00cc96\",\"#19d3f3\",\"#00cc96\",\"#00cc96\",\"#00cc96\",\"#FF6692\",\"#B6E880\",\"#EF553B\",\"#FF97FF\",\"#FECB52\",\"#00cc96\",\"#FF97FF\",\"#636efa\",\"#FF97FF\",\"#FECB52\",\"#EF553B\",\"#FF6692\",\"#EF553B\",\"#ab63fa\",\"#19d3f3\",\"#636efa\",\"#00cc96\",\"#636efa\",\"#FFA15A\",\"#FF97FF\",\"#FF6692\",\"#B6E880\",\"#FECB52\",\"#EF553B\"]},\"name\":\"\",\"parents\":[\"Greece\",\"Spain\",\"Germany\",\"Belgium\",\"Hungary\",\"Germany\",\"Denmark\",\"Germany\",\"Germany\",\"Germany\",\"Poland\",\"Portugal\",\"Spain\",\"Italy\",\"Russia\",\"Germany\",\"Italy\",\"France\",\"Italy\",\"Russia\",\"Austria\",\"Poland\",\"\",\"\",\"\",\"\",\"\",\"\",\"\",\"\",\"\",\"\",\"\",\"\"],\"values\":[3685000,3900000,3675000,1570000,1800000,1960000,1525000,7350000,2260000,1925000,2200000,2250000,4900000,4250000,10500000,1600000,2400000,9645000,2500000,5300000,1550000,2000000,1550000,1570000,1525000,9645000,18770000,3685000,1800000,9150000,4200000,2250000,15800000,8800000],\"type\":\"sunburst\",\"textinfo\":\"label+percent parent\"}],                        {\"template\":{\"data\":{\"histogram2dcontour\":[{\"type\":\"histogram2dcontour\",\"colorbar\":{\"outlinewidth\":0,\"ticks\":\"\"},\"colorscale\":[[0.0,\"#0d0887\"],[0.1111111111111111,\"#46039f\"],[0.2222222222222222,\"#7201a8\"],[0.3333333333333333,\"#9c179e\"],[0.4444444444444444,\"#bd3786\"],[0.5555555555555556,\"#d8576b\"],[0.6666666666666666,\"#ed7953\"],[0.7777777777777778,\"#fb9f3a\"],[0.8888888888888888,\"#fdca26\"],[1.0,\"#f0f921\"]]}],\"choropleth\":[{\"type\":\"choropleth\",\"colorbar\":{\"outlinewidth\":0,\"ticks\":\"\"}}],\"histogram2d\":[{\"type\":\"histogram2d\",\"colorbar\":{\"outlinewidth\":0,\"ticks\":\"\"},\"colorscale\":[[0.0,\"#0d0887\"],[0.1111111111111111,\"#46039f\"],[0.2222222222222222,\"#7201a8\"],[0.3333333333333333,\"#9c179e\"],[0.4444444444444444,\"#bd3786\"],[0.5555555555555556,\"#d8576b\"],[0.6666666666666666,\"#ed7953\"],[0.7777777777777778,\"#fb9f3a\"],[0.8888888888888888,\"#fdca26\"],[1.0,\"#f0f921\"]]}],\"heatmap\":[{\"type\":\"heatmap\",\"colorbar\":{\"outlinewidth\":0,\"ticks\":\"\"},\"colorscale\":[[0.0,\"#0d0887\"],[0.1111111111111111,\"#46039f\"],[0.2222222222222222,\"#7201a8\"],[0.3333333333333333,\"#9c179e\"],[0.4444444444444444,\"#bd3786\"],[0.5555555555555556,\"#d8576b\"],[0.6666666666666666,\"#ed7953\"],[0.7777777777777778,\"#fb9f3a\"],[0.8888888888888888,\"#fdca26\"],[1.0,\"#f0f921\"]]}],\"heatmapgl\":[{\"type\":\"heatmapgl\",\"colorbar\":{\"outlinewidth\":0,\"ticks\":\"\"},\"colorscale\":[[0.0,\"#0d0887\"],[0.1111111111111111,\"#46039f\"],[0.2222222222222222,\"#7201a8\"],[0.3333333333333333,\"#9c179e\"],[0.4444444444444444,\"#bd3786\"],[0.5555555555555556,\"#d8576b\"],[0.6666666666666666,\"#ed7953\"],[0.7777777777777778,\"#fb9f3a\"],[0.8888888888888888,\"#fdca26\"],[1.0,\"#f0f921\"]]}],\"contourcarpet\":[{\"type\":\"contourcarpet\",\"colorbar\":{\"outlinewidth\":0,\"ticks\":\"\"}}],\"contour\":[{\"type\":\"contour\",\"colorbar\":{\"outlinewidth\":0,\"ticks\":\"\"},\"colorscale\":[[0.0,\"#0d0887\"],[0.1111111111111111,\"#46039f\"],[0.2222222222222222,\"#7201a8\"],[0.3333333333333333,\"#9c179e\"],[0.4444444444444444,\"#bd3786\"],[0.5555555555555556,\"#d8576b\"],[0.6666666666666666,\"#ed7953\"],[0.7777777777777778,\"#fb9f3a\"],[0.8888888888888888,\"#fdca26\"],[1.0,\"#f0f921\"]]}],\"surface\":[{\"type\":\"surface\",\"colorbar\":{\"outlinewidth\":0,\"ticks\":\"\"},\"colorscale\":[[0.0,\"#0d0887\"],[0.1111111111111111,\"#46039f\"],[0.2222222222222222,\"#7201a8\"],[0.3333333333333333,\"#9c179e\"],[0.4444444444444444,\"#bd3786\"],[0.5555555555555556,\"#d8576b\"],[0.6666666666666666,\"#ed7953\"],[0.7777777777777778,\"#fb9f3a\"],[0.8888888888888888,\"#fdca26\"],[1.0,\"#f0f921\"]]}],\"mesh3d\":[{\"type\":\"mesh3d\",\"colorbar\":{\"outlinewidth\":0,\"ticks\":\"\"}}],\"scatter\":[{\"fillpattern\":{\"fillmode\":\"overlay\",\"size\":10,\"solidity\":0.2},\"type\":\"scatter\"}],\"parcoords\":[{\"type\":\"parcoords\",\"line\":{\"colorbar\":{\"outlinewidth\":0,\"ticks\":\"\"}}}],\"scatterpolargl\":[{\"type\":\"scatterpolargl\",\"marker\":{\"colorbar\":{\"outlinewidth\":0,\"ticks\":\"\"}}}],\"bar\":[{\"error_x\":{\"color\":\"#2a3f5f\"},\"error_y\":{\"color\":\"#2a3f5f\"},\"marker\":{\"line\":{\"color\":\"#E5ECF6\",\"width\":0.5},\"pattern\":{\"fillmode\":\"overlay\",\"size\":10,\"solidity\":0.2}},\"type\":\"bar\"}],\"scattergeo\":[{\"type\":\"scattergeo\",\"marker\":{\"colorbar\":{\"outlinewidth\":0,\"ticks\":\"\"}}}],\"scatterpolar\":[{\"type\":\"scatterpolar\",\"marker\":{\"colorbar\":{\"outlinewidth\":0,\"ticks\":\"\"}}}],\"histogram\":[{\"marker\":{\"pattern\":{\"fillmode\":\"overlay\",\"size\":10,\"solidity\":0.2}},\"type\":\"histogram\"}],\"scattergl\":[{\"type\":\"scattergl\",\"marker\":{\"colorbar\":{\"outlinewidth\":0,\"ticks\":\"\"}}}],\"scatter3d\":[{\"type\":\"scatter3d\",\"line\":{\"colorbar\":{\"outlinewidth\":0,\"ticks\":\"\"}},\"marker\":{\"colorbar\":{\"outlinewidth\":0,\"ticks\":\"\"}}}],\"scattermapbox\":[{\"type\":\"scattermapbox\",\"marker\":{\"colorbar\":{\"outlinewidth\":0,\"ticks\":\"\"}}}],\"scatterternary\":[{\"type\":\"scatterternary\",\"marker\":{\"colorbar\":{\"outlinewidth\":0,\"ticks\":\"\"}}}],\"scattercarpet\":[{\"type\":\"scattercarpet\",\"marker\":{\"colorbar\":{\"outlinewidth\":0,\"ticks\":\"\"}}}],\"carpet\":[{\"aaxis\":{\"endlinecolor\":\"#2a3f5f\",\"gridcolor\":\"white\",\"linecolor\":\"white\",\"minorgridcolor\":\"white\",\"startlinecolor\":\"#2a3f5f\"},\"baxis\":{\"endlinecolor\":\"#2a3f5f\",\"gridcolor\":\"white\",\"linecolor\":\"white\",\"minorgridcolor\":\"white\",\"startlinecolor\":\"#2a3f5f\"},\"type\":\"carpet\"}],\"table\":[{\"cells\":{\"fill\":{\"color\":\"#EBF0F8\"},\"line\":{\"color\":\"white\"}},\"header\":{\"fill\":{\"color\":\"#C8D4E3\"},\"line\":{\"color\":\"white\"}},\"type\":\"table\"}],\"barpolar\":[{\"marker\":{\"line\":{\"color\":\"#E5ECF6\",\"width\":0.5},\"pattern\":{\"fillmode\":\"overlay\",\"size\":10,\"solidity\":0.2}},\"type\":\"barpolar\"}],\"pie\":[{\"automargin\":true,\"type\":\"pie\"}]},\"layout\":{\"autotypenumbers\":\"strict\",\"colorway\":[\"#636efa\",\"#EF553B\",\"#00cc96\",\"#ab63fa\",\"#FFA15A\",\"#19d3f3\",\"#FF6692\",\"#B6E880\",\"#FF97FF\",\"#FECB52\"],\"font\":{\"color\":\"#2a3f5f\"},\"hovermode\":\"closest\",\"hoverlabel\":{\"align\":\"left\"},\"paper_bgcolor\":\"white\",\"plot_bgcolor\":\"#E5ECF6\",\"polar\":{\"bgcolor\":\"#E5ECF6\",\"angularaxis\":{\"gridcolor\":\"white\",\"linecolor\":\"white\",\"ticks\":\"\"},\"radialaxis\":{\"gridcolor\":\"white\",\"linecolor\":\"white\",\"ticks\":\"\"}},\"ternary\":{\"bgcolor\":\"#E5ECF6\",\"aaxis\":{\"gridcolor\":\"white\",\"linecolor\":\"white\",\"ticks\":\"\"},\"baxis\":{\"gridcolor\":\"white\",\"linecolor\":\"white\",\"ticks\":\"\"},\"caxis\":{\"gridcolor\":\"white\",\"linecolor\":\"white\",\"ticks\":\"\"}},\"coloraxis\":{\"colorbar\":{\"outlinewidth\":0,\"ticks\":\"\"}},\"colorscale\":{\"sequential\":[[0.0,\"#0d0887\"],[0.1111111111111111,\"#46039f\"],[0.2222222222222222,\"#7201a8\"],[0.3333333333333333,\"#9c179e\"],[0.4444444444444444,\"#bd3786\"],[0.5555555555555556,\"#d8576b\"],[0.6666666666666666,\"#ed7953\"],[0.7777777777777778,\"#fb9f3a\"],[0.8888888888888888,\"#fdca26\"],[1.0,\"#f0f921\"]],\"sequentialminus\":[[0.0,\"#0d0887\"],[0.1111111111111111,\"#46039f\"],[0.2222222222222222,\"#7201a8\"],[0.3333333333333333,\"#9c179e\"],[0.4444444444444444,\"#bd3786\"],[0.5555555555555556,\"#d8576b\"],[0.6666666666666666,\"#ed7953\"],[0.7777777777777778,\"#fb9f3a\"],[0.8888888888888888,\"#fdca26\"],[1.0,\"#f0f921\"]],\"diverging\":[[0,\"#8e0152\"],[0.1,\"#c51b7d\"],[0.2,\"#de77ae\"],[0.3,\"#f1b6da\"],[0.4,\"#fde0ef\"],[0.5,\"#f7f7f7\"],[0.6,\"#e6f5d0\"],[0.7,\"#b8e186\"],[0.8,\"#7fbc41\"],[0.9,\"#4d9221\"],[1,\"#276419\"]]},\"xaxis\":{\"gridcolor\":\"white\",\"linecolor\":\"white\",\"ticks\":\"\",\"title\":{\"standoff\":15},\"zerolinecolor\":\"white\",\"automargin\":true,\"zerolinewidth\":2},\"yaxis\":{\"gridcolor\":\"white\",\"linecolor\":\"white\",\"ticks\":\"\",\"title\":{\"standoff\":15},\"zerolinecolor\":\"white\",\"automargin\":true,\"zerolinewidth\":2},\"scene\":{\"xaxis\":{\"backgroundcolor\":\"#E5ECF6\",\"gridcolor\":\"white\",\"linecolor\":\"white\",\"showbackground\":true,\"ticks\":\"\",\"zerolinecolor\":\"white\",\"gridwidth\":2},\"yaxis\":{\"backgroundcolor\":\"#E5ECF6\",\"gridcolor\":\"white\",\"linecolor\":\"white\",\"showbackground\":true,\"ticks\":\"\",\"zerolinecolor\":\"white\",\"gridwidth\":2},\"zaxis\":{\"backgroundcolor\":\"#E5ECF6\",\"gridcolor\":\"white\",\"linecolor\":\"white\",\"showbackground\":true,\"ticks\":\"\",\"zerolinecolor\":\"white\",\"gridwidth\":2}},\"shapedefaults\":{\"line\":{\"color\":\"#2a3f5f\"}},\"annotationdefaults\":{\"arrowcolor\":\"#2a3f5f\",\"arrowhead\":0,\"arrowwidth\":1},\"geo\":{\"bgcolor\":\"white\",\"landcolor\":\"#E5ECF6\",\"subunitcolor\":\"white\",\"showland\":true,\"showlakes\":true,\"lakecolor\":\"white\"},\"title\":{\"x\":0.05},\"mapbox\":{\"style\":\"light\"}}},\"legend\":{\"tracegroupgap\":0},\"title\":{\"text\":\"\\u003cspan style='font-size:18px;'\\u003e\\u003cb\\u003eCountries and Cities in Europe by Population\\u003c\\u002fb\\u003e\\u003c\\u002fspan\\u003e\\u003cb\\u003e\\u003c\\u002fb\\u003e\"},\"height\":800,\"width\":1280,\"font\":{\"size\":10},\"margin\":{\"l\":10,\"r\":10,\"t\":30,\"b\":50}},                        {\"responsive\": true}                    ).then(function(){\n",
       "                            \n",
       "var gd = document.getElementById('4bdb17df-70e4-42ac-9703-25b3997dc104');\n",
       "var x = new MutationObserver(function (mutations, observer) {{\n",
       "        var display = window.getComputedStyle(gd).display;\n",
       "        if (!display || display === 'none') {{\n",
       "            console.log([gd, 'removed!']);\n",
       "            Plotly.purge(gd);\n",
       "            observer.disconnect();\n",
       "        }}\n",
       "}});\n",
       "\n",
       "// Listen for the removal of the full notebook cells\n",
       "var notebookContainer = gd.closest('#notebook-container');\n",
       "if (notebookContainer) {{\n",
       "    x.observe(notebookContainer, {childList: true});\n",
       "}}\n",
       "\n",
       "// Listen for the clearing of the current output cell\n",
       "var outputEl = gd.closest('.output');\n",
       "if (outputEl) {{\n",
       "    x.observe(outputEl, {childList: true});\n",
       "}}\n",
       "\n",
       "                        })                };                });            </script>        </div>"
      ]
     },
     "metadata": {},
     "output_type": "display_data"
    }
   ],
   "source": [
    "import pandas as pd\n",
    "import plotly.express as px\n",
    "\n",
    "\n",
    "europe_df = df[df['Continent'] == 'Europe']\n",
    "\n",
    "# Group by Country and City, summing the Population\n",
    "gr3_cat = europe_df.groupby([\"Country\", \"City\"], as_index=False).agg({'Population': 'sum'})\n",
    "\n",
    "fig = px.sunburst(gr3_cat, \n",
    "                  width=1280, \n",
    "                  height=800,\n",
    "                  path=[\"Country\", \"City\"],  # Include \"Country\" and \"City\" in the path\n",
    "                  values=\"Population\",  # Use \"Population\" for the values\n",
    "                  color=\"Country\",  # Use \"Country\" for color\n",
    "                  title=\"<span style='font-size:18px;'><b>Countries and Cities in Europe by Population</b></span><b></b>\"\n",
    "                  )\n",
    "\n",
    "fig.update_layout(font_size=10, margin=dict(l=10, r=10, t=30, b=50))\n",
    "fig.update_traces(textinfo=\"label+percent parent\")\n",
    "fig.show()\n"
   ]
  },
  {
   "cell_type": "code",
   "execution_count": 10,
   "id": "50c4473a",
   "metadata": {
    "execution": {
     "iopub.execute_input": "2024-05-19T20:09:07.766664Z",
     "iopub.status.busy": "2024-05-19T20:09:07.765607Z",
     "iopub.status.idle": "2024-05-19T20:09:07.870581Z",
     "shell.execute_reply": "2024-05-19T20:09:07.869307Z"
    },
    "papermill": {
     "duration": 0.119245,
     "end_time": "2024-05-19T20:09:07.873297",
     "exception": false,
     "start_time": "2024-05-19T20:09:07.754052",
     "status": "completed"
    },
    "tags": []
   },
   "outputs": [
    {
     "data": {
      "text/html": [
       "<div>                            <div id=\"0396e5c8-b1ab-4a64-8497-e27f40f9aa53\" class=\"plotly-graph-div\" style=\"height:800px; width:1280px;\"></div>            <script type=\"text/javascript\">                require([\"plotly\"], function(Plotly) {                    window.PLOTLYENV=window.PLOTLYENV || {};                                    if (document.getElementById(\"0396e5c8-b1ab-4a64-8497-e27f40f9aa53\")) {                    Plotly.newPlot(                        \"0396e5c8-b1ab-4a64-8497-e27f40f9aa53\",                        [{\"branchvalues\":\"total\",\"customdata\":[[\"USA\"],[\"USA\"],[\"USA\"],[\"USA\"],[\"USA\"],[\"USA\"],[\"USA\"],[\"USA\"],[\"USA\"],[\"USA\"],[\"USA\"],[\"USA\"],[\"USA\"],[\"USA\"],[\"USA\"],[\"USA\"],[\"Canada\"],[\"Puerto Rico\"],[\"USA\"],[\"Canada\"],[\"USA\"],[\"Canada\"],[\"Mexico\"],[\"USA\"],[\"USA\"],[\"Mexico\"],[\"USA\"],[\"USA\"],[\"Mexico\"],[\"USA\"],[\"USA\"],[\"USA\"],[\"USA\"],[\"Canada\"],[\"Mexico\"],[\"Puerto Rico\"],[\"USA\"]],\"domain\":{\"x\":[0.0,1.0],\"y\":[0.0,1.0]},\"hovertemplate\":\"labels=%{label}\\u003cbr\\u003ePopulation=%{value}\\u003cbr\\u003eparent=%{parent}\\u003cbr\\u003eid=%{id}\\u003cbr\\u003eCountry=%{customdata[0]}\\u003cextra\\u003e\\u003c\\u002fextra\\u003e\",\"ids\":[\"USA\\u002fAtlanta\",\"USA\\u002fBaltimore\",\"USA\\u002fBoston\",\"USA\\u002fChicago\",\"USA\\u002fCincinnati\",\"USA\\u002fCleveland\",\"USA\\u002fDallas\\u002fFort Worth\",\"USA\\u002fPortland\",\"USA\\u002fRiverside\\u002fSan Bernardino\",\"USA\\u002fSan Diego\",\"USA\\u002fSan Francisco\\u002fOakland\",\"USA\\u002fSan Jose\",\"USA\\u002fSt. Louis\",\"USA\\u002fSeattle\",\"USA\\u002fPittsburgh\",\"USA\\u002fTampa\\u002fSt. Petersburg\",\"Canada\\u002fToronto\",\"Puerto Rico\\u002fSan Juan\",\"USA\\u002fPhoenix\\u002fMesa\",\"Canada\\u002fMontreal\",\"USA\\u002fNew York Metro\",\"Canada\\u002fVancouver\",\"Mexico\\u002fMonterey\",\"USA\\u002fMinneapolis\\u002fSt. Paul\",\"USA\\u002fMiami\",\"Mexico\\u002fMexico City\",\"USA\\u002fLos Angeles\",\"USA\\u002fHouston\",\"Mexico\\u002fGuadalajara\",\"USA\\u002fDetroit\",\"USA\\u002fDenver\",\"USA\\u002fPhiladelphia\",\"USA\\u002fWashington\",\"Canada\",\"Mexico\",\"Puerto Rico\",\"USA\"],\"labels\":[\"Atlanta\",\"Baltimore\",\"Boston\",\"Chicago\",\"Cincinnati\",\"Cleveland\",\"Dallas\\u002fFort Worth\",\"Portland\",\"Riverside\\u002fSan Bernardino\",\"San Diego\",\"San Francisco\\u002fOakland\",\"San Jose\",\"St. Louis\",\"Seattle\",\"Pittsburgh\",\"Tampa\\u002fSt. Petersburg\",\"Toronto\",\"San Juan\",\"Phoenix\\u002fMesa\",\"Montreal\",\"New York Metro\",\"Vancouver\",\"Monterey\",\"Minneapolis\\u002fSt. Paul\",\"Miami\",\"Mexico City\",\"Los Angeles\",\"Houston\",\"Guadalajara\",\"Detroit\",\"Denver\",\"Philadelphia\",\"Washington\",\"Canada\",\"Mexico\",\"Puerto Rico\",\"USA\"],\"marker\":{\"colors\":[\"#636efa\",\"#636efa\",\"#636efa\",\"#636efa\",\"#636efa\",\"#636efa\",\"#636efa\",\"#636efa\",\"#636efa\",\"#636efa\",\"#636efa\",\"#636efa\",\"#636efa\",\"#636efa\",\"#636efa\",\"#636efa\",\"#EF553B\",\"#00cc96\",\"#636efa\",\"#EF553B\",\"#636efa\",\"#EF553B\",\"#ab63fa\",\"#636efa\",\"#636efa\",\"#ab63fa\",\"#636efa\",\"#636efa\",\"#ab63fa\",\"#636efa\",\"#636efa\",\"#636efa\",\"#636efa\",\"#EF553B\",\"#ab63fa\",\"#00cc96\",\"#636efa\"]},\"name\":\"\",\"parents\":[\"USA\",\"USA\",\"USA\",\"USA\",\"USA\",\"USA\",\"USA\",\"USA\",\"USA\",\"USA\",\"USA\",\"USA\",\"USA\",\"USA\",\"USA\",\"USA\",\"Canada\",\"Puerto Rico\",\"USA\",\"Canada\",\"USA\",\"Canada\",\"Mexico\",\"USA\",\"USA\",\"Mexico\",\"USA\",\"USA\",\"Mexico\",\"USA\",\"USA\",\"USA\",\"USA\",\"\",\"\",\"\",\"\"],\"values\":[3500000,2076000,4032000,8308000,1503000,1787000,4146000,1583000,1507000,2674000,3229000,1538000,2078000,2712000,1753000,2062000,4367000,2217000,2907000,3216000,17800000,1830000,3200000,2389000,4919000,17400000,11789000,3823000,3500000,3903000,1985000,5149000,3934000,9413000,24100000,2217000,103086000],\"type\":\"sunburst\",\"textinfo\":\"label+percent parent\"}],                        {\"template\":{\"data\":{\"histogram2dcontour\":[{\"type\":\"histogram2dcontour\",\"colorbar\":{\"outlinewidth\":0,\"ticks\":\"\"},\"colorscale\":[[0.0,\"#0d0887\"],[0.1111111111111111,\"#46039f\"],[0.2222222222222222,\"#7201a8\"],[0.3333333333333333,\"#9c179e\"],[0.4444444444444444,\"#bd3786\"],[0.5555555555555556,\"#d8576b\"],[0.6666666666666666,\"#ed7953\"],[0.7777777777777778,\"#fb9f3a\"],[0.8888888888888888,\"#fdca26\"],[1.0,\"#f0f921\"]]}],\"choropleth\":[{\"type\":\"choropleth\",\"colorbar\":{\"outlinewidth\":0,\"ticks\":\"\"}}],\"histogram2d\":[{\"type\":\"histogram2d\",\"colorbar\":{\"outlinewidth\":0,\"ticks\":\"\"},\"colorscale\":[[0.0,\"#0d0887\"],[0.1111111111111111,\"#46039f\"],[0.2222222222222222,\"#7201a8\"],[0.3333333333333333,\"#9c179e\"],[0.4444444444444444,\"#bd3786\"],[0.5555555555555556,\"#d8576b\"],[0.6666666666666666,\"#ed7953\"],[0.7777777777777778,\"#fb9f3a\"],[0.8888888888888888,\"#fdca26\"],[1.0,\"#f0f921\"]]}],\"heatmap\":[{\"type\":\"heatmap\",\"colorbar\":{\"outlinewidth\":0,\"ticks\":\"\"},\"colorscale\":[[0.0,\"#0d0887\"],[0.1111111111111111,\"#46039f\"],[0.2222222222222222,\"#7201a8\"],[0.3333333333333333,\"#9c179e\"],[0.4444444444444444,\"#bd3786\"],[0.5555555555555556,\"#d8576b\"],[0.6666666666666666,\"#ed7953\"],[0.7777777777777778,\"#fb9f3a\"],[0.8888888888888888,\"#fdca26\"],[1.0,\"#f0f921\"]]}],\"heatmapgl\":[{\"type\":\"heatmapgl\",\"colorbar\":{\"outlinewidth\":0,\"ticks\":\"\"},\"colorscale\":[[0.0,\"#0d0887\"],[0.1111111111111111,\"#46039f\"],[0.2222222222222222,\"#7201a8\"],[0.3333333333333333,\"#9c179e\"],[0.4444444444444444,\"#bd3786\"],[0.5555555555555556,\"#d8576b\"],[0.6666666666666666,\"#ed7953\"],[0.7777777777777778,\"#fb9f3a\"],[0.8888888888888888,\"#fdca26\"],[1.0,\"#f0f921\"]]}],\"contourcarpet\":[{\"type\":\"contourcarpet\",\"colorbar\":{\"outlinewidth\":0,\"ticks\":\"\"}}],\"contour\":[{\"type\":\"contour\",\"colorbar\":{\"outlinewidth\":0,\"ticks\":\"\"},\"colorscale\":[[0.0,\"#0d0887\"],[0.1111111111111111,\"#46039f\"],[0.2222222222222222,\"#7201a8\"],[0.3333333333333333,\"#9c179e\"],[0.4444444444444444,\"#bd3786\"],[0.5555555555555556,\"#d8576b\"],[0.6666666666666666,\"#ed7953\"],[0.7777777777777778,\"#fb9f3a\"],[0.8888888888888888,\"#fdca26\"],[1.0,\"#f0f921\"]]}],\"surface\":[{\"type\":\"surface\",\"colorbar\":{\"outlinewidth\":0,\"ticks\":\"\"},\"colorscale\":[[0.0,\"#0d0887\"],[0.1111111111111111,\"#46039f\"],[0.2222222222222222,\"#7201a8\"],[0.3333333333333333,\"#9c179e\"],[0.4444444444444444,\"#bd3786\"],[0.5555555555555556,\"#d8576b\"],[0.6666666666666666,\"#ed7953\"],[0.7777777777777778,\"#fb9f3a\"],[0.8888888888888888,\"#fdca26\"],[1.0,\"#f0f921\"]]}],\"mesh3d\":[{\"type\":\"mesh3d\",\"colorbar\":{\"outlinewidth\":0,\"ticks\":\"\"}}],\"scatter\":[{\"fillpattern\":{\"fillmode\":\"overlay\",\"size\":10,\"solidity\":0.2},\"type\":\"scatter\"}],\"parcoords\":[{\"type\":\"parcoords\",\"line\":{\"colorbar\":{\"outlinewidth\":0,\"ticks\":\"\"}}}],\"scatterpolargl\":[{\"type\":\"scatterpolargl\",\"marker\":{\"colorbar\":{\"outlinewidth\":0,\"ticks\":\"\"}}}],\"bar\":[{\"error_x\":{\"color\":\"#2a3f5f\"},\"error_y\":{\"color\":\"#2a3f5f\"},\"marker\":{\"line\":{\"color\":\"#E5ECF6\",\"width\":0.5},\"pattern\":{\"fillmode\":\"overlay\",\"size\":10,\"solidity\":0.2}},\"type\":\"bar\"}],\"scattergeo\":[{\"type\":\"scattergeo\",\"marker\":{\"colorbar\":{\"outlinewidth\":0,\"ticks\":\"\"}}}],\"scatterpolar\":[{\"type\":\"scatterpolar\",\"marker\":{\"colorbar\":{\"outlinewidth\":0,\"ticks\":\"\"}}}],\"histogram\":[{\"marker\":{\"pattern\":{\"fillmode\":\"overlay\",\"size\":10,\"solidity\":0.2}},\"type\":\"histogram\"}],\"scattergl\":[{\"type\":\"scattergl\",\"marker\":{\"colorbar\":{\"outlinewidth\":0,\"ticks\":\"\"}}}],\"scatter3d\":[{\"type\":\"scatter3d\",\"line\":{\"colorbar\":{\"outlinewidth\":0,\"ticks\":\"\"}},\"marker\":{\"colorbar\":{\"outlinewidth\":0,\"ticks\":\"\"}}}],\"scattermapbox\":[{\"type\":\"scattermapbox\",\"marker\":{\"colorbar\":{\"outlinewidth\":0,\"ticks\":\"\"}}}],\"scatterternary\":[{\"type\":\"scatterternary\",\"marker\":{\"colorbar\":{\"outlinewidth\":0,\"ticks\":\"\"}}}],\"scattercarpet\":[{\"type\":\"scattercarpet\",\"marker\":{\"colorbar\":{\"outlinewidth\":0,\"ticks\":\"\"}}}],\"carpet\":[{\"aaxis\":{\"endlinecolor\":\"#2a3f5f\",\"gridcolor\":\"white\",\"linecolor\":\"white\",\"minorgridcolor\":\"white\",\"startlinecolor\":\"#2a3f5f\"},\"baxis\":{\"endlinecolor\":\"#2a3f5f\",\"gridcolor\":\"white\",\"linecolor\":\"white\",\"minorgridcolor\":\"white\",\"startlinecolor\":\"#2a3f5f\"},\"type\":\"carpet\"}],\"table\":[{\"cells\":{\"fill\":{\"color\":\"#EBF0F8\"},\"line\":{\"color\":\"white\"}},\"header\":{\"fill\":{\"color\":\"#C8D4E3\"},\"line\":{\"color\":\"white\"}},\"type\":\"table\"}],\"barpolar\":[{\"marker\":{\"line\":{\"color\":\"#E5ECF6\",\"width\":0.5},\"pattern\":{\"fillmode\":\"overlay\",\"size\":10,\"solidity\":0.2}},\"type\":\"barpolar\"}],\"pie\":[{\"automargin\":true,\"type\":\"pie\"}]},\"layout\":{\"autotypenumbers\":\"strict\",\"colorway\":[\"#636efa\",\"#EF553B\",\"#00cc96\",\"#ab63fa\",\"#FFA15A\",\"#19d3f3\",\"#FF6692\",\"#B6E880\",\"#FF97FF\",\"#FECB52\"],\"font\":{\"color\":\"#2a3f5f\"},\"hovermode\":\"closest\",\"hoverlabel\":{\"align\":\"left\"},\"paper_bgcolor\":\"white\",\"plot_bgcolor\":\"#E5ECF6\",\"polar\":{\"bgcolor\":\"#E5ECF6\",\"angularaxis\":{\"gridcolor\":\"white\",\"linecolor\":\"white\",\"ticks\":\"\"},\"radialaxis\":{\"gridcolor\":\"white\",\"linecolor\":\"white\",\"ticks\":\"\"}},\"ternary\":{\"bgcolor\":\"#E5ECF6\",\"aaxis\":{\"gridcolor\":\"white\",\"linecolor\":\"white\",\"ticks\":\"\"},\"baxis\":{\"gridcolor\":\"white\",\"linecolor\":\"white\",\"ticks\":\"\"},\"caxis\":{\"gridcolor\":\"white\",\"linecolor\":\"white\",\"ticks\":\"\"}},\"coloraxis\":{\"colorbar\":{\"outlinewidth\":0,\"ticks\":\"\"}},\"colorscale\":{\"sequential\":[[0.0,\"#0d0887\"],[0.1111111111111111,\"#46039f\"],[0.2222222222222222,\"#7201a8\"],[0.3333333333333333,\"#9c179e\"],[0.4444444444444444,\"#bd3786\"],[0.5555555555555556,\"#d8576b\"],[0.6666666666666666,\"#ed7953\"],[0.7777777777777778,\"#fb9f3a\"],[0.8888888888888888,\"#fdca26\"],[1.0,\"#f0f921\"]],\"sequentialminus\":[[0.0,\"#0d0887\"],[0.1111111111111111,\"#46039f\"],[0.2222222222222222,\"#7201a8\"],[0.3333333333333333,\"#9c179e\"],[0.4444444444444444,\"#bd3786\"],[0.5555555555555556,\"#d8576b\"],[0.6666666666666666,\"#ed7953\"],[0.7777777777777778,\"#fb9f3a\"],[0.8888888888888888,\"#fdca26\"],[1.0,\"#f0f921\"]],\"diverging\":[[0,\"#8e0152\"],[0.1,\"#c51b7d\"],[0.2,\"#de77ae\"],[0.3,\"#f1b6da\"],[0.4,\"#fde0ef\"],[0.5,\"#f7f7f7\"],[0.6,\"#e6f5d0\"],[0.7,\"#b8e186\"],[0.8,\"#7fbc41\"],[0.9,\"#4d9221\"],[1,\"#276419\"]]},\"xaxis\":{\"gridcolor\":\"white\",\"linecolor\":\"white\",\"ticks\":\"\",\"title\":{\"standoff\":15},\"zerolinecolor\":\"white\",\"automargin\":true,\"zerolinewidth\":2},\"yaxis\":{\"gridcolor\":\"white\",\"linecolor\":\"white\",\"ticks\":\"\",\"title\":{\"standoff\":15},\"zerolinecolor\":\"white\",\"automargin\":true,\"zerolinewidth\":2},\"scene\":{\"xaxis\":{\"backgroundcolor\":\"#E5ECF6\",\"gridcolor\":\"white\",\"linecolor\":\"white\",\"showbackground\":true,\"ticks\":\"\",\"zerolinecolor\":\"white\",\"gridwidth\":2},\"yaxis\":{\"backgroundcolor\":\"#E5ECF6\",\"gridcolor\":\"white\",\"linecolor\":\"white\",\"showbackground\":true,\"ticks\":\"\",\"zerolinecolor\":\"white\",\"gridwidth\":2},\"zaxis\":{\"backgroundcolor\":\"#E5ECF6\",\"gridcolor\":\"white\",\"linecolor\":\"white\",\"showbackground\":true,\"ticks\":\"\",\"zerolinecolor\":\"white\",\"gridwidth\":2}},\"shapedefaults\":{\"line\":{\"color\":\"#2a3f5f\"}},\"annotationdefaults\":{\"arrowcolor\":\"#2a3f5f\",\"arrowhead\":0,\"arrowwidth\":1},\"geo\":{\"bgcolor\":\"white\",\"landcolor\":\"#E5ECF6\",\"subunitcolor\":\"white\",\"showland\":true,\"showlakes\":true,\"lakecolor\":\"white\"},\"title\":{\"x\":0.05},\"mapbox\":{\"style\":\"light\"}}},\"legend\":{\"tracegroupgap\":0},\"title\":{\"text\":\"\\u003cspan style='font-size:18px;'\\u003e\\u003cb\\u003eCountries and Cities in North America by Population\\u003c\\u002fb\\u003e\\u003c\\u002fspan\\u003e\\u003cb\\u003e\\u003c\\u002fb\\u003e\"},\"height\":800,\"width\":1280,\"font\":{\"size\":10},\"margin\":{\"l\":10,\"r\":10,\"t\":30,\"b\":50}},                        {\"responsive\": true}                    ).then(function(){\n",
       "                            \n",
       "var gd = document.getElementById('0396e5c8-b1ab-4a64-8497-e27f40f9aa53');\n",
       "var x = new MutationObserver(function (mutations, observer) {{\n",
       "        var display = window.getComputedStyle(gd).display;\n",
       "        if (!display || display === 'none') {{\n",
       "            console.log([gd, 'removed!']);\n",
       "            Plotly.purge(gd);\n",
       "            observer.disconnect();\n",
       "        }}\n",
       "}});\n",
       "\n",
       "// Listen for the removal of the full notebook cells\n",
       "var notebookContainer = gd.closest('#notebook-container');\n",
       "if (notebookContainer) {{\n",
       "    x.observe(notebookContainer, {childList: true});\n",
       "}}\n",
       "\n",
       "// Listen for the clearing of the current output cell\n",
       "var outputEl = gd.closest('.output');\n",
       "if (outputEl) {{\n",
       "    x.observe(outputEl, {childList: true});\n",
       "}}\n",
       "\n",
       "                        })                };                });            </script>        </div>"
      ]
     },
     "metadata": {},
     "output_type": "display_data"
    }
   ],
   "source": [
    "import pandas as pd\n",
    "import plotly.express as px\n",
    "\n",
    "\n",
    "north_america_df = df[df['Continent'] == 'North America']\n",
    "\n",
    "# Group by Country and City, summing the Population\n",
    "gr4_cat = north_america_df.groupby([\"Country\", \"City\"], as_index=False).agg({'Population': 'sum'})\n",
    "\n",
    "fig = px.sunburst(gr4_cat, \n",
    "                  width=1280, \n",
    "                  height=800,\n",
    "                  path=[\"Country\", \"City\"],  \n",
    "                  values=\"Population\",  \n",
    "                  color=\"Country\",  \n",
    "                  title=\"<span style='font-size:18px;'><b>Countries and Cities in North America by Population</b></span><b></b>\"\n",
    "                  )\n",
    "\n",
    "fig.update_layout(font_size=10, margin=dict(l=10, r=10, t=30, b=50))\n",
    "fig.update_traces(textinfo=\"label+percent parent\")\n",
    "fig.show()\n"
   ]
  },
  {
   "cell_type": "code",
   "execution_count": 11,
   "id": "2af36485",
   "metadata": {
    "execution": {
     "iopub.execute_input": "2024-05-19T20:09:07.897441Z",
     "iopub.status.busy": "2024-05-19T20:09:07.897045Z",
     "iopub.status.idle": "2024-05-19T20:09:08.033960Z",
     "shell.execute_reply": "2024-05-19T20:09:08.032803Z"
    },
    "papermill": {
     "duration": 0.152267,
     "end_time": "2024-05-19T20:09:08.036619",
     "exception": false,
     "start_time": "2024-05-19T20:09:07.884352",
     "status": "completed"
    },
    "tags": []
   },
   "outputs": [
    {
     "data": {
      "text/html": [
       "<div>                            <div id=\"f5dad168-bb54-4941-b488-93d45b235aeb\" class=\"plotly-graph-div\" style=\"height:800px; width:1280px;\"></div>            <script type=\"text/javascript\">                require([\"plotly\"], function(Plotly) {                    window.PLOTLYENV=window.PLOTLYENV || {};                                    if (document.getElementById(\"f5dad168-bb54-4941-b488-93d45b235aeb\")) {                    Plotly.newPlot(                        \"f5dad168-bb54-4941-b488-93d45b235aeb\",                        [{\"branchvalues\":\"total\",\"customdata\":[[\"South America\"],[\"Oceania\"],[\"Europe\"],[\"Asia\"],[\"Europe\"],[\"South America\"],[\"North America\"],[\"Asia\"],[\"Asia\"],[\"Asia\"],[\"Asia\"],[\"Asia\"],[\"Asia\"],[\"Asia\"],[\"Asia\"],[\"Europe\"],[\"Europe\"],[\"Asia\"],[\"Africa\"],[\"Europe\"],[\"Europe\"],[\"Africa\"],[\"Europe\"],[\"Africa\"],[\"South America\"],[\"Asia\"],[\"South America\"],[\"Europe\"],[\"Africa\"],[\"Asia\"],[\"Asia\"],[\"Europe\"],[\"North America\"],[\"Europe\"],[\"Asia\"],[\"South America\"],[\"Asia\"],[\"Africa\"],[\"North America\"],[\"Europe\"],[\"Asia\"],[\"Africa\"],[\"Asia\"],[\"Europe\"],[\"Asia\"],[\"Asia\"],[\"Unknown\"],[\"Unknown\"],[\"North America\"],[\"Asia\"],[\"Asia\"],[\"Africa\"],[\"Africa\"],[\"Asia\"],[\"Europe\"],[\"North America\"],[\"Oceania\"],[\"South America\"],[\"Unknown\"]],\"domain\":{\"x\":[0.0,1.0],\"y\":[0.0,1.0]},\"hovertemplate\":\"labels=%{label}\\u003cbr\\u003esize=%{value}\\u003cbr\\u003eparent=%{parent}\\u003cbr\\u003eid=%{id}\\u003cbr\\u003eContinent=%{customdata[0]}\\u003cextra\\u003e\\u003c\\u002fextra\\u003e\",\"ids\":[\"South America\\u002fArgentina\",\"Oceania\\u002fAustralia\",\"Europe\\u002fAustria\",\"Asia\\u002fAzerbaijan\",\"Europe\\u002fBelgium\",\"South America\\u002fBrazil\",\"North America\\u002fCanada\",\"Asia\\u002fIndonesia\",\"Asia\\u002fIran\",\"Asia\\u002fIraq\",\"Asia\\u002fIsrael\",\"Asia\\u002fLebanon\",\"Asia\\u002fJapan\",\"Asia\\u002fIndia\",\"Asia\\u002fMalaysia\",\"Europe\\u002fItaly\",\"Europe\\u002fHungary\",\"Asia\\u002fKuwait\",\"Africa\\u002fGhana\",\"Europe\\u002fGermany\",\"Europe\\u002fFrance\",\"Africa\\u002fEgypt\",\"Europe\\u002fDenmark\",\"Africa\\u002fCongo\",\"South America\\u002fColombia\",\"Asia\\u002fChina\",\"South America\\u002fChile\",\"Europe\\u002fGreece\",\"Africa\\u002fSouth Africa\",\"Asia\\u002fSingapore\",\"Asia\\u002fSaudi Arabia\",\"Europe\\u002fRussia\",\"North America\\u002fPuerto Rico\",\"Europe\\u002fPortugal\",\"Asia\\u002fPhilippines\",\"South America\\u002fPeru\",\"Asia\\u002fPakistan\",\"Africa\\u002fNigeria\",\"North America\\u002fMexico\",\"Europe\\u002fPoland\",\"Asia\\u002fTaiwan\",\"Africa\\u002fSudan\",\"Asia\\u002fSouth Korea\",\"Europe\\u002fSpain\",\"Asia\\u002fThailand\",\"Asia\\u002fTurkey\",\"Unknown\\u002fUAE\",\"Unknown\\u002fUK\",\"North America\\u002fUSA\",\"Asia\\u002fUzbekistan\",\"Asia\\u002fVietnam\",\"Africa\\u002fZimbabwe\",\"Africa\",\"Asia\",\"Europe\",\"North America\",\"Oceania\",\"South America\",\"Unknown\"],\"labels\":[\"Argentina\",\"Australia\",\"Austria\",\"Azerbaijan\",\"Belgium\",\"Brazil\",\"Canada\",\"Indonesia\",\"Iran\",\"Iraq\",\"Israel\",\"Lebanon\",\"Japan\",\"India\",\"Malaysia\",\"Italy\",\"Hungary\",\"Kuwait\",\"Ghana\",\"Germany\",\"France\",\"Egypt\",\"Denmark\",\"Congo\",\"Colombia\",\"China\",\"Chile\",\"Greece\",\"South Africa\",\"Singapore\",\"Saudi Arabia\",\"Russia\",\"Puerto Rico\",\"Portugal\",\"Philippines\",\"Peru\",\"Pakistan\",\"Nigeria\",\"Mexico\",\"Poland\",\"Taiwan\",\"Sudan\",\"South Korea\",\"Spain\",\"Thailand\",\"Turkey\",\"UAE\",\"UK\",\"USA\",\"Uzbekistan\",\"Vietnam\",\"Zimbabwe\",\"Africa\",\"Asia\",\"Europe\",\"North America\",\"Oceania\",\"South America\",\"Unknown\"],\"marker\":{\"colors\":[\"#636efa\",\"#EF553B\",\"#00cc96\",\"#ab63fa\",\"#00cc96\",\"#636efa\",\"#FFA15A\",\"#ab63fa\",\"#ab63fa\",\"#ab63fa\",\"#ab63fa\",\"#ab63fa\",\"#ab63fa\",\"#ab63fa\",\"#ab63fa\",\"#00cc96\",\"#00cc96\",\"#ab63fa\",\"#19d3f3\",\"#00cc96\",\"#00cc96\",\"#19d3f3\",\"#00cc96\",\"#19d3f3\",\"#636efa\",\"#ab63fa\",\"#636efa\",\"#00cc96\",\"#19d3f3\",\"#ab63fa\",\"#ab63fa\",\"#00cc96\",\"#FFA15A\",\"#00cc96\",\"#ab63fa\",\"#636efa\",\"#ab63fa\",\"#19d3f3\",\"#FFA15A\",\"#00cc96\",\"#ab63fa\",\"#19d3f3\",\"#ab63fa\",\"#00cc96\",\"#ab63fa\",\"#ab63fa\",\"#FF6692\",\"#FF6692\",\"#FFA15A\",\"#ab63fa\",\"#ab63fa\",\"#19d3f3\",\"#19d3f3\",\"#ab63fa\",\"#00cc96\",\"#FFA15A\",\"#EF553B\",\"#636efa\",\"#FF6692\"]},\"name\":\"\",\"parents\":[\"South America\",\"Oceania\",\"Europe\",\"Asia\",\"Europe\",\"South America\",\"North America\",\"Asia\",\"Asia\",\"Asia\",\"Asia\",\"Asia\",\"Asia\",\"Asia\",\"Asia\",\"Europe\",\"Europe\",\"Asia\",\"Africa\",\"Europe\",\"Europe\",\"Africa\",\"Europe\",\"Africa\",\"South America\",\"Asia\",\"South America\",\"Europe\",\"Africa\",\"Asia\",\"Asia\",\"Europe\",\"North America\",\"Europe\",\"Asia\",\"South America\",\"Asia\",\"Africa\",\"North America\",\"Europe\",\"Asia\",\"Africa\",\"Asia\",\"Europe\",\"Asia\",\"Asia\",\"Unknown\",\"Unknown\",\"North America\",\"Asia\",\"Asia\",\"Africa\",\"\",\"\",\"\",\"\",\"\",\"\",\"\"],\"values\":[1,3,1,1,1,9,3,1,1,1,1,1,5,6,1,3,1,1,1,6,1,1,1,1,1,6,1,1,4,1,3,2,1,1,1,1,2,1,3,2,2,1,1,2,1,2,1,3,26,1,1,1,10,40,22,33,3,13,4],\"type\":\"treemap\",\"textinfo\":\"label+percent parent\"}],                        {\"template\":{\"data\":{\"histogram2dcontour\":[{\"type\":\"histogram2dcontour\",\"colorbar\":{\"outlinewidth\":0,\"ticks\":\"\"},\"colorscale\":[[0.0,\"#0d0887\"],[0.1111111111111111,\"#46039f\"],[0.2222222222222222,\"#7201a8\"],[0.3333333333333333,\"#9c179e\"],[0.4444444444444444,\"#bd3786\"],[0.5555555555555556,\"#d8576b\"],[0.6666666666666666,\"#ed7953\"],[0.7777777777777778,\"#fb9f3a\"],[0.8888888888888888,\"#fdca26\"],[1.0,\"#f0f921\"]]}],\"choropleth\":[{\"type\":\"choropleth\",\"colorbar\":{\"outlinewidth\":0,\"ticks\":\"\"}}],\"histogram2d\":[{\"type\":\"histogram2d\",\"colorbar\":{\"outlinewidth\":0,\"ticks\":\"\"},\"colorscale\":[[0.0,\"#0d0887\"],[0.1111111111111111,\"#46039f\"],[0.2222222222222222,\"#7201a8\"],[0.3333333333333333,\"#9c179e\"],[0.4444444444444444,\"#bd3786\"],[0.5555555555555556,\"#d8576b\"],[0.6666666666666666,\"#ed7953\"],[0.7777777777777778,\"#fb9f3a\"],[0.8888888888888888,\"#fdca26\"],[1.0,\"#f0f921\"]]}],\"heatmap\":[{\"type\":\"heatmap\",\"colorbar\":{\"outlinewidth\":0,\"ticks\":\"\"},\"colorscale\":[[0.0,\"#0d0887\"],[0.1111111111111111,\"#46039f\"],[0.2222222222222222,\"#7201a8\"],[0.3333333333333333,\"#9c179e\"],[0.4444444444444444,\"#bd3786\"],[0.5555555555555556,\"#d8576b\"],[0.6666666666666666,\"#ed7953\"],[0.7777777777777778,\"#fb9f3a\"],[0.8888888888888888,\"#fdca26\"],[1.0,\"#f0f921\"]]}],\"heatmapgl\":[{\"type\":\"heatmapgl\",\"colorbar\":{\"outlinewidth\":0,\"ticks\":\"\"},\"colorscale\":[[0.0,\"#0d0887\"],[0.1111111111111111,\"#46039f\"],[0.2222222222222222,\"#7201a8\"],[0.3333333333333333,\"#9c179e\"],[0.4444444444444444,\"#bd3786\"],[0.5555555555555556,\"#d8576b\"],[0.6666666666666666,\"#ed7953\"],[0.7777777777777778,\"#fb9f3a\"],[0.8888888888888888,\"#fdca26\"],[1.0,\"#f0f921\"]]}],\"contourcarpet\":[{\"type\":\"contourcarpet\",\"colorbar\":{\"outlinewidth\":0,\"ticks\":\"\"}}],\"contour\":[{\"type\":\"contour\",\"colorbar\":{\"outlinewidth\":0,\"ticks\":\"\"},\"colorscale\":[[0.0,\"#0d0887\"],[0.1111111111111111,\"#46039f\"],[0.2222222222222222,\"#7201a8\"],[0.3333333333333333,\"#9c179e\"],[0.4444444444444444,\"#bd3786\"],[0.5555555555555556,\"#d8576b\"],[0.6666666666666666,\"#ed7953\"],[0.7777777777777778,\"#fb9f3a\"],[0.8888888888888888,\"#fdca26\"],[1.0,\"#f0f921\"]]}],\"surface\":[{\"type\":\"surface\",\"colorbar\":{\"outlinewidth\":0,\"ticks\":\"\"},\"colorscale\":[[0.0,\"#0d0887\"],[0.1111111111111111,\"#46039f\"],[0.2222222222222222,\"#7201a8\"],[0.3333333333333333,\"#9c179e\"],[0.4444444444444444,\"#bd3786\"],[0.5555555555555556,\"#d8576b\"],[0.6666666666666666,\"#ed7953\"],[0.7777777777777778,\"#fb9f3a\"],[0.8888888888888888,\"#fdca26\"],[1.0,\"#f0f921\"]]}],\"mesh3d\":[{\"type\":\"mesh3d\",\"colorbar\":{\"outlinewidth\":0,\"ticks\":\"\"}}],\"scatter\":[{\"fillpattern\":{\"fillmode\":\"overlay\",\"size\":10,\"solidity\":0.2},\"type\":\"scatter\"}],\"parcoords\":[{\"type\":\"parcoords\",\"line\":{\"colorbar\":{\"outlinewidth\":0,\"ticks\":\"\"}}}],\"scatterpolargl\":[{\"type\":\"scatterpolargl\",\"marker\":{\"colorbar\":{\"outlinewidth\":0,\"ticks\":\"\"}}}],\"bar\":[{\"error_x\":{\"color\":\"#2a3f5f\"},\"error_y\":{\"color\":\"#2a3f5f\"},\"marker\":{\"line\":{\"color\":\"#E5ECF6\",\"width\":0.5},\"pattern\":{\"fillmode\":\"overlay\",\"size\":10,\"solidity\":0.2}},\"type\":\"bar\"}],\"scattergeo\":[{\"type\":\"scattergeo\",\"marker\":{\"colorbar\":{\"outlinewidth\":0,\"ticks\":\"\"}}}],\"scatterpolar\":[{\"type\":\"scatterpolar\",\"marker\":{\"colorbar\":{\"outlinewidth\":0,\"ticks\":\"\"}}}],\"histogram\":[{\"marker\":{\"pattern\":{\"fillmode\":\"overlay\",\"size\":10,\"solidity\":0.2}},\"type\":\"histogram\"}],\"scattergl\":[{\"type\":\"scattergl\",\"marker\":{\"colorbar\":{\"outlinewidth\":0,\"ticks\":\"\"}}}],\"scatter3d\":[{\"type\":\"scatter3d\",\"line\":{\"colorbar\":{\"outlinewidth\":0,\"ticks\":\"\"}},\"marker\":{\"colorbar\":{\"outlinewidth\":0,\"ticks\":\"\"}}}],\"scattermapbox\":[{\"type\":\"scattermapbox\",\"marker\":{\"colorbar\":{\"outlinewidth\":0,\"ticks\":\"\"}}}],\"scatterternary\":[{\"type\":\"scatterternary\",\"marker\":{\"colorbar\":{\"outlinewidth\":0,\"ticks\":\"\"}}}],\"scattercarpet\":[{\"type\":\"scattercarpet\",\"marker\":{\"colorbar\":{\"outlinewidth\":0,\"ticks\":\"\"}}}],\"carpet\":[{\"aaxis\":{\"endlinecolor\":\"#2a3f5f\",\"gridcolor\":\"white\",\"linecolor\":\"white\",\"minorgridcolor\":\"white\",\"startlinecolor\":\"#2a3f5f\"},\"baxis\":{\"endlinecolor\":\"#2a3f5f\",\"gridcolor\":\"white\",\"linecolor\":\"white\",\"minorgridcolor\":\"white\",\"startlinecolor\":\"#2a3f5f\"},\"type\":\"carpet\"}],\"table\":[{\"cells\":{\"fill\":{\"color\":\"#EBF0F8\"},\"line\":{\"color\":\"white\"}},\"header\":{\"fill\":{\"color\":\"#C8D4E3\"},\"line\":{\"color\":\"white\"}},\"type\":\"table\"}],\"barpolar\":[{\"marker\":{\"line\":{\"color\":\"#E5ECF6\",\"width\":0.5},\"pattern\":{\"fillmode\":\"overlay\",\"size\":10,\"solidity\":0.2}},\"type\":\"barpolar\"}],\"pie\":[{\"automargin\":true,\"type\":\"pie\"}]},\"layout\":{\"autotypenumbers\":\"strict\",\"colorway\":[\"#636efa\",\"#EF553B\",\"#00cc96\",\"#ab63fa\",\"#FFA15A\",\"#19d3f3\",\"#FF6692\",\"#B6E880\",\"#FF97FF\",\"#FECB52\"],\"font\":{\"color\":\"#2a3f5f\"},\"hovermode\":\"closest\",\"hoverlabel\":{\"align\":\"left\"},\"paper_bgcolor\":\"white\",\"plot_bgcolor\":\"#E5ECF6\",\"polar\":{\"bgcolor\":\"#E5ECF6\",\"angularaxis\":{\"gridcolor\":\"white\",\"linecolor\":\"white\",\"ticks\":\"\"},\"radialaxis\":{\"gridcolor\":\"white\",\"linecolor\":\"white\",\"ticks\":\"\"}},\"ternary\":{\"bgcolor\":\"#E5ECF6\",\"aaxis\":{\"gridcolor\":\"white\",\"linecolor\":\"white\",\"ticks\":\"\"},\"baxis\":{\"gridcolor\":\"white\",\"linecolor\":\"white\",\"ticks\":\"\"},\"caxis\":{\"gridcolor\":\"white\",\"linecolor\":\"white\",\"ticks\":\"\"}},\"coloraxis\":{\"colorbar\":{\"outlinewidth\":0,\"ticks\":\"\"}},\"colorscale\":{\"sequential\":[[0.0,\"#0d0887\"],[0.1111111111111111,\"#46039f\"],[0.2222222222222222,\"#7201a8\"],[0.3333333333333333,\"#9c179e\"],[0.4444444444444444,\"#bd3786\"],[0.5555555555555556,\"#d8576b\"],[0.6666666666666666,\"#ed7953\"],[0.7777777777777778,\"#fb9f3a\"],[0.8888888888888888,\"#fdca26\"],[1.0,\"#f0f921\"]],\"sequentialminus\":[[0.0,\"#0d0887\"],[0.1111111111111111,\"#46039f\"],[0.2222222222222222,\"#7201a8\"],[0.3333333333333333,\"#9c179e\"],[0.4444444444444444,\"#bd3786\"],[0.5555555555555556,\"#d8576b\"],[0.6666666666666666,\"#ed7953\"],[0.7777777777777778,\"#fb9f3a\"],[0.8888888888888888,\"#fdca26\"],[1.0,\"#f0f921\"]],\"diverging\":[[0,\"#8e0152\"],[0.1,\"#c51b7d\"],[0.2,\"#de77ae\"],[0.3,\"#f1b6da\"],[0.4,\"#fde0ef\"],[0.5,\"#f7f7f7\"],[0.6,\"#e6f5d0\"],[0.7,\"#b8e186\"],[0.8,\"#7fbc41\"],[0.9,\"#4d9221\"],[1,\"#276419\"]]},\"xaxis\":{\"gridcolor\":\"white\",\"linecolor\":\"white\",\"ticks\":\"\",\"title\":{\"standoff\":15},\"zerolinecolor\":\"white\",\"automargin\":true,\"zerolinewidth\":2},\"yaxis\":{\"gridcolor\":\"white\",\"linecolor\":\"white\",\"ticks\":\"\",\"title\":{\"standoff\":15},\"zerolinecolor\":\"white\",\"automargin\":true,\"zerolinewidth\":2},\"scene\":{\"xaxis\":{\"backgroundcolor\":\"#E5ECF6\",\"gridcolor\":\"white\",\"linecolor\":\"white\",\"showbackground\":true,\"ticks\":\"\",\"zerolinecolor\":\"white\",\"gridwidth\":2},\"yaxis\":{\"backgroundcolor\":\"#E5ECF6\",\"gridcolor\":\"white\",\"linecolor\":\"white\",\"showbackground\":true,\"ticks\":\"\",\"zerolinecolor\":\"white\",\"gridwidth\":2},\"zaxis\":{\"backgroundcolor\":\"#E5ECF6\",\"gridcolor\":\"white\",\"linecolor\":\"white\",\"showbackground\":true,\"ticks\":\"\",\"zerolinecolor\":\"white\",\"gridwidth\":2}},\"shapedefaults\":{\"line\":{\"color\":\"#2a3f5f\"}},\"annotationdefaults\":{\"arrowcolor\":\"#2a3f5f\",\"arrowhead\":0,\"arrowwidth\":1},\"geo\":{\"bgcolor\":\"white\",\"landcolor\":\"#E5ECF6\",\"subunitcolor\":\"white\",\"showland\":true,\"showlakes\":true,\"lakecolor\":\"white\"},\"title\":{\"x\":0.05},\"mapbox\":{\"style\":\"light\"}}},\"legend\":{\"tracegroupgap\":0},\"margin\":{\"t\":60},\"height\":800,\"width\":1280},                        {\"responsive\": true}                    ).then(function(){\n",
       "                            \n",
       "var gd = document.getElementById('f5dad168-bb54-4941-b488-93d45b235aeb');\n",
       "var x = new MutationObserver(function (mutations, observer) {{\n",
       "        var display = window.getComputedStyle(gd).display;\n",
       "        if (!display || display === 'none') {{\n",
       "            console.log([gd, 'removed!']);\n",
       "            Plotly.purge(gd);\n",
       "            observer.disconnect();\n",
       "        }}\n",
       "}});\n",
       "\n",
       "// Listen for the removal of the full notebook cells\n",
       "var notebookContainer = gd.closest('#notebook-container');\n",
       "if (notebookContainer) {{\n",
       "    x.observe(notebookContainer, {childList: true});\n",
       "}}\n",
       "\n",
       "// Listen for the clearing of the current output cell\n",
       "var outputEl = gd.closest('.output');\n",
       "if (outputEl) {{\n",
       "    x.observe(outputEl, {childList: true});\n",
       "}}\n",
       "\n",
       "                        })                };                });            </script>        </div>"
      ]
     },
     "metadata": {},
     "output_type": "display_data"
    }
   ],
   "source": [
    "fig = px.treemap(gr_cat, width=1280, height=800,\n",
    "                 path=['Continent', 'Country'], values='size',\n",
    "                 color='Continent')\n",
    "fig.update_traces(textinfo=\"label+percent parent\")\n",
    "fig.show()"
   ]
  }
 ],
 "metadata": {
  "kaggle": {
   "accelerator": "none",
   "dataSources": [
    {
     "datasetId": 936572,
     "sourceId": 1771394,
     "sourceType": "datasetVersion"
    }
   ],
   "dockerImageVersionId": 30698,
   "isGpuEnabled": false,
   "isInternetEnabled": true,
   "language": "python",
   "sourceType": "notebook"
  },
  "kernelspec": {
   "display_name": "Python 3",
   "language": "python",
   "name": "python3"
  },
  "language_info": {
   "codemirror_mode": {
    "name": "ipython",
    "version": 3
   },
   "file_extension": ".py",
   "mimetype": "text/x-python",
   "name": "python",
   "nbconvert_exporter": "python",
   "pygments_lexer": "ipython3",
   "version": "3.10.13"
  },
  "papermill": {
   "default_parameters": {},
   "duration": 28.329241,
   "end_time": "2024-05-19T20:09:08.670506",
   "environment_variables": {},
   "exception": null,
   "input_path": "__notebook__.ipynb",
   "output_path": "__notebook__.ipynb",
   "parameters": {},
   "start_time": "2024-05-19T20:08:40.341265",
   "version": "2.5.0"
  }
 },
 "nbformat": 4,
 "nbformat_minor": 5
}
