{
 "cells": [
  {
   "cell_type": "markdown",
   "id": "c533777f",
   "metadata": {
    "papermill": {
     "duration": 0.005831,
     "end_time": "2024-07-08T17:40:36.411479",
     "exception": false,
     "start_time": "2024-07-08T17:40:36.405648",
     "status": "completed"
    },
    "tags": []
   },
   "source": [
    "Praktice with sunburst charts and treemap charts on the tech layoffs dataset.\n",
    "\n",
    "Let's explore!"
   ]
  },
  {
   "cell_type": "code",
   "execution_count": 1,
   "id": "b26d373b",
   "metadata": {
    "_cell_guid": "b1076dfc-b9ad-4769-8c92-a6c4dae69d19",
    "_uuid": "8f2839f25d086af736a60e9eeb907d3b93b6e0e5",
    "execution": {
     "iopub.execute_input": "2024-07-08T17:40:36.424156Z",
     "iopub.status.busy": "2024-07-08T17:40:36.423729Z",
     "iopub.status.idle": "2024-07-08T17:40:37.421963Z",
     "shell.execute_reply": "2024-07-08T17:40:37.420775Z"
    },
    "papermill": {
     "duration": 1.007305,
     "end_time": "2024-07-08T17:40:37.424349",
     "exception": false,
     "start_time": "2024-07-08T17:40:36.417044",
     "status": "completed"
    },
    "tags": []
   },
   "outputs": [
    {
     "data": {
      "text/html": [
       "<div>\n",
       "<style scoped>\n",
       "    .dataframe tbody tr th:only-of-type {\n",
       "        vertical-align: middle;\n",
       "    }\n",
       "\n",
       "    .dataframe tbody tr th {\n",
       "        vertical-align: top;\n",
       "    }\n",
       "\n",
       "    .dataframe thead th {\n",
       "        text-align: right;\n",
       "    }\n",
       "</style>\n",
       "<table border=\"1\" class=\"dataframe\">\n",
       "  <thead>\n",
       "    <tr style=\"text-align: right;\">\n",
       "      <th></th>\n",
       "      <th>#</th>\n",
       "      <th>Company</th>\n",
       "      <th>Location_HQ</th>\n",
       "      <th>Region</th>\n",
       "      <th>State</th>\n",
       "      <th>Country</th>\n",
       "      <th>Continent</th>\n",
       "      <th>Laid_Off</th>\n",
       "      <th>Date_layoffs</th>\n",
       "      <th>Percentage</th>\n",
       "      <th>Company_Size_before_Layoffs</th>\n",
       "      <th>Company_Size_after_layoffs</th>\n",
       "      <th>Industry</th>\n",
       "      <th>Stage</th>\n",
       "      <th>Money_Raised_in__mil</th>\n",
       "      <th>Year</th>\n",
       "      <th>latitude</th>\n",
       "      <th>longitude</th>\n",
       "    </tr>\n",
       "  </thead>\n",
       "  <tbody>\n",
       "    <tr>\n",
       "      <th>0</th>\n",
       "      <td>1</td>\n",
       "      <td>Tamara Mellon</td>\n",
       "      <td>Los Angeles</td>\n",
       "      <td>NaN</td>\n",
       "      <td>California</td>\n",
       "      <td>USA</td>\n",
       "      <td>North America</td>\n",
       "      <td>20.0</td>\n",
       "      <td>2020-03-12</td>\n",
       "      <td>40,0</td>\n",
       "      <td>50</td>\n",
       "      <td>30</td>\n",
       "      <td>Retail</td>\n",
       "      <td>Series C</td>\n",
       "      <td>90.0</td>\n",
       "      <td>2020</td>\n",
       "      <td>34.053691</td>\n",
       "      <td>-118.242766</td>\n",
       "    </tr>\n",
       "    <tr>\n",
       "      <th>1</th>\n",
       "      <td>2</td>\n",
       "      <td>HopSkipDrive</td>\n",
       "      <td>Los Angeles</td>\n",
       "      <td>NaN</td>\n",
       "      <td>California</td>\n",
       "      <td>USA</td>\n",
       "      <td>North America</td>\n",
       "      <td>8.0</td>\n",
       "      <td>2020-03-13</td>\n",
       "      <td>10,0</td>\n",
       "      <td>80</td>\n",
       "      <td>72</td>\n",
       "      <td>Transportation</td>\n",
       "      <td>Unknown</td>\n",
       "      <td>45.0</td>\n",
       "      <td>2020</td>\n",
       "      <td>34.053691</td>\n",
       "      <td>-118.242766</td>\n",
       "    </tr>\n",
       "    <tr>\n",
       "      <th>2</th>\n",
       "      <td>3</td>\n",
       "      <td>Panda Squad</td>\n",
       "      <td>San Francisco</td>\n",
       "      <td>San Francisco Bay Area</td>\n",
       "      <td>California</td>\n",
       "      <td>USA</td>\n",
       "      <td>North America</td>\n",
       "      <td>6.0</td>\n",
       "      <td>2020-03-13</td>\n",
       "      <td>75,0</td>\n",
       "      <td>8</td>\n",
       "      <td>2</td>\n",
       "      <td>Consumer</td>\n",
       "      <td>Seed</td>\n",
       "      <td>1.0</td>\n",
       "      <td>2020</td>\n",
       "      <td>37.779259</td>\n",
       "      <td>-122.419329</td>\n",
       "    </tr>\n",
       "    <tr>\n",
       "      <th>3</th>\n",
       "      <td>4</td>\n",
       "      <td>Help.com</td>\n",
       "      <td>Austin</td>\n",
       "      <td>NaN</td>\n",
       "      <td>NaN</td>\n",
       "      <td>USA</td>\n",
       "      <td>North America</td>\n",
       "      <td>16.0</td>\n",
       "      <td>2020-03-16</td>\n",
       "      <td>100,0</td>\n",
       "      <td>16</td>\n",
       "      <td>0</td>\n",
       "      <td>Support</td>\n",
       "      <td>Seed</td>\n",
       "      <td>6.0</td>\n",
       "      <td>2020</td>\n",
       "      <td>30.271129</td>\n",
       "      <td>-97.743700</td>\n",
       "    </tr>\n",
       "    <tr>\n",
       "      <th>4</th>\n",
       "      <td>5</td>\n",
       "      <td>Inspirato</td>\n",
       "      <td>Denver</td>\n",
       "      <td>NaN</td>\n",
       "      <td>NaN</td>\n",
       "      <td>USA</td>\n",
       "      <td>North America</td>\n",
       "      <td>130.0</td>\n",
       "      <td>2020-03-16</td>\n",
       "      <td>22,0</td>\n",
       "      <td>591</td>\n",
       "      <td>461</td>\n",
       "      <td>Travel</td>\n",
       "      <td>Series C</td>\n",
       "      <td>79.0</td>\n",
       "      <td>2020</td>\n",
       "      <td>39.739236</td>\n",
       "      <td>-104.984862</td>\n",
       "    </tr>\n",
       "  </tbody>\n",
       "</table>\n",
       "</div>"
      ],
      "text/plain": [
       "   #        Company    Location_HQ                  Region       State  \\\n",
       "0  1  Tamara Mellon    Los Angeles                     NaN  California   \n",
       "1  2   HopSkipDrive    Los Angeles                     NaN  California   \n",
       "2  3    Panda Squad  San Francisco  San Francisco Bay Area  California   \n",
       "3  4       Help.com         Austin                     NaN         NaN   \n",
       "4  5      Inspirato         Denver                     NaN         NaN   \n",
       "\n",
       "  Country      Continent  Laid_Off Date_layoffs Percentage  \\\n",
       "0     USA  North America      20.0   2020-03-12       40,0   \n",
       "1     USA  North America       8.0   2020-03-13       10,0   \n",
       "2     USA  North America       6.0   2020-03-13       75,0   \n",
       "3     USA  North America      16.0   2020-03-16      100,0   \n",
       "4     USA  North America     130.0   2020-03-16       22,0   \n",
       "\n",
       "  Company_Size_before_Layoffs Company_Size_after_layoffs        Industry  \\\n",
       "0                         50                         30           Retail   \n",
       "1                         80                         72   Transportation   \n",
       "2                          8                          2         Consumer   \n",
       "3                         16                          0          Support   \n",
       "4                        591                        461           Travel   \n",
       "\n",
       "      Stage  Money_Raised_in__mil  Year   latitude   longitude  \n",
       "0  Series C                  90.0  2020  34.053691 -118.242766  \n",
       "1   Unknown                  45.0  2020  34.053691 -118.242766  \n",
       "2      Seed                   1.0  2020  37.779259 -122.419329  \n",
       "3      Seed                   6.0  2020  30.271129  -97.743700  \n",
       "4  Series C                  79.0  2020  39.739236 -104.984862  "
      ]
     },
     "metadata": {},
     "output_type": "display_data"
    },
    {
     "name": "stdout",
     "output_type": "stream",
     "text": [
      "<class 'pandas.core.frame.DataFrame'>\n",
      "RangeIndex: 1839 entries, 0 to 1838\n",
      "Data columns (total 18 columns):\n",
      " #   Column                       Non-Null Count  Dtype  \n",
      "---  ------                       --------------  -----  \n",
      " 0   #                            1839 non-null   int64  \n",
      " 1   Company                      1839 non-null   object \n",
      " 2   Location_HQ                  1839 non-null   object \n",
      " 3   Region                       473 non-null    object \n",
      " 4   State                        566 non-null    object \n",
      " 5   Country                      1839 non-null   object \n",
      " 6   Continent                    1839 non-null   object \n",
      " 7   Laid_Off                     1677 non-null   float64\n",
      " 8   Date_layoffs                 1839 non-null   object \n",
      " 9   Percentage                   1667 non-null   object \n",
      " 10  Company_Size_before_Layoffs  1585 non-null   object \n",
      " 11  Company_Size_after_layoffs   1619 non-null   object \n",
      " 12  Industry                     1839 non-null   object \n",
      " 13  Stage                        1839 non-null   object \n",
      " 14  Money_Raised_in__mil         1692 non-null   float64\n",
      " 15  Year                         1839 non-null   int64  \n",
      " 16  latitude                     1839 non-null   float64\n",
      " 17  longitude                    1839 non-null   float64\n",
      "dtypes: float64(4), int64(2), object(12)\n",
      "memory usage: 258.7+ KB\n"
     ]
    },
    {
     "data": {
      "text/plain": [
       "None"
      ]
     },
     "metadata": {},
     "output_type": "display_data"
    }
   ],
   "source": [
    "# Loading dataframe\n",
    "import pandas as pd\n",
    "\n",
    "df = pd.read_csv('/kaggle/input/tech-layoffs-2020-2024/tech_layoffs_Q2_2024.csv')\n",
    "\n",
    "# Display the first few rows of the DataFrame\n",
    "display(df.head())\n",
    "\n",
    "# Display the DataFrame information\n",
    "display(df.info(verbose=True))"
   ]
  },
  {
   "cell_type": "markdown",
   "id": "64a0906d",
   "metadata": {
    "papermill": {
     "duration": 0.006291,
     "end_time": "2024-07-08T17:40:37.436603",
     "exception": false,
     "start_time": "2024-07-08T17:40:37.430312",
     "status": "completed"
    },
    "tags": []
   },
   "source": [
    "Let`s start with the sunburst and treemap charts\n",
    "\n",
    "The following code creates a DataFrame that shows how many times each combination of Country and Location_HQ appears in the original DataFrame df. The result will include three columns: Country, Location_HQ, and size (the count of occurrences for each combination)."
   ]
  },
  {
   "cell_type": "code",
   "execution_count": 2,
   "id": "d4b6941d",
   "metadata": {
    "execution": {
     "iopub.execute_input": "2024-07-08T17:40:37.450561Z",
     "iopub.status.busy": "2024-07-08T17:40:37.450136Z",
     "iopub.status.idle": "2024-07-08T17:40:37.464743Z",
     "shell.execute_reply": "2024-07-08T17:40:37.463579Z"
    },
    "papermill": {
     "duration": 0.024958,
     "end_time": "2024-07-08T17:40:37.467519",
     "exception": false,
     "start_time": "2024-07-08T17:40:37.442561",
     "status": "completed"
    },
    "tags": []
   },
   "outputs": [],
   "source": [
    "gr_cat = df[[\"Country\",\n",
    "             \"Location_HQ\"]].groupby([\"Country\",\n",
    "                                       \"Location_HQ\"], as_index=False).size()"
   ]
  },
  {
   "cell_type": "markdown",
   "id": "e4d25624",
   "metadata": {
    "papermill": {
     "duration": 0.005913,
     "end_time": "2024-07-08T17:40:37.479611",
     "exception": false,
     "start_time": "2024-07-08T17:40:37.473698",
     "status": "completed"
    },
    "tags": []
   },
   "source": [
    "**Sunburst Chart**\n",
    "\n",
    "This code imports the plotly.express library and uses it to create a sunburst chart from the DataFrame gr_cat. The chart is configured to show the hierarchy of tech layoffs by country and location headquarters, with the size of each segment representing the number of layoffs. Each segment is colored according to its country. The chart is set to a width of 1280 pixels and a height of 800 pixels, and it has a custom title: \"Locations of tech layoffs by location HQ and countries (cities in total number)\". The layout of the chart is further customized by adjusting the font size and margins. The trace information is updated to display both the label and the percentage of the parent segment. Finally, the chart is displayed on the screen using fig.show()."
   ]
  },
  {
   "cell_type": "code",
   "execution_count": 3,
   "id": "7da5acae",
   "metadata": {
    "execution": {
     "iopub.execute_input": "2024-07-08T17:40:37.493529Z",
     "iopub.status.busy": "2024-07-08T17:40:37.493114Z",
     "iopub.status.idle": "2024-07-08T17:40:40.336450Z",
     "shell.execute_reply": "2024-07-08T17:40:40.335313Z"
    },
    "papermill": {
     "duration": 2.853246,
     "end_time": "2024-07-08T17:40:40.338927",
     "exception": false,
     "start_time": "2024-07-08T17:40:37.485681",
     "status": "completed"
    },
    "tags": []
   },
   "outputs": [
    {
     "data": {
      "text/html": [
       "        <script type=\"text/javascript\">\n",
       "        window.PlotlyConfig = {MathJaxConfig: 'local'};\n",
       "        if (window.MathJax && window.MathJax.Hub && window.MathJax.Hub.Config) {window.MathJax.Hub.Config({SVG: {font: \"STIX-Web\"}});}\n",
       "        if (typeof require !== 'undefined') {\n",
       "        require.undef(\"plotly\");\n",
       "        requirejs.config({\n",
       "            paths: {\n",
       "                'plotly': ['https://cdn.plot.ly/plotly-2.27.0.min']\n",
       "            }\n",
       "        });\n",
       "        require(['plotly'], function(Plotly) {\n",
       "            window._Plotly = Plotly;\n",
       "        });\n",
       "        }\n",
       "        </script>\n",
       "        "
      ]
     },
     "metadata": {},
     "output_type": "display_data"
    },
    {
     "data": {
      "text/html": [
       "<div>                            <div id=\"6cb509e7-cdef-416b-8a89-30a7fb7dde2b\" class=\"plotly-graph-div\" style=\"height:800px; width:1280px;\"></div>            <script type=\"text/javascript\">                require([\"plotly\"], function(Plotly) {                    window.PLOTLYENV=window.PLOTLYENV || {};                                    if (document.getElementById(\"6cb509e7-cdef-416b-8a89-30a7fb7dde2b\")) {                    Plotly.newPlot(                        \"6cb509e7-cdef-416b-8a89-30a7fb7dde2b\",                        [{\"branchvalues\":\"total\",\"customdata\":[[\"Australia\"],[\"USA\"],[\"India\"],[\"USA\"],[\"Netherlands\"],[\"USA\"],[\"USA\"],[\"China\"],[\"Spain\"],[\"Thailand\"],[\"USA\"],[\"New Zealand\"],[\"USA\"],[\"Brazil\"],[\"USA\"],[\"USA\"],[\"USA\"],[\"Germany\"],[\"USA\"],[\"Brazil\"],[\"USA\"],[\"India\"],[\"USA\"],[\"Australia\"],[\"USA\"],[\"UK\"],[\"Czech Republic\"],[\"Argentina\"],[\"USA\"],[\"USA\"],[\"Canada\"],[\"USA\"],[\"USA\"],[\"Cayman Islands\"],[\"USA\"],[\"Denmark\"],[\"USA\"],[\"UK\"],[\"India\"],[\"USA\"],[\"USA\"],[\"USA\"],[\"USA\"],[\"USA\"],[\"USA\"],[\"Brazil\"],[\"Senegal\"],[\"USA\"],[\"USA\"],[\"USA\"],[\"United Arabian Emirates\"],[\"Ireland\"],[\"USA\"],[\"UK\"],[\"Canada\"],[\"Germany\"],[\"USA\"],[\"USA\"],[\"Finland\"],[\"Brazil\"],[\"USA\"],[\"USA\"],[\"Belgium\"],[\"USA\"],[\"Sweden\"],[\"USA\"],[\"Mexico\"],[\"India\"],[\"Israel\"],[\"USA\"],[\"Germany\"],[\"USA\"],[\"USA\"],[\"Finland\"],[\"Hong Kong\"],[\"Netherlands\"],[\"USA\"],[\"USA\"],[\"Indonesia\"],[\"Indonesia\"],[\"Israel\"],[\"Brazil\"],[\"Pakistan\"],[\"USA\"],[\"Germany\"],[\"Israel\"],[\"Germany\"],[\"Canada\"],[\"Poland\"],[\"Portugal\"],[\"USA\"],[\"Poland\"],[\"USA\"],[\"Nigeria\"],[\"USA\"],[\"Malaysia\"],[\"UK\"],[\"USA\"],[\"South Korea\"],[\"USA\"],[\"Canada\"],[\"Brazil\"],[\"Chile\"],[\"USA\"],[\"USA\"],[\"USA\"],[\"USA\"],[\"USA\"],[\"USA\"],[\"USA\"],[\"USA\"],[\"USA\"],[\"USA\"],[\"USA\"],[\"USA\"],[\"UK\"],[\"USA\"],[\"USA\"],[\"China\"],[\"USA\"],[\"USA\"],[\"Japan\"],[\"USA\"],[\"China\"],[\"USA\"],[\"New Zealand\"],[\"Canada\"],[\"USA\"],[\"Poland\"],[\"USA\"],[\"USA\"],[\"Germany\"],[\"Lithuania\"],[\"Singapore\"],[\"Austria\"],[\"Canada\"],[\"USA\"],[\"Israel\"],[\"USA\"],[\"USA\"],[\"Estonia\"],[\"Australia\"],[\"USA\"],[\"Sweden\"],[\"USA\"],[\"Canada\"],[\"USA\"],[\"USA\"],[\"India\"],[\"Germany\"],[\"India\"],[\"USA\"],[\"Russia\"],[\"Canada\"],[\"Uruquay\"],[\"USA\"],[\"USA\"],[\"USA\"],[\"USA\"],[\"USA\"],[\"Mexico\"],[\"USA\"],[\"USA\"],[\"Australia\"],[\"UK\"],[\"Sweden\"],[\"Spain\"],[\"USA\"],[\"USA\"],[\"UK\"],[\"Kenya\"],[\"Israel\"],[\"India\"],[\"USA\"],[\"Czech Republic\"],[\"USA\"],[\"USA\"],[\"USA\"],[\"USA\"],[\"USA\"],[\"France\"],[\"USA\"],[\"UK\"],[\"Canada\"],[\"USA\"],[\"Norway\"],[\"USA\"],[\"USA\"],[\"USA\"],[\"India\"],[\"USA\"],[\"USA\"],[\"USA\"],[\"India\"],[\"Israel\"],[\"USA\"],[\"USA\"],[\"Israel\"],[\"Switzerland\"],[\"Argentina\"],[\"Australia\"],[\"Austria\"],[\"Belgium\"],[\"Brazil\"],[\"Canada\"],[\"Cayman Islands\"],[\"Chile\"],[\"China\"],[\"Czech Republic\"],[\"Denmark\"],[\"Estonia\"],[\"Finland\"],[\"France\"],[\"Germany\"],[\"Hong Kong\"],[\"India\"],[\"Indonesia\"],[\"Ireland\"],[\"Israel\"],[\"Japan\"],[\"Kenya\"],[\"Lithuania\"],[\"Malaysia\"],[\"Mexico\"],[\"Netherlands\"],[\"New Zealand\"],[\"Nigeria\"],[\"Norway\"],[\"Pakistan\"],[\"Poland\"],[\"Portugal\"],[\"Russia\"],[\"Senegal\"],[\"Singapore\"],[\"South Korea\"],[\"Spain\"],[\"Sweden\"],[\"Switzerland\"],[\"Thailand\"],[\"UK\"],[\"USA\"],[\"United Arabian Emirates\"],[\"Uruquay\"]],\"domain\":{\"x\":[0.0,1.0],\"y\":[0.0,1.0]},\"hovertemplate\":\"labels=%{label}\\u003cbr\\u003esize=%{value}\\u003cbr\\u003eparent=%{parent}\\u003cbr\\u003eid=%{id}\\u003cbr\\u003eCountry=%{customdata[0]}\\u003cextra\\u003e\\u003c\\u002fextra\\u003e\",\"ids\":[\"Australia\\u002fAdelaide\",\"USA\\u002fAgoura Hills\",\"India\\u002fAhmedabad\",\"USA\\u002fAlameda\",\"Netherlands\\u002fAmsterdam\",\"USA\\u002fAnn Arbor\",\"USA\\u002fAtlanta\",\"China\\u002fBejing\",\"Spain\\u002fBarcelona\",\"Thailand\\u002fBangkok\",\"USA\\u002fAustin\",\"New Zealand\\u002fAuckland\",\"USA\\u002fBaltimore\",\"Brazil\\u002fBlumenau\",\"USA\\u002fBoston\",\"USA\\u002fBoise\",\"USA\\u002fBerkeley\",\"Germany\\u002fBerlin\",\"USA\\u002fBend\",\"Brazil\\u002fBelo Horizonte\",\"USA\\u002fBelleville\",\"India\\u002fBengaluru\",\"USA\\u002fBoulder\",\"Australia\\u002fBrisbane\",\"USA\\u002fBrisbane\",\"UK\\u002fBristol\",\"Czech Republic\\u002fBrno\",\"Argentina\\u002fBuenos Aires\",\"USA\\u002fBurlingame\",\"USA\\u002fBurlington\",\"Canada\\u002fCalgary\",\"USA\\u002fCamarillo\",\"USA\\u002fCampbell\",\"Cayman Islands\\u002fCayman Islands\",\"USA\\u002fColumbus\",\"Denmark\\u002fCopenhagen\",\"USA\\u002fCincinnati\",\"UK\\u002fChester\",\"India\\u002fChennai\",\"USA\\u002fCharleston\",\"USA\\u002fChicago\",\"USA\\u002fCoral Gables\",\"USA\\u002fDenver\",\"USA\\u002fCorvallis\",\"USA\\u002fCupertino\",\"Brazil\\u002fCuritiba\",\"Senegal\\u002fDakar\",\"USA\\u002fDallas\",\"USA\\u002fDetroit\",\"USA\\u002fDover\",\"United Arabian Emirates\\u002fDubai\",\"Ireland\\u002fDublin\",\"USA\\u002fDurham\",\"UK\\u002fEdinburgh\",\"Canada\\u002fFerdericton\",\"Germany\\u002fFrankfurt am Main\",\"USA\\u002fFremont\",\"USA\\u002fFort Collins\",\"Finland\\u002fEspoo\",\"Brazil\\u002fFlorianopolis\",\"USA\\u002fForster City\",\"USA\\u002fFresno\",\"Belgium\\u002fGhent\",\"USA\\u002fGilroy\",\"Sweden\\u002fGothenburg\",\"USA\\u002fGreenwood Village\",\"Mexico\\u002fGuadalajara\",\"India\\u002fGurugram\",\"Israel\\u002fHaifa\",\"USA\\u002fHaifa\",\"Germany\\u002fHamburg\",\"USA\\u002fHartford\",\"USA\\u002fHayward\",\"Finland\\u002fHelsinki\",\"Hong Kong\\u002fHong Kong\",\"Netherlands\\u002fHoofddorp\",\"USA\\u002fHuntington Beach\",\"USA\\u002fIndianapolis\",\"Indonesia\\u002fIndonesia\",\"Indonesia\\u002fJakarta\",\"Israel\\u002fJerusalem\",\"Brazil\\u002fJoinville\",\"Pakistan\\u002fKarachi\",\"USA\\u002fKansas City\",\"Germany\\u002fKarlsruhe\",\"Israel\\u002fKfar Saba\",\"Germany\\u002fKiel\",\"Canada\\u002fKitchener\",\"Poland\\u002fKrakow\",\"Portugal\\u002fLisbon\",\"USA\\u002fLogan\",\"Poland\\u002fLodz\",\"USA\\u002fLehi\",\"Nigeria\\u002fLagos\",\"USA\\u002fLas Vegas\",\"Malaysia\\u002fKuala Lumpur\",\"UK\\u002fLeamington Spa\",\"USA\\u002fSan Mateo\",\"South Korea\\u002fSeoul\",\"USA\\u002fSeattle\",\"Canada\\u002fSaskatoon\",\"Brazil\\u002fSao Paulo\",\"Chile\\u002fSantiago\",\"USA\\u002fSanta Fe\",\"USA\\u002fSanta Clara\",\"USA\\u002fSanta Barbara\",\"USA\\u002fSan Rafael\",\"USA\\u002fSan Luis Obispo\",\"USA\\u002fReno\",\"USA\\u002fSan Jose\",\"USA\\u002fSan Francisco\",\"USA\\u002fSan Diego\",\"USA\\u002fSan Carlos\",\"USA\\u002fSan Bruno\",\"USA\\u002fSalt Lake City\",\"UK\\u002fSalisbury\",\"USA\\u002fSacramento\",\"USA\\u002fRichmond\",\"China\\u002fShanghai\",\"USA\\u002fSan Leandro\",\"USA\\u002fSheffield\",\"Japan\\u002fTokyo\",\"USA\\u002fSpokane\",\"China\\u002fXi'an\",\"USA\\u002fWilmington\",\"New Zealand\\u002fWellington\",\"Canada\\u002fWaterloo\",\"USA\\u002fWashington DC\",\"Poland\\u002fWarsaw\",\"USA\\u002fWaltham\",\"USA\\u002fWalnut\",\"Germany\\u002fWalldorf\",\"Lithuania\\u002fVilnius\",\"Singapore\\u002fSingapore\",\"Austria\\u002fVienna\",\"Canada\\u002fToronto\",\"USA\\u002fRedwood City\",\"Israel\\u002fTel Aviv\",\"USA\\u002fTampa Bay\",\"USA\\u002fTampa\",\"Estonia\\u002fTallinn\",\"Australia\\u002fSydney\",\"USA\\u002fSunnyvale\",\"Sweden\\u002fStockholm\",\"USA\\u002fStamford\",\"Canada\\u002fVancouver\",\"USA\\u002fRaleigh\",\"USA\\u002fLos Gatos\",\"India\\u002fPune\",\"Germany\\u002fMunich\",\"India\\u002fMumbai\",\"USA\\u002fMountain View\",\"Russia\\u002fMoscow\",\"Canada\\u002fMontreal\",\"Uruquay\\u002fMontevideo\",\"USA\\u002fMissoula\",\"USA\\u002fMinneapolis\",\"USA\\u002fMilwaukee\",\"USA\\u002fMilpitas\",\"USA\\u002fMiami\",\"Mexico\\u002fMexico City\",\"USA\\u002fMenlo Park\",\"USA\\u002fMemphis\",\"Australia\\u002fMelbourne\",\"UK\\u002fManchester\",\"Sweden\\u002fMalmö\",\"Spain\\u002fMadrid\",\"USA\\u002fMadison\",\"USA\\u002fLos Angeles\",\"UK\\u002fLondon\",\"Kenya\\u002fNairobi\",\"Israel\\u002fRa'anana\",\"India\\u002fNashik\",\"USA\\u002fNashville\",\"Czech Republic\\u002fPrague\",\"USA\\u002fPortland\",\"USA\\u002fPleasanton\",\"USA\\u002fPittsburgh\",\"USA\\u002fPhoenix\",\"USA\\u002fPhiladelphia\",\"France\\u002fParis\",\"USA\\u002fPalo Alto\",\"UK\\u002fOxford\",\"Canada\\u002fOttawa\",\"USA\\u002fNashua\",\"Norway\\u002fOslo\",\"USA\\u002fOakland\",\"USA\\u002fNorwalk\",\"USA\\u002fNorth Bethesda\",\"India\\u002fNoida\",\"USA\\u002fNewark\",\"USA\\u002fNew York City\",\"USA\\u002fNew York\",\"India\\u002fNew Delhi\",\"Israel\\u002fNess Ziona\",\"USA\\u002fNebraska City\",\"USA\\u002fOrlando\",\"Israel\\u002fYavne\",\"Switzerland\\u002fZurich\",\"Argentina\",\"Australia\",\"Austria\",\"Belgium\",\"Brazil\",\"Canada\",\"Cayman Islands\",\"Chile\",\"China\",\"Czech Republic\",\"Denmark\",\"Estonia\",\"Finland\",\"France\",\"Germany\",\"Hong Kong\",\"India\",\"Indonesia\",\"Ireland\",\"Israel\",\"Japan\",\"Kenya\",\"Lithuania\",\"Malaysia\",\"Mexico\",\"Netherlands\",\"New Zealand\",\"Nigeria\",\"Norway\",\"Pakistan\",\"Poland\",\"Portugal\",\"Russia\",\"Senegal\",\"Singapore\",\"South Korea\",\"Spain\",\"Sweden\",\"Switzerland\",\"Thailand\",\"UK\",\"USA\",\"United Arabian Emirates\",\"Uruquay\"],\"labels\":[\"Adelaide\",\"Agoura Hills\",\"Ahmedabad\",\"Alameda\",\"Amsterdam\",\"Ann Arbor\",\"Atlanta\",\"Bejing\",\"Barcelona\",\"Bangkok\",\"Austin\",\"Auckland\",\"Baltimore\",\"Blumenau\",\"Boston\",\"Boise\",\"Berkeley\",\"Berlin\",\"Bend\",\"Belo Horizonte\",\"Belleville\",\"Bengaluru\",\"Boulder\",\"Brisbane\",\"Brisbane\",\"Bristol\",\"Brno\",\"Buenos Aires\",\"Burlingame\",\"Burlington\",\"Calgary\",\"Camarillo\",\"Campbell\",\"Cayman Islands\",\"Columbus\",\"Copenhagen\",\"Cincinnati\",\"Chester\",\"Chennai\",\"Charleston\",\"Chicago\",\"Coral Gables\",\"Denver\",\"Corvallis\",\"Cupertino\",\"Curitiba\",\"Dakar\",\"Dallas\",\"Detroit\",\"Dover\",\"Dubai\",\"Dublin\",\"Durham\",\"Edinburgh\",\"Ferdericton\",\"Frankfurt am Main\",\"Fremont\",\"Fort Collins\",\"Espoo\",\"Florianopolis\",\"Forster City\",\"Fresno\",\"Ghent\",\"Gilroy\",\"Gothenburg\",\"Greenwood Village\",\"Guadalajara\",\"Gurugram\",\"Haifa\",\"Haifa\",\"Hamburg\",\"Hartford\",\"Hayward\",\"Helsinki\",\"Hong Kong\",\"Hoofddorp\",\"Huntington Beach\",\"Indianapolis\",\"Indonesia\",\"Jakarta\",\"Jerusalem\",\"Joinville\",\"Karachi\",\"Kansas City\",\"Karlsruhe\",\"Kfar Saba\",\"Kiel\",\"Kitchener\",\"Krakow\",\"Lisbon\",\"Logan\",\"Lodz\",\"Lehi\",\"Lagos\",\"Las Vegas\",\"Kuala Lumpur\",\"Leamington Spa\",\"San Mateo\",\"Seoul\",\"Seattle\",\"Saskatoon\",\"Sao Paulo\",\"Santiago\",\"Santa Fe\",\"Santa Clara\",\"Santa Barbara\",\"San Rafael\",\"San Luis Obispo\",\"Reno\",\"San Jose\",\"San Francisco\",\"San Diego\",\"San Carlos\",\"San Bruno\",\"Salt Lake City\",\"Salisbury\",\"Sacramento\",\"Richmond\",\"Shanghai\",\"San Leandro\",\"Sheffield\",\"Tokyo\",\"Spokane\",\"Xi'an\",\"Wilmington\",\"Wellington\",\"Waterloo\",\"Washington DC\",\"Warsaw\",\"Waltham\",\"Walnut\",\"Walldorf\",\"Vilnius\",\"Singapore\",\"Vienna\",\"Toronto\",\"Redwood City\",\"Tel Aviv\",\"Tampa Bay\",\"Tampa\",\"Tallinn\",\"Sydney\",\"Sunnyvale\",\"Stockholm\",\"Stamford\",\"Vancouver\",\"Raleigh\",\"Los Gatos\",\"Pune\",\"Munich\",\"Mumbai\",\"Mountain View\",\"Moscow\",\"Montreal\",\"Montevideo\",\"Missoula\",\"Minneapolis\",\"Milwaukee\",\"Milpitas\",\"Miami\",\"Mexico City\",\"Menlo Park\",\"Memphis\",\"Melbourne\",\"Manchester\",\"Malmö\",\"Madrid\",\"Madison\",\"Los Angeles\",\"London\",\"Nairobi\",\"Ra'anana\",\"Nashik\",\"Nashville\",\"Prague\",\"Portland\",\"Pleasanton\",\"Pittsburgh\",\"Phoenix\",\"Philadelphia\",\"Paris\",\"Palo Alto\",\"Oxford\",\"Ottawa\",\"Nashua\",\"Oslo\",\"Oakland\",\"Norwalk\",\"North Bethesda\",\"Noida\",\"Newark\",\"New York City\",\"New York\",\"New Delhi\",\"Ness Ziona\",\"Nebraska City\",\"Orlando\",\"Yavne\",\"Zurich\",\"Argentina\",\"Australia\",\"Austria\",\"Belgium\",\"Brazil\",\"Canada\",\"Cayman Islands\",\"Chile\",\"China\",\"Czech Republic\",\"Denmark\",\"Estonia\",\"Finland\",\"France\",\"Germany\",\"Hong Kong\",\"India\",\"Indonesia\",\"Ireland\",\"Israel\",\"Japan\",\"Kenya\",\"Lithuania\",\"Malaysia\",\"Mexico\",\"Netherlands\",\"New Zealand\",\"Nigeria\",\"Norway\",\"Pakistan\",\"Poland\",\"Portugal\",\"Russia\",\"Senegal\",\"Singapore\",\"South Korea\",\"Spain\",\"Sweden\",\"Switzerland\",\"Thailand\",\"UK\",\"USA\",\"United Arabian Emirates\",\"Uruquay\"],\"marker\":{\"colors\":[\"#636efa\",\"#EF553B\",\"#00cc96\",\"#EF553B\",\"#ab63fa\",\"#EF553B\",\"#EF553B\",\"#FFA15A\",\"#19d3f3\",\"#FF6692\",\"#EF553B\",\"#B6E880\",\"#EF553B\",\"#FF97FF\",\"#EF553B\",\"#EF553B\",\"#EF553B\",\"#FECB52\",\"#EF553B\",\"#FF97FF\",\"#EF553B\",\"#00cc96\",\"#EF553B\",\"#636efa\",\"#EF553B\",\"#636efa\",\"#EF553B\",\"#00cc96\",\"#EF553B\",\"#EF553B\",\"#ab63fa\",\"#EF553B\",\"#EF553B\",\"#FFA15A\",\"#EF553B\",\"#19d3f3\",\"#EF553B\",\"#636efa\",\"#00cc96\",\"#EF553B\",\"#EF553B\",\"#EF553B\",\"#EF553B\",\"#EF553B\",\"#EF553B\",\"#FF97FF\",\"#FF6692\",\"#EF553B\",\"#EF553B\",\"#EF553B\",\"#B6E880\",\"#FF97FF\",\"#EF553B\",\"#636efa\",\"#ab63fa\",\"#FECB52\",\"#EF553B\",\"#EF553B\",\"#FECB52\",\"#FF97FF\",\"#EF553B\",\"#EF553B\",\"#636efa\",\"#EF553B\",\"#EF553B\",\"#EF553B\",\"#00cc96\",\"#00cc96\",\"#ab63fa\",\"#EF553B\",\"#FECB52\",\"#EF553B\",\"#EF553B\",\"#FECB52\",\"#FFA15A\",\"#ab63fa\",\"#EF553B\",\"#EF553B\",\"#19d3f3\",\"#19d3f3\",\"#ab63fa\",\"#FF97FF\",\"#FF6692\",\"#EF553B\",\"#FECB52\",\"#ab63fa\",\"#FECB52\",\"#ab63fa\",\"#B6E880\",\"#FF97FF\",\"#EF553B\",\"#B6E880\",\"#EF553B\",\"#FECB52\",\"#EF553B\",\"#636efa\",\"#636efa\",\"#EF553B\",\"#EF553B\",\"#EF553B\",\"#ab63fa\",\"#FF97FF\",\"#00cc96\",\"#EF553B\",\"#EF553B\",\"#EF553B\",\"#EF553B\",\"#EF553B\",\"#EF553B\",\"#EF553B\",\"#EF553B\",\"#EF553B\",\"#EF553B\",\"#EF553B\",\"#EF553B\",\"#636efa\",\"#EF553B\",\"#EF553B\",\"#FFA15A\",\"#EF553B\",\"#EF553B\",\"#ab63fa\",\"#EF553B\",\"#FFA15A\",\"#EF553B\",\"#B6E880\",\"#ab63fa\",\"#EF553B\",\"#B6E880\",\"#EF553B\",\"#EF553B\",\"#FECB52\",\"#FFA15A\",\"#19d3f3\",\"#FF6692\",\"#ab63fa\",\"#EF553B\",\"#ab63fa\",\"#EF553B\",\"#EF553B\",\"#B6E880\",\"#636efa\",\"#EF553B\",\"#EF553B\",\"#EF553B\",\"#ab63fa\",\"#EF553B\",\"#EF553B\",\"#00cc96\",\"#FECB52\",\"#00cc96\",\"#EF553B\",\"#FF97FF\",\"#ab63fa\",\"#FECB52\",\"#EF553B\",\"#EF553B\",\"#EF553B\",\"#EF553B\",\"#EF553B\",\"#00cc96\",\"#EF553B\",\"#EF553B\",\"#636efa\",\"#636efa\",\"#EF553B\",\"#19d3f3\",\"#EF553B\",\"#EF553B\",\"#636efa\",\"#636efa\",\"#ab63fa\",\"#00cc96\",\"#EF553B\",\"#EF553B\",\"#EF553B\",\"#EF553B\",\"#EF553B\",\"#EF553B\",\"#EF553B\",\"#EF553B\",\"#EF553B\",\"#636efa\",\"#ab63fa\",\"#EF553B\",\"#00cc96\",\"#EF553B\",\"#EF553B\",\"#EF553B\",\"#00cc96\",\"#EF553B\",\"#EF553B\",\"#EF553B\",\"#00cc96\",\"#ab63fa\",\"#EF553B\",\"#EF553B\",\"#ab63fa\",\"#ab63fa\",\"#00cc96\",\"#636efa\",\"#FF6692\",\"#636efa\",\"#FF97FF\",\"#ab63fa\",\"#FFA15A\",\"#00cc96\",\"#FFA15A\",\"#EF553B\",\"#19d3f3\",\"#B6E880\",\"#FECB52\",\"#EF553B\",\"#FECB52\",\"#FFA15A\",\"#00cc96\",\"#19d3f3\",\"#FF97FF\",\"#ab63fa\",\"#ab63fa\",\"#636efa\",\"#FFA15A\",\"#636efa\",\"#00cc96\",\"#ab63fa\",\"#B6E880\",\"#FECB52\",\"#00cc96\",\"#FF6692\",\"#B6E880\",\"#FF97FF\",\"#FF97FF\",\"#FF6692\",\"#19d3f3\",\"#EF553B\",\"#19d3f3\",\"#EF553B\",\"#ab63fa\",\"#FF6692\",\"#636efa\",\"#EF553B\",\"#B6E880\",\"#FECB52\"]},\"name\":\"\",\"parents\":[\"Australia\",\"USA\",\"India\",\"USA\",\"Netherlands\",\"USA\",\"USA\",\"China\",\"Spain\",\"Thailand\",\"USA\",\"New Zealand\",\"USA\",\"Brazil\",\"USA\",\"USA\",\"USA\",\"Germany\",\"USA\",\"Brazil\",\"USA\",\"India\",\"USA\",\"Australia\",\"USA\",\"UK\",\"Czech Republic\",\"Argentina\",\"USA\",\"USA\",\"Canada\",\"USA\",\"USA\",\"Cayman Islands\",\"USA\",\"Denmark\",\"USA\",\"UK\",\"India\",\"USA\",\"USA\",\"USA\",\"USA\",\"USA\",\"USA\",\"Brazil\",\"Senegal\",\"USA\",\"USA\",\"USA\",\"United Arabian Emirates\",\"Ireland\",\"USA\",\"UK\",\"Canada\",\"Germany\",\"USA\",\"USA\",\"Finland\",\"Brazil\",\"USA\",\"USA\",\"Belgium\",\"USA\",\"Sweden\",\"USA\",\"Mexico\",\"India\",\"Israel\",\"USA\",\"Germany\",\"USA\",\"USA\",\"Finland\",\"Hong Kong\",\"Netherlands\",\"USA\",\"USA\",\"Indonesia\",\"Indonesia\",\"Israel\",\"Brazil\",\"Pakistan\",\"USA\",\"Germany\",\"Israel\",\"Germany\",\"Canada\",\"Poland\",\"Portugal\",\"USA\",\"Poland\",\"USA\",\"Nigeria\",\"USA\",\"Malaysia\",\"UK\",\"USA\",\"South Korea\",\"USA\",\"Canada\",\"Brazil\",\"Chile\",\"USA\",\"USA\",\"USA\",\"USA\",\"USA\",\"USA\",\"USA\",\"USA\",\"USA\",\"USA\",\"USA\",\"USA\",\"UK\",\"USA\",\"USA\",\"China\",\"USA\",\"USA\",\"Japan\",\"USA\",\"China\",\"USA\",\"New Zealand\",\"Canada\",\"USA\",\"Poland\",\"USA\",\"USA\",\"Germany\",\"Lithuania\",\"Singapore\",\"Austria\",\"Canada\",\"USA\",\"Israel\",\"USA\",\"USA\",\"Estonia\",\"Australia\",\"USA\",\"Sweden\",\"USA\",\"Canada\",\"USA\",\"USA\",\"India\",\"Germany\",\"India\",\"USA\",\"Russia\",\"Canada\",\"Uruquay\",\"USA\",\"USA\",\"USA\",\"USA\",\"USA\",\"Mexico\",\"USA\",\"USA\",\"Australia\",\"UK\",\"Sweden\",\"Spain\",\"USA\",\"USA\",\"UK\",\"Kenya\",\"Israel\",\"India\",\"USA\",\"Czech Republic\",\"USA\",\"USA\",\"USA\",\"USA\",\"USA\",\"France\",\"USA\",\"UK\",\"Canada\",\"USA\",\"Norway\",\"USA\",\"USA\",\"USA\",\"India\",\"USA\",\"USA\",\"USA\",\"India\",\"Israel\",\"USA\",\"USA\",\"Israel\",\"Switzerland\",\"\",\"\",\"\",\"\",\"\",\"\",\"\",\"\",\"\",\"\",\"\",\"\",\"\",\"\",\"\",\"\",\"\",\"\",\"\",\"\",\"\",\"\",\"\",\"\",\"\",\"\",\"\",\"\",\"\",\"\",\"\",\"\",\"\",\"\",\"\",\"\",\"\",\"\",\"\",\"\",\"\",\"\",\"\",\"\"],\"values\":[1,1,1,1,4,2,12,2,2,1,30,2,3,1,76,3,4,50,1,2,1,81,9,1,1,1,1,4,1,1,3,1,4,1,8,4,3,1,5,1,30,1,16,1,2,3,1,5,8,2,5,7,1,1,1,2,3,1,1,1,1,1,1,1,1,1,1,14,1,1,4,1,3,1,3,1,3,1,1,9,3,2,1,3,1,1,1,1,1,1,1,1,2,6,1,2,1,10,1,72,2,39,3,1,14,2,1,2,2,19,304,17,3,2,13,1,4,1,2,1,1,5,2,1,1,1,2,10,1,1,3,2,2,25,2,45,13,62,1,1,5,17,8,15,3,15,3,2,2,3,9,26,1,16,2,1,5,2,2,9,1,13,1,9,1,1,2,2,69,58,7,1,1,3,1,14,3,8,7,9,10,28,2,3,1,4,3,2,2,3,2,201,7,10,1,1,1,1,1,4,28,2,1,48,88,1,3,5,2,4,5,2,10,63,3,126,10,7,70,5,7,2,2,2,5,3,6,4,1,3,1,1,1,25,1,4,17,1,1,66,1192,5,2],\"type\":\"sunburst\",\"textinfo\":\"label+percent parent\"}],                        {\"template\":{\"data\":{\"histogram2dcontour\":[{\"type\":\"histogram2dcontour\",\"colorbar\":{\"outlinewidth\":0,\"ticks\":\"\"},\"colorscale\":[[0.0,\"#0d0887\"],[0.1111111111111111,\"#46039f\"],[0.2222222222222222,\"#7201a8\"],[0.3333333333333333,\"#9c179e\"],[0.4444444444444444,\"#bd3786\"],[0.5555555555555556,\"#d8576b\"],[0.6666666666666666,\"#ed7953\"],[0.7777777777777778,\"#fb9f3a\"],[0.8888888888888888,\"#fdca26\"],[1.0,\"#f0f921\"]]}],\"choropleth\":[{\"type\":\"choropleth\",\"colorbar\":{\"outlinewidth\":0,\"ticks\":\"\"}}],\"histogram2d\":[{\"type\":\"histogram2d\",\"colorbar\":{\"outlinewidth\":0,\"ticks\":\"\"},\"colorscale\":[[0.0,\"#0d0887\"],[0.1111111111111111,\"#46039f\"],[0.2222222222222222,\"#7201a8\"],[0.3333333333333333,\"#9c179e\"],[0.4444444444444444,\"#bd3786\"],[0.5555555555555556,\"#d8576b\"],[0.6666666666666666,\"#ed7953\"],[0.7777777777777778,\"#fb9f3a\"],[0.8888888888888888,\"#fdca26\"],[1.0,\"#f0f921\"]]}],\"heatmap\":[{\"type\":\"heatmap\",\"colorbar\":{\"outlinewidth\":0,\"ticks\":\"\"},\"colorscale\":[[0.0,\"#0d0887\"],[0.1111111111111111,\"#46039f\"],[0.2222222222222222,\"#7201a8\"],[0.3333333333333333,\"#9c179e\"],[0.4444444444444444,\"#bd3786\"],[0.5555555555555556,\"#d8576b\"],[0.6666666666666666,\"#ed7953\"],[0.7777777777777778,\"#fb9f3a\"],[0.8888888888888888,\"#fdca26\"],[1.0,\"#f0f921\"]]}],\"heatmapgl\":[{\"type\":\"heatmapgl\",\"colorbar\":{\"outlinewidth\":0,\"ticks\":\"\"},\"colorscale\":[[0.0,\"#0d0887\"],[0.1111111111111111,\"#46039f\"],[0.2222222222222222,\"#7201a8\"],[0.3333333333333333,\"#9c179e\"],[0.4444444444444444,\"#bd3786\"],[0.5555555555555556,\"#d8576b\"],[0.6666666666666666,\"#ed7953\"],[0.7777777777777778,\"#fb9f3a\"],[0.8888888888888888,\"#fdca26\"],[1.0,\"#f0f921\"]]}],\"contourcarpet\":[{\"type\":\"contourcarpet\",\"colorbar\":{\"outlinewidth\":0,\"ticks\":\"\"}}],\"contour\":[{\"type\":\"contour\",\"colorbar\":{\"outlinewidth\":0,\"ticks\":\"\"},\"colorscale\":[[0.0,\"#0d0887\"],[0.1111111111111111,\"#46039f\"],[0.2222222222222222,\"#7201a8\"],[0.3333333333333333,\"#9c179e\"],[0.4444444444444444,\"#bd3786\"],[0.5555555555555556,\"#d8576b\"],[0.6666666666666666,\"#ed7953\"],[0.7777777777777778,\"#fb9f3a\"],[0.8888888888888888,\"#fdca26\"],[1.0,\"#f0f921\"]]}],\"surface\":[{\"type\":\"surface\",\"colorbar\":{\"outlinewidth\":0,\"ticks\":\"\"},\"colorscale\":[[0.0,\"#0d0887\"],[0.1111111111111111,\"#46039f\"],[0.2222222222222222,\"#7201a8\"],[0.3333333333333333,\"#9c179e\"],[0.4444444444444444,\"#bd3786\"],[0.5555555555555556,\"#d8576b\"],[0.6666666666666666,\"#ed7953\"],[0.7777777777777778,\"#fb9f3a\"],[0.8888888888888888,\"#fdca26\"],[1.0,\"#f0f921\"]]}],\"mesh3d\":[{\"type\":\"mesh3d\",\"colorbar\":{\"outlinewidth\":0,\"ticks\":\"\"}}],\"scatter\":[{\"fillpattern\":{\"fillmode\":\"overlay\",\"size\":10,\"solidity\":0.2},\"type\":\"scatter\"}],\"parcoords\":[{\"type\":\"parcoords\",\"line\":{\"colorbar\":{\"outlinewidth\":0,\"ticks\":\"\"}}}],\"scatterpolargl\":[{\"type\":\"scatterpolargl\",\"marker\":{\"colorbar\":{\"outlinewidth\":0,\"ticks\":\"\"}}}],\"bar\":[{\"error_x\":{\"color\":\"#2a3f5f\"},\"error_y\":{\"color\":\"#2a3f5f\"},\"marker\":{\"line\":{\"color\":\"#E5ECF6\",\"width\":0.5},\"pattern\":{\"fillmode\":\"overlay\",\"size\":10,\"solidity\":0.2}},\"type\":\"bar\"}],\"scattergeo\":[{\"type\":\"scattergeo\",\"marker\":{\"colorbar\":{\"outlinewidth\":0,\"ticks\":\"\"}}}],\"scatterpolar\":[{\"type\":\"scatterpolar\",\"marker\":{\"colorbar\":{\"outlinewidth\":0,\"ticks\":\"\"}}}],\"histogram\":[{\"marker\":{\"pattern\":{\"fillmode\":\"overlay\",\"size\":10,\"solidity\":0.2}},\"type\":\"histogram\"}],\"scattergl\":[{\"type\":\"scattergl\",\"marker\":{\"colorbar\":{\"outlinewidth\":0,\"ticks\":\"\"}}}],\"scatter3d\":[{\"type\":\"scatter3d\",\"line\":{\"colorbar\":{\"outlinewidth\":0,\"ticks\":\"\"}},\"marker\":{\"colorbar\":{\"outlinewidth\":0,\"ticks\":\"\"}}}],\"scattermapbox\":[{\"type\":\"scattermapbox\",\"marker\":{\"colorbar\":{\"outlinewidth\":0,\"ticks\":\"\"}}}],\"scatterternary\":[{\"type\":\"scatterternary\",\"marker\":{\"colorbar\":{\"outlinewidth\":0,\"ticks\":\"\"}}}],\"scattercarpet\":[{\"type\":\"scattercarpet\",\"marker\":{\"colorbar\":{\"outlinewidth\":0,\"ticks\":\"\"}}}],\"carpet\":[{\"aaxis\":{\"endlinecolor\":\"#2a3f5f\",\"gridcolor\":\"white\",\"linecolor\":\"white\",\"minorgridcolor\":\"white\",\"startlinecolor\":\"#2a3f5f\"},\"baxis\":{\"endlinecolor\":\"#2a3f5f\",\"gridcolor\":\"white\",\"linecolor\":\"white\",\"minorgridcolor\":\"white\",\"startlinecolor\":\"#2a3f5f\"},\"type\":\"carpet\"}],\"table\":[{\"cells\":{\"fill\":{\"color\":\"#EBF0F8\"},\"line\":{\"color\":\"white\"}},\"header\":{\"fill\":{\"color\":\"#C8D4E3\"},\"line\":{\"color\":\"white\"}},\"type\":\"table\"}],\"barpolar\":[{\"marker\":{\"line\":{\"color\":\"#E5ECF6\",\"width\":0.5},\"pattern\":{\"fillmode\":\"overlay\",\"size\":10,\"solidity\":0.2}},\"type\":\"barpolar\"}],\"pie\":[{\"automargin\":true,\"type\":\"pie\"}]},\"layout\":{\"autotypenumbers\":\"strict\",\"colorway\":[\"#636efa\",\"#EF553B\",\"#00cc96\",\"#ab63fa\",\"#FFA15A\",\"#19d3f3\",\"#FF6692\",\"#B6E880\",\"#FF97FF\",\"#FECB52\"],\"font\":{\"color\":\"#2a3f5f\"},\"hovermode\":\"closest\",\"hoverlabel\":{\"align\":\"left\"},\"paper_bgcolor\":\"white\",\"plot_bgcolor\":\"#E5ECF6\",\"polar\":{\"bgcolor\":\"#E5ECF6\",\"angularaxis\":{\"gridcolor\":\"white\",\"linecolor\":\"white\",\"ticks\":\"\"},\"radialaxis\":{\"gridcolor\":\"white\",\"linecolor\":\"white\",\"ticks\":\"\"}},\"ternary\":{\"bgcolor\":\"#E5ECF6\",\"aaxis\":{\"gridcolor\":\"white\",\"linecolor\":\"white\",\"ticks\":\"\"},\"baxis\":{\"gridcolor\":\"white\",\"linecolor\":\"white\",\"ticks\":\"\"},\"caxis\":{\"gridcolor\":\"white\",\"linecolor\":\"white\",\"ticks\":\"\"}},\"coloraxis\":{\"colorbar\":{\"outlinewidth\":0,\"ticks\":\"\"}},\"colorscale\":{\"sequential\":[[0.0,\"#0d0887\"],[0.1111111111111111,\"#46039f\"],[0.2222222222222222,\"#7201a8\"],[0.3333333333333333,\"#9c179e\"],[0.4444444444444444,\"#bd3786\"],[0.5555555555555556,\"#d8576b\"],[0.6666666666666666,\"#ed7953\"],[0.7777777777777778,\"#fb9f3a\"],[0.8888888888888888,\"#fdca26\"],[1.0,\"#f0f921\"]],\"sequentialminus\":[[0.0,\"#0d0887\"],[0.1111111111111111,\"#46039f\"],[0.2222222222222222,\"#7201a8\"],[0.3333333333333333,\"#9c179e\"],[0.4444444444444444,\"#bd3786\"],[0.5555555555555556,\"#d8576b\"],[0.6666666666666666,\"#ed7953\"],[0.7777777777777778,\"#fb9f3a\"],[0.8888888888888888,\"#fdca26\"],[1.0,\"#f0f921\"]],\"diverging\":[[0,\"#8e0152\"],[0.1,\"#c51b7d\"],[0.2,\"#de77ae\"],[0.3,\"#f1b6da\"],[0.4,\"#fde0ef\"],[0.5,\"#f7f7f7\"],[0.6,\"#e6f5d0\"],[0.7,\"#b8e186\"],[0.8,\"#7fbc41\"],[0.9,\"#4d9221\"],[1,\"#276419\"]]},\"xaxis\":{\"gridcolor\":\"white\",\"linecolor\":\"white\",\"ticks\":\"\",\"title\":{\"standoff\":15},\"zerolinecolor\":\"white\",\"automargin\":true,\"zerolinewidth\":2},\"yaxis\":{\"gridcolor\":\"white\",\"linecolor\":\"white\",\"ticks\":\"\",\"title\":{\"standoff\":15},\"zerolinecolor\":\"white\",\"automargin\":true,\"zerolinewidth\":2},\"scene\":{\"xaxis\":{\"backgroundcolor\":\"#E5ECF6\",\"gridcolor\":\"white\",\"linecolor\":\"white\",\"showbackground\":true,\"ticks\":\"\",\"zerolinecolor\":\"white\",\"gridwidth\":2},\"yaxis\":{\"backgroundcolor\":\"#E5ECF6\",\"gridcolor\":\"white\",\"linecolor\":\"white\",\"showbackground\":true,\"ticks\":\"\",\"zerolinecolor\":\"white\",\"gridwidth\":2},\"zaxis\":{\"backgroundcolor\":\"#E5ECF6\",\"gridcolor\":\"white\",\"linecolor\":\"white\",\"showbackground\":true,\"ticks\":\"\",\"zerolinecolor\":\"white\",\"gridwidth\":2}},\"shapedefaults\":{\"line\":{\"color\":\"#2a3f5f\"}},\"annotationdefaults\":{\"arrowcolor\":\"#2a3f5f\",\"arrowhead\":0,\"arrowwidth\":1},\"geo\":{\"bgcolor\":\"white\",\"landcolor\":\"#E5ECF6\",\"subunitcolor\":\"white\",\"showland\":true,\"showlakes\":true,\"lakecolor\":\"white\"},\"title\":{\"x\":0.05},\"mapbox\":{\"style\":\"light\"}}},\"legend\":{\"tracegroupgap\":0},\"title\":{\"text\":\"\\u003cspan style='font-size:18px;'\\u003e\\u003cb\\u003eLocations of tech layoffs by location HQ and countries (cities in total number)\\u003c\\u002fb\\u003e\\u003c\\u002fspan\\u003e\\u003cb\\u003e\\u003c\\u002fb\\u003e\"},\"height\":800,\"width\":1280,\"font\":{\"size\":10},\"margin\":{\"l\":10,\"r\":10,\"t\":30,\"b\":50}},                        {\"responsive\": true}                    ).then(function(){\n",
       "                            \n",
       "var gd = document.getElementById('6cb509e7-cdef-416b-8a89-30a7fb7dde2b');\n",
       "var x = new MutationObserver(function (mutations, observer) {{\n",
       "        var display = window.getComputedStyle(gd).display;\n",
       "        if (!display || display === 'none') {{\n",
       "            console.log([gd, 'removed!']);\n",
       "            Plotly.purge(gd);\n",
       "            observer.disconnect();\n",
       "        }}\n",
       "}});\n",
       "\n",
       "// Listen for the removal of the full notebook cells\n",
       "var notebookContainer = gd.closest('#notebook-container');\n",
       "if (notebookContainer) {{\n",
       "    x.observe(notebookContainer, {childList: true});\n",
       "}}\n",
       "\n",
       "// Listen for the clearing of the current output cell\n",
       "var outputEl = gd.closest('.output');\n",
       "if (outputEl) {{\n",
       "    x.observe(outputEl, {childList: true});\n",
       "}}\n",
       "\n",
       "                        })                };                });            </script>        </div>"
      ]
     },
     "metadata": {},
     "output_type": "display_data"
    }
   ],
   "source": [
    "import plotly.express as px\n",
    "\n",
    "fig = px.sunburst(gr_cat, width=1280, height=800,\n",
    "                  path=[\"Country\",\"Location_HQ\"], values=\"size\",\n",
    "                  color=\"Country\",\n",
    "                  title=\"<span style='font-size:18px;'><b>Locations of tech layoffs by location HQ and countries (cities in total number)</b></span><b></b>\"\n",
    "                  )\n",
    "fig.update_layout(font_size=10, margin=dict(l=10, r=10, t=30, b=50))\n",
    "fig.update_traces(textinfo=\"label+percent parent\")\n",
    "fig.show()"
   ]
  },
  {
   "cell_type": "markdown",
   "id": "fb8d9762",
   "metadata": {
    "papermill": {
     "duration": 0.006715,
     "end_time": "2024-07-08T17:40:40.352650",
     "exception": false,
     "start_time": "2024-07-08T17:40:40.345935",
     "status": "completed"
    },
    "tags": []
   },
   "source": [
    "65% of the entries in the dataset were reports of layoffs in the USA. And of all the USA reports in the dataset are 26% percents of layoffs in San Francisco and 17 % in New York City. "
   ]
  },
  {
   "cell_type": "markdown",
   "id": "3a8b5383",
   "metadata": {
    "papermill": {
     "duration": 0.006377,
     "end_time": "2024-07-08T17:40:40.365749",
     "exception": false,
     "start_time": "2024-07-08T17:40:40.359372",
     "status": "completed"
    },
    "tags": []
   },
   "source": [
    "**Treemap charts**\n",
    "\n",
    "This code imports the pandas and plotly.express libraries and shows the same data as above and the second treemap filters the DataFrame gr_cat to include only rows where the country is the USA, storing the result in usa_df. It then creates a treemap from this filtered DataFrame, setting the width to 1280 pixels and the height to 800 pixels. The treemap displays the hierarchy based on Country and Location_HQ, with each segment sized according to the size column and colored by Location_HQ. The trace information is updated to show both the label and the percentage of the parent segment. Finally, the treemap is displayed using fig.show().\n",
    "\n"
   ]
  },
  {
   "cell_type": "code",
   "execution_count": 4,
   "id": "2c34394c",
   "metadata": {
    "execution": {
     "iopub.execute_input": "2024-07-08T17:40:40.381897Z",
     "iopub.status.busy": "2024-07-08T17:40:40.380901Z",
     "iopub.status.idle": "2024-07-08T17:40:40.546572Z",
     "shell.execute_reply": "2024-07-08T17:40:40.545335Z"
    },
    "papermill": {
     "duration": 0.176756,
     "end_time": "2024-07-08T17:40:40.549271",
     "exception": false,
     "start_time": "2024-07-08T17:40:40.372515",
     "status": "completed"
    },
    "tags": []
   },
   "outputs": [
    {
     "data": {
      "text/html": [
       "<div>                            <div id=\"88c4eef7-e3d9-4809-953a-3ef089908555\" class=\"plotly-graph-div\" style=\"height:800px; width:1280px;\"></div>            <script type=\"text/javascript\">                require([\"plotly\"], function(Plotly) {                    window.PLOTLYENV=window.PLOTLYENV || {};                                    if (document.getElementById(\"88c4eef7-e3d9-4809-953a-3ef089908555\")) {                    Plotly.newPlot(                        \"88c4eef7-e3d9-4809-953a-3ef089908555\",                        [{\"branchvalues\":\"total\",\"customdata\":[[\"Australia\"],[\"USA\"],[\"India\"],[\"USA\"],[\"Netherlands\"],[\"USA\"],[\"USA\"],[\"China\"],[\"Spain\"],[\"Thailand\"],[\"USA\"],[\"New Zealand\"],[\"USA\"],[\"Brazil\"],[\"USA\"],[\"USA\"],[\"USA\"],[\"Germany\"],[\"USA\"],[\"Brazil\"],[\"USA\"],[\"India\"],[\"USA\"],[\"Australia\"],[\"USA\"],[\"UK\"],[\"Czech Republic\"],[\"Argentina\"],[\"USA\"],[\"USA\"],[\"Canada\"],[\"USA\"],[\"USA\"],[\"Cayman Islands\"],[\"USA\"],[\"Denmark\"],[\"USA\"],[\"UK\"],[\"India\"],[\"USA\"],[\"USA\"],[\"USA\"],[\"USA\"],[\"USA\"],[\"USA\"],[\"Brazil\"],[\"Senegal\"],[\"USA\"],[\"USA\"],[\"USA\"],[\"United Arabian Emirates\"],[\"Ireland\"],[\"USA\"],[\"UK\"],[\"Canada\"],[\"Germany\"],[\"USA\"],[\"USA\"],[\"Finland\"],[\"Brazil\"],[\"USA\"],[\"USA\"],[\"Belgium\"],[\"USA\"],[\"Sweden\"],[\"USA\"],[\"Mexico\"],[\"India\"],[\"Israel\"],[\"USA\"],[\"Germany\"],[\"USA\"],[\"USA\"],[\"Finland\"],[\"Hong Kong\"],[\"Netherlands\"],[\"USA\"],[\"USA\"],[\"Indonesia\"],[\"Indonesia\"],[\"Israel\"],[\"Brazil\"],[\"Pakistan\"],[\"USA\"],[\"Germany\"],[\"Israel\"],[\"Germany\"],[\"Canada\"],[\"Poland\"],[\"Portugal\"],[\"USA\"],[\"Poland\"],[\"USA\"],[\"Nigeria\"],[\"USA\"],[\"Malaysia\"],[\"UK\"],[\"USA\"],[\"South Korea\"],[\"USA\"],[\"Canada\"],[\"Brazil\"],[\"Chile\"],[\"USA\"],[\"USA\"],[\"USA\"],[\"USA\"],[\"USA\"],[\"USA\"],[\"USA\"],[\"USA\"],[\"USA\"],[\"USA\"],[\"USA\"],[\"USA\"],[\"UK\"],[\"USA\"],[\"USA\"],[\"China\"],[\"USA\"],[\"USA\"],[\"Japan\"],[\"USA\"],[\"China\"],[\"USA\"],[\"New Zealand\"],[\"Canada\"],[\"USA\"],[\"Poland\"],[\"USA\"],[\"USA\"],[\"Germany\"],[\"Lithuania\"],[\"Singapore\"],[\"Austria\"],[\"Canada\"],[\"USA\"],[\"Israel\"],[\"USA\"],[\"USA\"],[\"Estonia\"],[\"Australia\"],[\"USA\"],[\"Sweden\"],[\"USA\"],[\"Canada\"],[\"USA\"],[\"USA\"],[\"India\"],[\"Germany\"],[\"India\"],[\"USA\"],[\"Russia\"],[\"Canada\"],[\"Uruquay\"],[\"USA\"],[\"USA\"],[\"USA\"],[\"USA\"],[\"USA\"],[\"Mexico\"],[\"USA\"],[\"USA\"],[\"Australia\"],[\"UK\"],[\"Sweden\"],[\"Spain\"],[\"USA\"],[\"USA\"],[\"UK\"],[\"Kenya\"],[\"Israel\"],[\"India\"],[\"USA\"],[\"Czech Republic\"],[\"USA\"],[\"USA\"],[\"USA\"],[\"USA\"],[\"USA\"],[\"France\"],[\"USA\"],[\"UK\"],[\"Canada\"],[\"USA\"],[\"Norway\"],[\"USA\"],[\"USA\"],[\"USA\"],[\"India\"],[\"USA\"],[\"USA\"],[\"USA\"],[\"India\"],[\"Israel\"],[\"USA\"],[\"USA\"],[\"Israel\"],[\"Switzerland\"],[\"Argentina\"],[\"Australia\"],[\"Austria\"],[\"Belgium\"],[\"Brazil\"],[\"Canada\"],[\"Cayman Islands\"],[\"Chile\"],[\"China\"],[\"Czech Republic\"],[\"Denmark\"],[\"Estonia\"],[\"Finland\"],[\"France\"],[\"Germany\"],[\"Hong Kong\"],[\"India\"],[\"Indonesia\"],[\"Ireland\"],[\"Israel\"],[\"Japan\"],[\"Kenya\"],[\"Lithuania\"],[\"Malaysia\"],[\"Mexico\"],[\"Netherlands\"],[\"New Zealand\"],[\"Nigeria\"],[\"Norway\"],[\"Pakistan\"],[\"Poland\"],[\"Portugal\"],[\"Russia\"],[\"Senegal\"],[\"Singapore\"],[\"South Korea\"],[\"Spain\"],[\"Sweden\"],[\"Switzerland\"],[\"Thailand\"],[\"UK\"],[\"USA\"],[\"United Arabian Emirates\"],[\"Uruquay\"]],\"domain\":{\"x\":[0.0,1.0],\"y\":[0.0,1.0]},\"hovertemplate\":\"labels=%{label}\\u003cbr\\u003esize=%{value}\\u003cbr\\u003eparent=%{parent}\\u003cbr\\u003eid=%{id}\\u003cbr\\u003eCountry=%{customdata[0]}\\u003cextra\\u003e\\u003c\\u002fextra\\u003e\",\"ids\":[\"Australia\\u002fAdelaide\",\"USA\\u002fAgoura Hills\",\"India\\u002fAhmedabad\",\"USA\\u002fAlameda\",\"Netherlands\\u002fAmsterdam\",\"USA\\u002fAnn Arbor\",\"USA\\u002fAtlanta\",\"China\\u002fBejing\",\"Spain\\u002fBarcelona\",\"Thailand\\u002fBangkok\",\"USA\\u002fAustin\",\"New Zealand\\u002fAuckland\",\"USA\\u002fBaltimore\",\"Brazil\\u002fBlumenau\",\"USA\\u002fBoston\",\"USA\\u002fBoise\",\"USA\\u002fBerkeley\",\"Germany\\u002fBerlin\",\"USA\\u002fBend\",\"Brazil\\u002fBelo Horizonte\",\"USA\\u002fBelleville\",\"India\\u002fBengaluru\",\"USA\\u002fBoulder\",\"Australia\\u002fBrisbane\",\"USA\\u002fBrisbane\",\"UK\\u002fBristol\",\"Czech Republic\\u002fBrno\",\"Argentina\\u002fBuenos Aires\",\"USA\\u002fBurlingame\",\"USA\\u002fBurlington\",\"Canada\\u002fCalgary\",\"USA\\u002fCamarillo\",\"USA\\u002fCampbell\",\"Cayman Islands\\u002fCayman Islands\",\"USA\\u002fColumbus\",\"Denmark\\u002fCopenhagen\",\"USA\\u002fCincinnati\",\"UK\\u002fChester\",\"India\\u002fChennai\",\"USA\\u002fCharleston\",\"USA\\u002fChicago\",\"USA\\u002fCoral Gables\",\"USA\\u002fDenver\",\"USA\\u002fCorvallis\",\"USA\\u002fCupertino\",\"Brazil\\u002fCuritiba\",\"Senegal\\u002fDakar\",\"USA\\u002fDallas\",\"USA\\u002fDetroit\",\"USA\\u002fDover\",\"United Arabian Emirates\\u002fDubai\",\"Ireland\\u002fDublin\",\"USA\\u002fDurham\",\"UK\\u002fEdinburgh\",\"Canada\\u002fFerdericton\",\"Germany\\u002fFrankfurt am Main\",\"USA\\u002fFremont\",\"USA\\u002fFort Collins\",\"Finland\\u002fEspoo\",\"Brazil\\u002fFlorianopolis\",\"USA\\u002fForster City\",\"USA\\u002fFresno\",\"Belgium\\u002fGhent\",\"USA\\u002fGilroy\",\"Sweden\\u002fGothenburg\",\"USA\\u002fGreenwood Village\",\"Mexico\\u002fGuadalajara\",\"India\\u002fGurugram\",\"Israel\\u002fHaifa\",\"USA\\u002fHaifa\",\"Germany\\u002fHamburg\",\"USA\\u002fHartford\",\"USA\\u002fHayward\",\"Finland\\u002fHelsinki\",\"Hong Kong\\u002fHong Kong\",\"Netherlands\\u002fHoofddorp\",\"USA\\u002fHuntington Beach\",\"USA\\u002fIndianapolis\",\"Indonesia\\u002fIndonesia\",\"Indonesia\\u002fJakarta\",\"Israel\\u002fJerusalem\",\"Brazil\\u002fJoinville\",\"Pakistan\\u002fKarachi\",\"USA\\u002fKansas City\",\"Germany\\u002fKarlsruhe\",\"Israel\\u002fKfar Saba\",\"Germany\\u002fKiel\",\"Canada\\u002fKitchener\",\"Poland\\u002fKrakow\",\"Portugal\\u002fLisbon\",\"USA\\u002fLogan\",\"Poland\\u002fLodz\",\"USA\\u002fLehi\",\"Nigeria\\u002fLagos\",\"USA\\u002fLas Vegas\",\"Malaysia\\u002fKuala Lumpur\",\"UK\\u002fLeamington Spa\",\"USA\\u002fSan Mateo\",\"South Korea\\u002fSeoul\",\"USA\\u002fSeattle\",\"Canada\\u002fSaskatoon\",\"Brazil\\u002fSao Paulo\",\"Chile\\u002fSantiago\",\"USA\\u002fSanta Fe\",\"USA\\u002fSanta Clara\",\"USA\\u002fSanta Barbara\",\"USA\\u002fSan Rafael\",\"USA\\u002fSan Luis Obispo\",\"USA\\u002fReno\",\"USA\\u002fSan Jose\",\"USA\\u002fSan Francisco\",\"USA\\u002fSan Diego\",\"USA\\u002fSan Carlos\",\"USA\\u002fSan Bruno\",\"USA\\u002fSalt Lake City\",\"UK\\u002fSalisbury\",\"USA\\u002fSacramento\",\"USA\\u002fRichmond\",\"China\\u002fShanghai\",\"USA\\u002fSan Leandro\",\"USA\\u002fSheffield\",\"Japan\\u002fTokyo\",\"USA\\u002fSpokane\",\"China\\u002fXi'an\",\"USA\\u002fWilmington\",\"New Zealand\\u002fWellington\",\"Canada\\u002fWaterloo\",\"USA\\u002fWashington DC\",\"Poland\\u002fWarsaw\",\"USA\\u002fWaltham\",\"USA\\u002fWalnut\",\"Germany\\u002fWalldorf\",\"Lithuania\\u002fVilnius\",\"Singapore\\u002fSingapore\",\"Austria\\u002fVienna\",\"Canada\\u002fToronto\",\"USA\\u002fRedwood City\",\"Israel\\u002fTel Aviv\",\"USA\\u002fTampa Bay\",\"USA\\u002fTampa\",\"Estonia\\u002fTallinn\",\"Australia\\u002fSydney\",\"USA\\u002fSunnyvale\",\"Sweden\\u002fStockholm\",\"USA\\u002fStamford\",\"Canada\\u002fVancouver\",\"USA\\u002fRaleigh\",\"USA\\u002fLos Gatos\",\"India\\u002fPune\",\"Germany\\u002fMunich\",\"India\\u002fMumbai\",\"USA\\u002fMountain View\",\"Russia\\u002fMoscow\",\"Canada\\u002fMontreal\",\"Uruquay\\u002fMontevideo\",\"USA\\u002fMissoula\",\"USA\\u002fMinneapolis\",\"USA\\u002fMilwaukee\",\"USA\\u002fMilpitas\",\"USA\\u002fMiami\",\"Mexico\\u002fMexico City\",\"USA\\u002fMenlo Park\",\"USA\\u002fMemphis\",\"Australia\\u002fMelbourne\",\"UK\\u002fManchester\",\"Sweden\\u002fMalmö\",\"Spain\\u002fMadrid\",\"USA\\u002fMadison\",\"USA\\u002fLos Angeles\",\"UK\\u002fLondon\",\"Kenya\\u002fNairobi\",\"Israel\\u002fRa'anana\",\"India\\u002fNashik\",\"USA\\u002fNashville\",\"Czech Republic\\u002fPrague\",\"USA\\u002fPortland\",\"USA\\u002fPleasanton\",\"USA\\u002fPittsburgh\",\"USA\\u002fPhoenix\",\"USA\\u002fPhiladelphia\",\"France\\u002fParis\",\"USA\\u002fPalo Alto\",\"UK\\u002fOxford\",\"Canada\\u002fOttawa\",\"USA\\u002fNashua\",\"Norway\\u002fOslo\",\"USA\\u002fOakland\",\"USA\\u002fNorwalk\",\"USA\\u002fNorth Bethesda\",\"India\\u002fNoida\",\"USA\\u002fNewark\",\"USA\\u002fNew York City\",\"USA\\u002fNew York\",\"India\\u002fNew Delhi\",\"Israel\\u002fNess Ziona\",\"USA\\u002fNebraska City\",\"USA\\u002fOrlando\",\"Israel\\u002fYavne\",\"Switzerland\\u002fZurich\",\"Argentina\",\"Australia\",\"Austria\",\"Belgium\",\"Brazil\",\"Canada\",\"Cayman Islands\",\"Chile\",\"China\",\"Czech Republic\",\"Denmark\",\"Estonia\",\"Finland\",\"France\",\"Germany\",\"Hong Kong\",\"India\",\"Indonesia\",\"Ireland\",\"Israel\",\"Japan\",\"Kenya\",\"Lithuania\",\"Malaysia\",\"Mexico\",\"Netherlands\",\"New Zealand\",\"Nigeria\",\"Norway\",\"Pakistan\",\"Poland\",\"Portugal\",\"Russia\",\"Senegal\",\"Singapore\",\"South Korea\",\"Spain\",\"Sweden\",\"Switzerland\",\"Thailand\",\"UK\",\"USA\",\"United Arabian Emirates\",\"Uruquay\"],\"labels\":[\"Adelaide\",\"Agoura Hills\",\"Ahmedabad\",\"Alameda\",\"Amsterdam\",\"Ann Arbor\",\"Atlanta\",\"Bejing\",\"Barcelona\",\"Bangkok\",\"Austin\",\"Auckland\",\"Baltimore\",\"Blumenau\",\"Boston\",\"Boise\",\"Berkeley\",\"Berlin\",\"Bend\",\"Belo Horizonte\",\"Belleville\",\"Bengaluru\",\"Boulder\",\"Brisbane\",\"Brisbane\",\"Bristol\",\"Brno\",\"Buenos Aires\",\"Burlingame\",\"Burlington\",\"Calgary\",\"Camarillo\",\"Campbell\",\"Cayman Islands\",\"Columbus\",\"Copenhagen\",\"Cincinnati\",\"Chester\",\"Chennai\",\"Charleston\",\"Chicago\",\"Coral Gables\",\"Denver\",\"Corvallis\",\"Cupertino\",\"Curitiba\",\"Dakar\",\"Dallas\",\"Detroit\",\"Dover\",\"Dubai\",\"Dublin\",\"Durham\",\"Edinburgh\",\"Ferdericton\",\"Frankfurt am Main\",\"Fremont\",\"Fort Collins\",\"Espoo\",\"Florianopolis\",\"Forster City\",\"Fresno\",\"Ghent\",\"Gilroy\",\"Gothenburg\",\"Greenwood Village\",\"Guadalajara\",\"Gurugram\",\"Haifa\",\"Haifa\",\"Hamburg\",\"Hartford\",\"Hayward\",\"Helsinki\",\"Hong Kong\",\"Hoofddorp\",\"Huntington Beach\",\"Indianapolis\",\"Indonesia\",\"Jakarta\",\"Jerusalem\",\"Joinville\",\"Karachi\",\"Kansas City\",\"Karlsruhe\",\"Kfar Saba\",\"Kiel\",\"Kitchener\",\"Krakow\",\"Lisbon\",\"Logan\",\"Lodz\",\"Lehi\",\"Lagos\",\"Las Vegas\",\"Kuala Lumpur\",\"Leamington Spa\",\"San Mateo\",\"Seoul\",\"Seattle\",\"Saskatoon\",\"Sao Paulo\",\"Santiago\",\"Santa Fe\",\"Santa Clara\",\"Santa Barbara\",\"San Rafael\",\"San Luis Obispo\",\"Reno\",\"San Jose\",\"San Francisco\",\"San Diego\",\"San Carlos\",\"San Bruno\",\"Salt Lake City\",\"Salisbury\",\"Sacramento\",\"Richmond\",\"Shanghai\",\"San Leandro\",\"Sheffield\",\"Tokyo\",\"Spokane\",\"Xi'an\",\"Wilmington\",\"Wellington\",\"Waterloo\",\"Washington DC\",\"Warsaw\",\"Waltham\",\"Walnut\",\"Walldorf\",\"Vilnius\",\"Singapore\",\"Vienna\",\"Toronto\",\"Redwood City\",\"Tel Aviv\",\"Tampa Bay\",\"Tampa\",\"Tallinn\",\"Sydney\",\"Sunnyvale\",\"Stockholm\",\"Stamford\",\"Vancouver\",\"Raleigh\",\"Los Gatos\",\"Pune\",\"Munich\",\"Mumbai\",\"Mountain View\",\"Moscow\",\"Montreal\",\"Montevideo\",\"Missoula\",\"Minneapolis\",\"Milwaukee\",\"Milpitas\",\"Miami\",\"Mexico City\",\"Menlo Park\",\"Memphis\",\"Melbourne\",\"Manchester\",\"Malmö\",\"Madrid\",\"Madison\",\"Los Angeles\",\"London\",\"Nairobi\",\"Ra'anana\",\"Nashik\",\"Nashville\",\"Prague\",\"Portland\",\"Pleasanton\",\"Pittsburgh\",\"Phoenix\",\"Philadelphia\",\"Paris\",\"Palo Alto\",\"Oxford\",\"Ottawa\",\"Nashua\",\"Oslo\",\"Oakland\",\"Norwalk\",\"North Bethesda\",\"Noida\",\"Newark\",\"New York City\",\"New York\",\"New Delhi\",\"Ness Ziona\",\"Nebraska City\",\"Orlando\",\"Yavne\",\"Zurich\",\"Argentina\",\"Australia\",\"Austria\",\"Belgium\",\"Brazil\",\"Canada\",\"Cayman Islands\",\"Chile\",\"China\",\"Czech Republic\",\"Denmark\",\"Estonia\",\"Finland\",\"France\",\"Germany\",\"Hong Kong\",\"India\",\"Indonesia\",\"Ireland\",\"Israel\",\"Japan\",\"Kenya\",\"Lithuania\",\"Malaysia\",\"Mexico\",\"Netherlands\",\"New Zealand\",\"Nigeria\",\"Norway\",\"Pakistan\",\"Poland\",\"Portugal\",\"Russia\",\"Senegal\",\"Singapore\",\"South Korea\",\"Spain\",\"Sweden\",\"Switzerland\",\"Thailand\",\"UK\",\"USA\",\"United Arabian Emirates\",\"Uruquay\"],\"marker\":{\"colors\":[\"#636efa\",\"#EF553B\",\"#00cc96\",\"#EF553B\",\"#ab63fa\",\"#EF553B\",\"#EF553B\",\"#FFA15A\",\"#19d3f3\",\"#FF6692\",\"#EF553B\",\"#B6E880\",\"#EF553B\",\"#FF97FF\",\"#EF553B\",\"#EF553B\",\"#EF553B\",\"#FECB52\",\"#EF553B\",\"#FF97FF\",\"#EF553B\",\"#00cc96\",\"#EF553B\",\"#636efa\",\"#EF553B\",\"#636efa\",\"#EF553B\",\"#00cc96\",\"#EF553B\",\"#EF553B\",\"#ab63fa\",\"#EF553B\",\"#EF553B\",\"#FFA15A\",\"#EF553B\",\"#19d3f3\",\"#EF553B\",\"#636efa\",\"#00cc96\",\"#EF553B\",\"#EF553B\",\"#EF553B\",\"#EF553B\",\"#EF553B\",\"#EF553B\",\"#FF97FF\",\"#FF6692\",\"#EF553B\",\"#EF553B\",\"#EF553B\",\"#B6E880\",\"#FF97FF\",\"#EF553B\",\"#636efa\",\"#ab63fa\",\"#FECB52\",\"#EF553B\",\"#EF553B\",\"#FECB52\",\"#FF97FF\",\"#EF553B\",\"#EF553B\",\"#636efa\",\"#EF553B\",\"#EF553B\",\"#EF553B\",\"#00cc96\",\"#00cc96\",\"#ab63fa\",\"#EF553B\",\"#FECB52\",\"#EF553B\",\"#EF553B\",\"#FECB52\",\"#FFA15A\",\"#ab63fa\",\"#EF553B\",\"#EF553B\",\"#19d3f3\",\"#19d3f3\",\"#ab63fa\",\"#FF97FF\",\"#FF6692\",\"#EF553B\",\"#FECB52\",\"#ab63fa\",\"#FECB52\",\"#ab63fa\",\"#B6E880\",\"#FF97FF\",\"#EF553B\",\"#B6E880\",\"#EF553B\",\"#FECB52\",\"#EF553B\",\"#636efa\",\"#636efa\",\"#EF553B\",\"#EF553B\",\"#EF553B\",\"#ab63fa\",\"#FF97FF\",\"#00cc96\",\"#EF553B\",\"#EF553B\",\"#EF553B\",\"#EF553B\",\"#EF553B\",\"#EF553B\",\"#EF553B\",\"#EF553B\",\"#EF553B\",\"#EF553B\",\"#EF553B\",\"#EF553B\",\"#636efa\",\"#EF553B\",\"#EF553B\",\"#FFA15A\",\"#EF553B\",\"#EF553B\",\"#ab63fa\",\"#EF553B\",\"#FFA15A\",\"#EF553B\",\"#B6E880\",\"#ab63fa\",\"#EF553B\",\"#B6E880\",\"#EF553B\",\"#EF553B\",\"#FECB52\",\"#FFA15A\",\"#19d3f3\",\"#FF6692\",\"#ab63fa\",\"#EF553B\",\"#ab63fa\",\"#EF553B\",\"#EF553B\",\"#B6E880\",\"#636efa\",\"#EF553B\",\"#EF553B\",\"#EF553B\",\"#ab63fa\",\"#EF553B\",\"#EF553B\",\"#00cc96\",\"#FECB52\",\"#00cc96\",\"#EF553B\",\"#FF97FF\",\"#ab63fa\",\"#FECB52\",\"#EF553B\",\"#EF553B\",\"#EF553B\",\"#EF553B\",\"#EF553B\",\"#00cc96\",\"#EF553B\",\"#EF553B\",\"#636efa\",\"#636efa\",\"#EF553B\",\"#19d3f3\",\"#EF553B\",\"#EF553B\",\"#636efa\",\"#636efa\",\"#ab63fa\",\"#00cc96\",\"#EF553B\",\"#EF553B\",\"#EF553B\",\"#EF553B\",\"#EF553B\",\"#EF553B\",\"#EF553B\",\"#EF553B\",\"#EF553B\",\"#636efa\",\"#ab63fa\",\"#EF553B\",\"#00cc96\",\"#EF553B\",\"#EF553B\",\"#EF553B\",\"#00cc96\",\"#EF553B\",\"#EF553B\",\"#EF553B\",\"#00cc96\",\"#ab63fa\",\"#EF553B\",\"#EF553B\",\"#ab63fa\",\"#ab63fa\",\"#00cc96\",\"#636efa\",\"#FF6692\",\"#636efa\",\"#FF97FF\",\"#ab63fa\",\"#FFA15A\",\"#00cc96\",\"#FFA15A\",\"#EF553B\",\"#19d3f3\",\"#B6E880\",\"#FECB52\",\"#EF553B\",\"#FECB52\",\"#FFA15A\",\"#00cc96\",\"#19d3f3\",\"#FF97FF\",\"#ab63fa\",\"#ab63fa\",\"#636efa\",\"#FFA15A\",\"#636efa\",\"#00cc96\",\"#ab63fa\",\"#B6E880\",\"#FECB52\",\"#00cc96\",\"#FF6692\",\"#B6E880\",\"#FF97FF\",\"#FF97FF\",\"#FF6692\",\"#19d3f3\",\"#EF553B\",\"#19d3f3\",\"#EF553B\",\"#ab63fa\",\"#FF6692\",\"#636efa\",\"#EF553B\",\"#B6E880\",\"#FECB52\"]},\"name\":\"\",\"parents\":[\"Australia\",\"USA\",\"India\",\"USA\",\"Netherlands\",\"USA\",\"USA\",\"China\",\"Spain\",\"Thailand\",\"USA\",\"New Zealand\",\"USA\",\"Brazil\",\"USA\",\"USA\",\"USA\",\"Germany\",\"USA\",\"Brazil\",\"USA\",\"India\",\"USA\",\"Australia\",\"USA\",\"UK\",\"Czech Republic\",\"Argentina\",\"USA\",\"USA\",\"Canada\",\"USA\",\"USA\",\"Cayman Islands\",\"USA\",\"Denmark\",\"USA\",\"UK\",\"India\",\"USA\",\"USA\",\"USA\",\"USA\",\"USA\",\"USA\",\"Brazil\",\"Senegal\",\"USA\",\"USA\",\"USA\",\"United Arabian Emirates\",\"Ireland\",\"USA\",\"UK\",\"Canada\",\"Germany\",\"USA\",\"USA\",\"Finland\",\"Brazil\",\"USA\",\"USA\",\"Belgium\",\"USA\",\"Sweden\",\"USA\",\"Mexico\",\"India\",\"Israel\",\"USA\",\"Germany\",\"USA\",\"USA\",\"Finland\",\"Hong Kong\",\"Netherlands\",\"USA\",\"USA\",\"Indonesia\",\"Indonesia\",\"Israel\",\"Brazil\",\"Pakistan\",\"USA\",\"Germany\",\"Israel\",\"Germany\",\"Canada\",\"Poland\",\"Portugal\",\"USA\",\"Poland\",\"USA\",\"Nigeria\",\"USA\",\"Malaysia\",\"UK\",\"USA\",\"South Korea\",\"USA\",\"Canada\",\"Brazil\",\"Chile\",\"USA\",\"USA\",\"USA\",\"USA\",\"USA\",\"USA\",\"USA\",\"USA\",\"USA\",\"USA\",\"USA\",\"USA\",\"UK\",\"USA\",\"USA\",\"China\",\"USA\",\"USA\",\"Japan\",\"USA\",\"China\",\"USA\",\"New Zealand\",\"Canada\",\"USA\",\"Poland\",\"USA\",\"USA\",\"Germany\",\"Lithuania\",\"Singapore\",\"Austria\",\"Canada\",\"USA\",\"Israel\",\"USA\",\"USA\",\"Estonia\",\"Australia\",\"USA\",\"Sweden\",\"USA\",\"Canada\",\"USA\",\"USA\",\"India\",\"Germany\",\"India\",\"USA\",\"Russia\",\"Canada\",\"Uruquay\",\"USA\",\"USA\",\"USA\",\"USA\",\"USA\",\"Mexico\",\"USA\",\"USA\",\"Australia\",\"UK\",\"Sweden\",\"Spain\",\"USA\",\"USA\",\"UK\",\"Kenya\",\"Israel\",\"India\",\"USA\",\"Czech Republic\",\"USA\",\"USA\",\"USA\",\"USA\",\"USA\",\"France\",\"USA\",\"UK\",\"Canada\",\"USA\",\"Norway\",\"USA\",\"USA\",\"USA\",\"India\",\"USA\",\"USA\",\"USA\",\"India\",\"Israel\",\"USA\",\"USA\",\"Israel\",\"Switzerland\",\"\",\"\",\"\",\"\",\"\",\"\",\"\",\"\",\"\",\"\",\"\",\"\",\"\",\"\",\"\",\"\",\"\",\"\",\"\",\"\",\"\",\"\",\"\",\"\",\"\",\"\",\"\",\"\",\"\",\"\",\"\",\"\",\"\",\"\",\"\",\"\",\"\",\"\",\"\",\"\",\"\",\"\",\"\",\"\"],\"values\":[1,1,1,1,4,2,12,2,2,1,30,2,3,1,76,3,4,50,1,2,1,81,9,1,1,1,1,4,1,1,3,1,4,1,8,4,3,1,5,1,30,1,16,1,2,3,1,5,8,2,5,7,1,1,1,2,3,1,1,1,1,1,1,1,1,1,1,14,1,1,4,1,3,1,3,1,3,1,1,9,3,2,1,3,1,1,1,1,1,1,1,1,2,6,1,2,1,10,1,72,2,39,3,1,14,2,1,2,2,19,304,17,3,2,13,1,4,1,2,1,1,5,2,1,1,1,2,10,1,1,3,2,2,25,2,45,13,62,1,1,5,17,8,15,3,15,3,2,2,3,9,26,1,16,2,1,5,2,2,9,1,13,1,9,1,1,2,2,69,58,7,1,1,3,1,14,3,8,7,9,10,28,2,3,1,4,3,2,2,3,2,201,7,10,1,1,1,1,1,4,28,2,1,48,88,1,3,5,2,4,5,2,10,63,3,126,10,7,70,5,7,2,2,2,5,3,6,4,1,3,1,1,1,25,1,4,17,1,1,66,1192,5,2],\"type\":\"treemap\",\"textinfo\":\"label+percent parent\"}],                        {\"template\":{\"data\":{\"histogram2dcontour\":[{\"type\":\"histogram2dcontour\",\"colorbar\":{\"outlinewidth\":0,\"ticks\":\"\"},\"colorscale\":[[0.0,\"#0d0887\"],[0.1111111111111111,\"#46039f\"],[0.2222222222222222,\"#7201a8\"],[0.3333333333333333,\"#9c179e\"],[0.4444444444444444,\"#bd3786\"],[0.5555555555555556,\"#d8576b\"],[0.6666666666666666,\"#ed7953\"],[0.7777777777777778,\"#fb9f3a\"],[0.8888888888888888,\"#fdca26\"],[1.0,\"#f0f921\"]]}],\"choropleth\":[{\"type\":\"choropleth\",\"colorbar\":{\"outlinewidth\":0,\"ticks\":\"\"}}],\"histogram2d\":[{\"type\":\"histogram2d\",\"colorbar\":{\"outlinewidth\":0,\"ticks\":\"\"},\"colorscale\":[[0.0,\"#0d0887\"],[0.1111111111111111,\"#46039f\"],[0.2222222222222222,\"#7201a8\"],[0.3333333333333333,\"#9c179e\"],[0.4444444444444444,\"#bd3786\"],[0.5555555555555556,\"#d8576b\"],[0.6666666666666666,\"#ed7953\"],[0.7777777777777778,\"#fb9f3a\"],[0.8888888888888888,\"#fdca26\"],[1.0,\"#f0f921\"]]}],\"heatmap\":[{\"type\":\"heatmap\",\"colorbar\":{\"outlinewidth\":0,\"ticks\":\"\"},\"colorscale\":[[0.0,\"#0d0887\"],[0.1111111111111111,\"#46039f\"],[0.2222222222222222,\"#7201a8\"],[0.3333333333333333,\"#9c179e\"],[0.4444444444444444,\"#bd3786\"],[0.5555555555555556,\"#d8576b\"],[0.6666666666666666,\"#ed7953\"],[0.7777777777777778,\"#fb9f3a\"],[0.8888888888888888,\"#fdca26\"],[1.0,\"#f0f921\"]]}],\"heatmapgl\":[{\"type\":\"heatmapgl\",\"colorbar\":{\"outlinewidth\":0,\"ticks\":\"\"},\"colorscale\":[[0.0,\"#0d0887\"],[0.1111111111111111,\"#46039f\"],[0.2222222222222222,\"#7201a8\"],[0.3333333333333333,\"#9c179e\"],[0.4444444444444444,\"#bd3786\"],[0.5555555555555556,\"#d8576b\"],[0.6666666666666666,\"#ed7953\"],[0.7777777777777778,\"#fb9f3a\"],[0.8888888888888888,\"#fdca26\"],[1.0,\"#f0f921\"]]}],\"contourcarpet\":[{\"type\":\"contourcarpet\",\"colorbar\":{\"outlinewidth\":0,\"ticks\":\"\"}}],\"contour\":[{\"type\":\"contour\",\"colorbar\":{\"outlinewidth\":0,\"ticks\":\"\"},\"colorscale\":[[0.0,\"#0d0887\"],[0.1111111111111111,\"#46039f\"],[0.2222222222222222,\"#7201a8\"],[0.3333333333333333,\"#9c179e\"],[0.4444444444444444,\"#bd3786\"],[0.5555555555555556,\"#d8576b\"],[0.6666666666666666,\"#ed7953\"],[0.7777777777777778,\"#fb9f3a\"],[0.8888888888888888,\"#fdca26\"],[1.0,\"#f0f921\"]]}],\"surface\":[{\"type\":\"surface\",\"colorbar\":{\"outlinewidth\":0,\"ticks\":\"\"},\"colorscale\":[[0.0,\"#0d0887\"],[0.1111111111111111,\"#46039f\"],[0.2222222222222222,\"#7201a8\"],[0.3333333333333333,\"#9c179e\"],[0.4444444444444444,\"#bd3786\"],[0.5555555555555556,\"#d8576b\"],[0.6666666666666666,\"#ed7953\"],[0.7777777777777778,\"#fb9f3a\"],[0.8888888888888888,\"#fdca26\"],[1.0,\"#f0f921\"]]}],\"mesh3d\":[{\"type\":\"mesh3d\",\"colorbar\":{\"outlinewidth\":0,\"ticks\":\"\"}}],\"scatter\":[{\"fillpattern\":{\"fillmode\":\"overlay\",\"size\":10,\"solidity\":0.2},\"type\":\"scatter\"}],\"parcoords\":[{\"type\":\"parcoords\",\"line\":{\"colorbar\":{\"outlinewidth\":0,\"ticks\":\"\"}}}],\"scatterpolargl\":[{\"type\":\"scatterpolargl\",\"marker\":{\"colorbar\":{\"outlinewidth\":0,\"ticks\":\"\"}}}],\"bar\":[{\"error_x\":{\"color\":\"#2a3f5f\"},\"error_y\":{\"color\":\"#2a3f5f\"},\"marker\":{\"line\":{\"color\":\"#E5ECF6\",\"width\":0.5},\"pattern\":{\"fillmode\":\"overlay\",\"size\":10,\"solidity\":0.2}},\"type\":\"bar\"}],\"scattergeo\":[{\"type\":\"scattergeo\",\"marker\":{\"colorbar\":{\"outlinewidth\":0,\"ticks\":\"\"}}}],\"scatterpolar\":[{\"type\":\"scatterpolar\",\"marker\":{\"colorbar\":{\"outlinewidth\":0,\"ticks\":\"\"}}}],\"histogram\":[{\"marker\":{\"pattern\":{\"fillmode\":\"overlay\",\"size\":10,\"solidity\":0.2}},\"type\":\"histogram\"}],\"scattergl\":[{\"type\":\"scattergl\",\"marker\":{\"colorbar\":{\"outlinewidth\":0,\"ticks\":\"\"}}}],\"scatter3d\":[{\"type\":\"scatter3d\",\"line\":{\"colorbar\":{\"outlinewidth\":0,\"ticks\":\"\"}},\"marker\":{\"colorbar\":{\"outlinewidth\":0,\"ticks\":\"\"}}}],\"scattermapbox\":[{\"type\":\"scattermapbox\",\"marker\":{\"colorbar\":{\"outlinewidth\":0,\"ticks\":\"\"}}}],\"scatterternary\":[{\"type\":\"scatterternary\",\"marker\":{\"colorbar\":{\"outlinewidth\":0,\"ticks\":\"\"}}}],\"scattercarpet\":[{\"type\":\"scattercarpet\",\"marker\":{\"colorbar\":{\"outlinewidth\":0,\"ticks\":\"\"}}}],\"carpet\":[{\"aaxis\":{\"endlinecolor\":\"#2a3f5f\",\"gridcolor\":\"white\",\"linecolor\":\"white\",\"minorgridcolor\":\"white\",\"startlinecolor\":\"#2a3f5f\"},\"baxis\":{\"endlinecolor\":\"#2a3f5f\",\"gridcolor\":\"white\",\"linecolor\":\"white\",\"minorgridcolor\":\"white\",\"startlinecolor\":\"#2a3f5f\"},\"type\":\"carpet\"}],\"table\":[{\"cells\":{\"fill\":{\"color\":\"#EBF0F8\"},\"line\":{\"color\":\"white\"}},\"header\":{\"fill\":{\"color\":\"#C8D4E3\"},\"line\":{\"color\":\"white\"}},\"type\":\"table\"}],\"barpolar\":[{\"marker\":{\"line\":{\"color\":\"#E5ECF6\",\"width\":0.5},\"pattern\":{\"fillmode\":\"overlay\",\"size\":10,\"solidity\":0.2}},\"type\":\"barpolar\"}],\"pie\":[{\"automargin\":true,\"type\":\"pie\"}]},\"layout\":{\"autotypenumbers\":\"strict\",\"colorway\":[\"#636efa\",\"#EF553B\",\"#00cc96\",\"#ab63fa\",\"#FFA15A\",\"#19d3f3\",\"#FF6692\",\"#B6E880\",\"#FF97FF\",\"#FECB52\"],\"font\":{\"color\":\"#2a3f5f\"},\"hovermode\":\"closest\",\"hoverlabel\":{\"align\":\"left\"},\"paper_bgcolor\":\"white\",\"plot_bgcolor\":\"#E5ECF6\",\"polar\":{\"bgcolor\":\"#E5ECF6\",\"angularaxis\":{\"gridcolor\":\"white\",\"linecolor\":\"white\",\"ticks\":\"\"},\"radialaxis\":{\"gridcolor\":\"white\",\"linecolor\":\"white\",\"ticks\":\"\"}},\"ternary\":{\"bgcolor\":\"#E5ECF6\",\"aaxis\":{\"gridcolor\":\"white\",\"linecolor\":\"white\",\"ticks\":\"\"},\"baxis\":{\"gridcolor\":\"white\",\"linecolor\":\"white\",\"ticks\":\"\"},\"caxis\":{\"gridcolor\":\"white\",\"linecolor\":\"white\",\"ticks\":\"\"}},\"coloraxis\":{\"colorbar\":{\"outlinewidth\":0,\"ticks\":\"\"}},\"colorscale\":{\"sequential\":[[0.0,\"#0d0887\"],[0.1111111111111111,\"#46039f\"],[0.2222222222222222,\"#7201a8\"],[0.3333333333333333,\"#9c179e\"],[0.4444444444444444,\"#bd3786\"],[0.5555555555555556,\"#d8576b\"],[0.6666666666666666,\"#ed7953\"],[0.7777777777777778,\"#fb9f3a\"],[0.8888888888888888,\"#fdca26\"],[1.0,\"#f0f921\"]],\"sequentialminus\":[[0.0,\"#0d0887\"],[0.1111111111111111,\"#46039f\"],[0.2222222222222222,\"#7201a8\"],[0.3333333333333333,\"#9c179e\"],[0.4444444444444444,\"#bd3786\"],[0.5555555555555556,\"#d8576b\"],[0.6666666666666666,\"#ed7953\"],[0.7777777777777778,\"#fb9f3a\"],[0.8888888888888888,\"#fdca26\"],[1.0,\"#f0f921\"]],\"diverging\":[[0,\"#8e0152\"],[0.1,\"#c51b7d\"],[0.2,\"#de77ae\"],[0.3,\"#f1b6da\"],[0.4,\"#fde0ef\"],[0.5,\"#f7f7f7\"],[0.6,\"#e6f5d0\"],[0.7,\"#b8e186\"],[0.8,\"#7fbc41\"],[0.9,\"#4d9221\"],[1,\"#276419\"]]},\"xaxis\":{\"gridcolor\":\"white\",\"linecolor\":\"white\",\"ticks\":\"\",\"title\":{\"standoff\":15},\"zerolinecolor\":\"white\",\"automargin\":true,\"zerolinewidth\":2},\"yaxis\":{\"gridcolor\":\"white\",\"linecolor\":\"white\",\"ticks\":\"\",\"title\":{\"standoff\":15},\"zerolinecolor\":\"white\",\"automargin\":true,\"zerolinewidth\":2},\"scene\":{\"xaxis\":{\"backgroundcolor\":\"#E5ECF6\",\"gridcolor\":\"white\",\"linecolor\":\"white\",\"showbackground\":true,\"ticks\":\"\",\"zerolinecolor\":\"white\",\"gridwidth\":2},\"yaxis\":{\"backgroundcolor\":\"#E5ECF6\",\"gridcolor\":\"white\",\"linecolor\":\"white\",\"showbackground\":true,\"ticks\":\"\",\"zerolinecolor\":\"white\",\"gridwidth\":2},\"zaxis\":{\"backgroundcolor\":\"#E5ECF6\",\"gridcolor\":\"white\",\"linecolor\":\"white\",\"showbackground\":true,\"ticks\":\"\",\"zerolinecolor\":\"white\",\"gridwidth\":2}},\"shapedefaults\":{\"line\":{\"color\":\"#2a3f5f\"}},\"annotationdefaults\":{\"arrowcolor\":\"#2a3f5f\",\"arrowhead\":0,\"arrowwidth\":1},\"geo\":{\"bgcolor\":\"white\",\"landcolor\":\"#E5ECF6\",\"subunitcolor\":\"white\",\"showland\":true,\"showlakes\":true,\"lakecolor\":\"white\"},\"title\":{\"x\":0.05},\"mapbox\":{\"style\":\"light\"}}},\"legend\":{\"tracegroupgap\":0},\"margin\":{\"t\":60},\"height\":800,\"width\":1280},                        {\"responsive\": true}                    ).then(function(){\n",
       "                            \n",
       "var gd = document.getElementById('88c4eef7-e3d9-4809-953a-3ef089908555');\n",
       "var x = new MutationObserver(function (mutations, observer) {{\n",
       "        var display = window.getComputedStyle(gd).display;\n",
       "        if (!display || display === 'none') {{\n",
       "            console.log([gd, 'removed!']);\n",
       "            Plotly.purge(gd);\n",
       "            observer.disconnect();\n",
       "        }}\n",
       "}});\n",
       "\n",
       "// Listen for the removal of the full notebook cells\n",
       "var notebookContainer = gd.closest('#notebook-container');\n",
       "if (notebookContainer) {{\n",
       "    x.observe(notebookContainer, {childList: true});\n",
       "}}\n",
       "\n",
       "// Listen for the clearing of the current output cell\n",
       "var outputEl = gd.closest('.output');\n",
       "if (outputEl) {{\n",
       "    x.observe(outputEl, {childList: true});\n",
       "}}\n",
       "\n",
       "                        })                };                });            </script>        </div>"
      ]
     },
     "metadata": {},
     "output_type": "display_data"
    }
   ],
   "source": [
    "fig = px.treemap(gr_cat, width=1280, height=800,\n",
    "                 path=[\"Country\",\"Location_HQ\"], values='size',\n",
    "                 color='Country')\n",
    "fig.update_traces(textinfo=\"label+percent parent\")\n",
    "fig.show()"
   ]
  },
  {
   "cell_type": "markdown",
   "id": "39b880ce",
   "metadata": {
    "papermill": {
     "duration": 0.006963,
     "end_time": "2024-07-08T17:40:40.563474",
     "exception": false,
     "start_time": "2024-07-08T17:40:40.556511",
     "status": "completed"
    },
    "tags": []
   },
   "source": [
    "What chart do you like more sunburst or treemap for this data?\n",
    "\n",
    "Let's do a treemap charts with only locations in the USA."
   ]
  },
  {
   "cell_type": "code",
   "execution_count": 5,
   "id": "e79661b3",
   "metadata": {
    "execution": {
     "iopub.execute_input": "2024-07-08T17:40:40.580774Z",
     "iopub.status.busy": "2024-07-08T17:40:40.579739Z",
     "iopub.status.idle": "2024-07-08T17:40:40.697303Z",
     "shell.execute_reply": "2024-07-08T17:40:40.696199Z"
    },
    "papermill": {
     "duration": 0.129011,
     "end_time": "2024-07-08T17:40:40.699747",
     "exception": false,
     "start_time": "2024-07-08T17:40:40.570736",
     "status": "completed"
    },
    "tags": []
   },
   "outputs": [
    {
     "data": {
      "text/html": [
       "<div>                            <div id=\"46bebe28-0eac-4800-9ca6-3037622bd269\" class=\"plotly-graph-div\" style=\"height:800px; width:1280px;\"></div>            <script type=\"text/javascript\">                require([\"plotly\"], function(Plotly) {                    window.PLOTLYENV=window.PLOTLYENV || {};                                    if (document.getElementById(\"46bebe28-0eac-4800-9ca6-3037622bd269\")) {                    Plotly.newPlot(                        \"46bebe28-0eac-4800-9ca6-3037622bd269\",                        [{\"branchvalues\":\"total\",\"customdata\":[[\"Agoura Hills\"],[\"Alameda\"],[\"Ann Arbor\"],[\"Atlanta\"],[\"Austin\"],[\"Baltimore\"],[\"Belleville\"],[\"Bend\"],[\"Berkeley\"],[\"Boise\"],[\"Boston\"],[\"Boulder\"],[\"Brisbane\"],[\"Burlingame\"],[\"Burlington\"],[\"Camarillo\"],[\"Campbell\"],[\"Charleston\"],[\"Chicago\"],[\"Cincinnati\"],[\"Columbus\"],[\"Coral Gables\"],[\"Corvallis\"],[\"Cupertino\"],[\"Dallas\"],[\"Denver\"],[\"Detroit\"],[\"Dover\"],[\"Durham\"],[\"Forster City\"],[\"Fort Collins\"],[\"Fremont\"],[\"Fresno\"],[\"Gilroy\"],[\"Greenwood Village\"],[\"Haifa\"],[\"Hartford\"],[\"Hayward\"],[\"Huntington Beach\"],[\"Indianapolis\"],[\"Kansas City\"],[\"Las Vegas\"],[\"Lehi\"],[\"Logan\"],[\"Los Angeles\"],[\"Los Gatos\"],[\"Madison\"],[\"Memphis\"],[\"Menlo Park\"],[\"Miami\"],[\"Milpitas\"],[\"Milwaukee\"],[\"Minneapolis\"],[\"Missoula\"],[\"Mountain View\"],[\"Nashua\"],[\"Nashville\"],[\"Nebraska City\"],[\"New York\"],[\"New York City\"],[\"Newark\"],[\"North Bethesda\"],[\"Norwalk\"],[\"Oakland\"],[\"Orlando\"],[\"Palo Alto\"],[\"Philadelphia\"],[\"Phoenix\"],[\"Pittsburgh\"],[\"Pleasanton\"],[\"Portland\"],[\"Raleigh\"],[\"Redwood City\"],[\"Reno\"],[\"Richmond\"],[\"Sacramento\"],[\"Salt Lake City\"],[\"San Bruno\"],[\"San Carlos\"],[\"San Diego\"],[\"San Francisco\"],[\"San Jose\"],[\"San Leandro\"],[\"San Luis Obispo\"],[\"San Mateo\"],[\"San Rafael\"],[\"Santa Barbara\"],[\"Santa Clara\"],[\"Santa Fe\"],[\"Seattle\"],[\"Sheffield\"],[\"Spokane\"],[\"Stamford\"],[\"Sunnyvale\"],[\"Tampa\"],[\"Tampa Bay\"],[\"Walnut\"],[\"Waltham\"],[\"Washington DC\"],[\"Wilmington\"],[\"(?)\"]],\"domain\":{\"x\":[0.0,1.0],\"y\":[0.0,1.0]},\"hovertemplate\":\"labels=%{label}\\u003cbr\\u003esize=%{value}\\u003cbr\\u003eparent=%{parent}\\u003cbr\\u003eid=%{id}\\u003cbr\\u003eLocation_HQ=%{customdata[0]}\\u003cextra\\u003e\\u003c\\u002fextra\\u003e\",\"ids\":[\"USA\\u002fAgoura Hills\",\"USA\\u002fAlameda\",\"USA\\u002fAnn Arbor\",\"USA\\u002fAtlanta\",\"USA\\u002fAustin\",\"USA\\u002fBaltimore\",\"USA\\u002fBelleville\",\"USA\\u002fBend\",\"USA\\u002fBerkeley\",\"USA\\u002fBoise\",\"USA\\u002fBoston\",\"USA\\u002fBoulder\",\"USA\\u002fBrisbane\",\"USA\\u002fBurlingame\",\"USA\\u002fBurlington\",\"USA\\u002fCamarillo\",\"USA\\u002fCampbell\",\"USA\\u002fCharleston\",\"USA\\u002fChicago\",\"USA\\u002fCincinnati\",\"USA\\u002fColumbus\",\"USA\\u002fCoral Gables\",\"USA\\u002fCorvallis\",\"USA\\u002fCupertino\",\"USA\\u002fDallas\",\"USA\\u002fDenver\",\"USA\\u002fDetroit\",\"USA\\u002fDover\",\"USA\\u002fDurham\",\"USA\\u002fForster City\",\"USA\\u002fFort Collins\",\"USA\\u002fFremont\",\"USA\\u002fFresno\",\"USA\\u002fGilroy\",\"USA\\u002fGreenwood Village\",\"USA\\u002fHaifa\",\"USA\\u002fHartford\",\"USA\\u002fHayward\",\"USA\\u002fHuntington Beach\",\"USA\\u002fIndianapolis\",\"USA\\u002fKansas City\",\"USA\\u002fLas Vegas\",\"USA\\u002fLehi\",\"USA\\u002fLogan\",\"USA\\u002fLos Angeles\",\"USA\\u002fLos Gatos\",\"USA\\u002fMadison\",\"USA\\u002fMemphis\",\"USA\\u002fMenlo Park\",\"USA\\u002fMiami\",\"USA\\u002fMilpitas\",\"USA\\u002fMilwaukee\",\"USA\\u002fMinneapolis\",\"USA\\u002fMissoula\",\"USA\\u002fMountain View\",\"USA\\u002fNashua\",\"USA\\u002fNashville\",\"USA\\u002fNebraska City\",\"USA\\u002fNew York\",\"USA\\u002fNew York City\",\"USA\\u002fNewark\",\"USA\\u002fNorth Bethesda\",\"USA\\u002fNorwalk\",\"USA\\u002fOakland\",\"USA\\u002fOrlando\",\"USA\\u002fPalo Alto\",\"USA\\u002fPhiladelphia\",\"USA\\u002fPhoenix\",\"USA\\u002fPittsburgh\",\"USA\\u002fPleasanton\",\"USA\\u002fPortland\",\"USA\\u002fRaleigh\",\"USA\\u002fRedwood City\",\"USA\\u002fReno\",\"USA\\u002fRichmond\",\"USA\\u002fSacramento\",\"USA\\u002fSalt Lake City\",\"USA\\u002fSan Bruno\",\"USA\\u002fSan Carlos\",\"USA\\u002fSan Diego\",\"USA\\u002fSan Francisco\",\"USA\\u002fSan Jose\",\"USA\\u002fSan Leandro\",\"USA\\u002fSan Luis Obispo\",\"USA\\u002fSan Mateo\",\"USA\\u002fSan Rafael\",\"USA\\u002fSanta Barbara\",\"USA\\u002fSanta Clara\",\"USA\\u002fSanta Fe\",\"USA\\u002fSeattle\",\"USA\\u002fSheffield\",\"USA\\u002fSpokane\",\"USA\\u002fStamford\",\"USA\\u002fSunnyvale\",\"USA\\u002fTampa\",\"USA\\u002fTampa Bay\",\"USA\\u002fWalnut\",\"USA\\u002fWaltham\",\"USA\\u002fWashington DC\",\"USA\\u002fWilmington\",\"USA\"],\"labels\":[\"Agoura Hills\",\"Alameda\",\"Ann Arbor\",\"Atlanta\",\"Austin\",\"Baltimore\",\"Belleville\",\"Bend\",\"Berkeley\",\"Boise\",\"Boston\",\"Boulder\",\"Brisbane\",\"Burlingame\",\"Burlington\",\"Camarillo\",\"Campbell\",\"Charleston\",\"Chicago\",\"Cincinnati\",\"Columbus\",\"Coral Gables\",\"Corvallis\",\"Cupertino\",\"Dallas\",\"Denver\",\"Detroit\",\"Dover\",\"Durham\",\"Forster City\",\"Fort Collins\",\"Fremont\",\"Fresno\",\"Gilroy\",\"Greenwood Village\",\"Haifa\",\"Hartford\",\"Hayward\",\"Huntington Beach\",\"Indianapolis\",\"Kansas City\",\"Las Vegas\",\"Lehi\",\"Logan\",\"Los Angeles\",\"Los Gatos\",\"Madison\",\"Memphis\",\"Menlo Park\",\"Miami\",\"Milpitas\",\"Milwaukee\",\"Minneapolis\",\"Missoula\",\"Mountain View\",\"Nashua\",\"Nashville\",\"Nebraska City\",\"New York\",\"New York City\",\"Newark\",\"North Bethesda\",\"Norwalk\",\"Oakland\",\"Orlando\",\"Palo Alto\",\"Philadelphia\",\"Phoenix\",\"Pittsburgh\",\"Pleasanton\",\"Portland\",\"Raleigh\",\"Redwood City\",\"Reno\",\"Richmond\",\"Sacramento\",\"Salt Lake City\",\"San Bruno\",\"San Carlos\",\"San Diego\",\"San Francisco\",\"San Jose\",\"San Leandro\",\"San Luis Obispo\",\"San Mateo\",\"San Rafael\",\"Santa Barbara\",\"Santa Clara\",\"Santa Fe\",\"Seattle\",\"Sheffield\",\"Spokane\",\"Stamford\",\"Sunnyvale\",\"Tampa\",\"Tampa Bay\",\"Walnut\",\"Waltham\",\"Washington DC\",\"Wilmington\",\"USA\"],\"marker\":{\"colors\":[\"#636efa\",\"#EF553B\",\"#00cc96\",\"#ab63fa\",\"#FFA15A\",\"#19d3f3\",\"#FF6692\",\"#B6E880\",\"#FF97FF\",\"#FECB52\",\"#636efa\",\"#EF553B\",\"#00cc96\",\"#ab63fa\",\"#FFA15A\",\"#19d3f3\",\"#FF6692\",\"#B6E880\",\"#FF97FF\",\"#FECB52\",\"#636efa\",\"#EF553B\",\"#00cc96\",\"#ab63fa\",\"#FFA15A\",\"#19d3f3\",\"#FF6692\",\"#B6E880\",\"#FF97FF\",\"#FECB52\",\"#636efa\",\"#EF553B\",\"#00cc96\",\"#ab63fa\",\"#FFA15A\",\"#19d3f3\",\"#FF6692\",\"#B6E880\",\"#FF97FF\",\"#FECB52\",\"#636efa\",\"#EF553B\",\"#00cc96\",\"#ab63fa\",\"#FFA15A\",\"#19d3f3\",\"#FF6692\",\"#B6E880\",\"#FF97FF\",\"#FECB52\",\"#636efa\",\"#EF553B\",\"#00cc96\",\"#ab63fa\",\"#FFA15A\",\"#19d3f3\",\"#FF6692\",\"#B6E880\",\"#FF97FF\",\"#FECB52\",\"#636efa\",\"#EF553B\",\"#00cc96\",\"#ab63fa\",\"#FFA15A\",\"#19d3f3\",\"#FF6692\",\"#B6E880\",\"#FF97FF\",\"#FECB52\",\"#636efa\",\"#EF553B\",\"#00cc96\",\"#ab63fa\",\"#FFA15A\",\"#19d3f3\",\"#FF6692\",\"#B6E880\",\"#FF97FF\",\"#FECB52\",\"#636efa\",\"#EF553B\",\"#00cc96\",\"#ab63fa\",\"#FFA15A\",\"#19d3f3\",\"#FF6692\",\"#B6E880\",\"#FF97FF\",\"#FECB52\",\"#636efa\",\"#EF553B\",\"#00cc96\",\"#ab63fa\",\"#FFA15A\",\"#19d3f3\",\"#FF6692\",\"#B6E880\",\"#FF97FF\",\"#FECB52\",\"#636efa\"]},\"name\":\"\",\"parents\":[\"USA\",\"USA\",\"USA\",\"USA\",\"USA\",\"USA\",\"USA\",\"USA\",\"USA\",\"USA\",\"USA\",\"USA\",\"USA\",\"USA\",\"USA\",\"USA\",\"USA\",\"USA\",\"USA\",\"USA\",\"USA\",\"USA\",\"USA\",\"USA\",\"USA\",\"USA\",\"USA\",\"USA\",\"USA\",\"USA\",\"USA\",\"USA\",\"USA\",\"USA\",\"USA\",\"USA\",\"USA\",\"USA\",\"USA\",\"USA\",\"USA\",\"USA\",\"USA\",\"USA\",\"USA\",\"USA\",\"USA\",\"USA\",\"USA\",\"USA\",\"USA\",\"USA\",\"USA\",\"USA\",\"USA\",\"USA\",\"USA\",\"USA\",\"USA\",\"USA\",\"USA\",\"USA\",\"USA\",\"USA\",\"USA\",\"USA\",\"USA\",\"USA\",\"USA\",\"USA\",\"USA\",\"USA\",\"USA\",\"USA\",\"USA\",\"USA\",\"USA\",\"USA\",\"USA\",\"USA\",\"USA\",\"USA\",\"USA\",\"USA\",\"USA\",\"USA\",\"USA\",\"USA\",\"USA\",\"USA\",\"USA\",\"USA\",\"USA\",\"USA\",\"USA\",\"USA\",\"USA\",\"USA\",\"USA\",\"USA\",\"\"],\"values\":[1,1,2,12,30,3,1,1,4,3,76,9,1,1,1,1,4,1,30,3,8,1,1,2,5,16,8,2,1,1,1,3,1,1,1,1,1,3,3,1,3,1,2,1,69,2,2,1,13,9,2,2,5,1,26,1,3,1,7,201,2,2,2,3,1,28,9,7,8,3,14,3,13,2,1,4,13,2,3,17,304,19,1,2,10,1,2,14,1,72,1,2,3,8,1,1,3,1,10,1,1192],\"type\":\"treemap\",\"textinfo\":\"label+percent parent\"}],                        {\"template\":{\"data\":{\"histogram2dcontour\":[{\"type\":\"histogram2dcontour\",\"colorbar\":{\"outlinewidth\":0,\"ticks\":\"\"},\"colorscale\":[[0.0,\"#0d0887\"],[0.1111111111111111,\"#46039f\"],[0.2222222222222222,\"#7201a8\"],[0.3333333333333333,\"#9c179e\"],[0.4444444444444444,\"#bd3786\"],[0.5555555555555556,\"#d8576b\"],[0.6666666666666666,\"#ed7953\"],[0.7777777777777778,\"#fb9f3a\"],[0.8888888888888888,\"#fdca26\"],[1.0,\"#f0f921\"]]}],\"choropleth\":[{\"type\":\"choropleth\",\"colorbar\":{\"outlinewidth\":0,\"ticks\":\"\"}}],\"histogram2d\":[{\"type\":\"histogram2d\",\"colorbar\":{\"outlinewidth\":0,\"ticks\":\"\"},\"colorscale\":[[0.0,\"#0d0887\"],[0.1111111111111111,\"#46039f\"],[0.2222222222222222,\"#7201a8\"],[0.3333333333333333,\"#9c179e\"],[0.4444444444444444,\"#bd3786\"],[0.5555555555555556,\"#d8576b\"],[0.6666666666666666,\"#ed7953\"],[0.7777777777777778,\"#fb9f3a\"],[0.8888888888888888,\"#fdca26\"],[1.0,\"#f0f921\"]]}],\"heatmap\":[{\"type\":\"heatmap\",\"colorbar\":{\"outlinewidth\":0,\"ticks\":\"\"},\"colorscale\":[[0.0,\"#0d0887\"],[0.1111111111111111,\"#46039f\"],[0.2222222222222222,\"#7201a8\"],[0.3333333333333333,\"#9c179e\"],[0.4444444444444444,\"#bd3786\"],[0.5555555555555556,\"#d8576b\"],[0.6666666666666666,\"#ed7953\"],[0.7777777777777778,\"#fb9f3a\"],[0.8888888888888888,\"#fdca26\"],[1.0,\"#f0f921\"]]}],\"heatmapgl\":[{\"type\":\"heatmapgl\",\"colorbar\":{\"outlinewidth\":0,\"ticks\":\"\"},\"colorscale\":[[0.0,\"#0d0887\"],[0.1111111111111111,\"#46039f\"],[0.2222222222222222,\"#7201a8\"],[0.3333333333333333,\"#9c179e\"],[0.4444444444444444,\"#bd3786\"],[0.5555555555555556,\"#d8576b\"],[0.6666666666666666,\"#ed7953\"],[0.7777777777777778,\"#fb9f3a\"],[0.8888888888888888,\"#fdca26\"],[1.0,\"#f0f921\"]]}],\"contourcarpet\":[{\"type\":\"contourcarpet\",\"colorbar\":{\"outlinewidth\":0,\"ticks\":\"\"}}],\"contour\":[{\"type\":\"contour\",\"colorbar\":{\"outlinewidth\":0,\"ticks\":\"\"},\"colorscale\":[[0.0,\"#0d0887\"],[0.1111111111111111,\"#46039f\"],[0.2222222222222222,\"#7201a8\"],[0.3333333333333333,\"#9c179e\"],[0.4444444444444444,\"#bd3786\"],[0.5555555555555556,\"#d8576b\"],[0.6666666666666666,\"#ed7953\"],[0.7777777777777778,\"#fb9f3a\"],[0.8888888888888888,\"#fdca26\"],[1.0,\"#f0f921\"]]}],\"surface\":[{\"type\":\"surface\",\"colorbar\":{\"outlinewidth\":0,\"ticks\":\"\"},\"colorscale\":[[0.0,\"#0d0887\"],[0.1111111111111111,\"#46039f\"],[0.2222222222222222,\"#7201a8\"],[0.3333333333333333,\"#9c179e\"],[0.4444444444444444,\"#bd3786\"],[0.5555555555555556,\"#d8576b\"],[0.6666666666666666,\"#ed7953\"],[0.7777777777777778,\"#fb9f3a\"],[0.8888888888888888,\"#fdca26\"],[1.0,\"#f0f921\"]]}],\"mesh3d\":[{\"type\":\"mesh3d\",\"colorbar\":{\"outlinewidth\":0,\"ticks\":\"\"}}],\"scatter\":[{\"fillpattern\":{\"fillmode\":\"overlay\",\"size\":10,\"solidity\":0.2},\"type\":\"scatter\"}],\"parcoords\":[{\"type\":\"parcoords\",\"line\":{\"colorbar\":{\"outlinewidth\":0,\"ticks\":\"\"}}}],\"scatterpolargl\":[{\"type\":\"scatterpolargl\",\"marker\":{\"colorbar\":{\"outlinewidth\":0,\"ticks\":\"\"}}}],\"bar\":[{\"error_x\":{\"color\":\"#2a3f5f\"},\"error_y\":{\"color\":\"#2a3f5f\"},\"marker\":{\"line\":{\"color\":\"#E5ECF6\",\"width\":0.5},\"pattern\":{\"fillmode\":\"overlay\",\"size\":10,\"solidity\":0.2}},\"type\":\"bar\"}],\"scattergeo\":[{\"type\":\"scattergeo\",\"marker\":{\"colorbar\":{\"outlinewidth\":0,\"ticks\":\"\"}}}],\"scatterpolar\":[{\"type\":\"scatterpolar\",\"marker\":{\"colorbar\":{\"outlinewidth\":0,\"ticks\":\"\"}}}],\"histogram\":[{\"marker\":{\"pattern\":{\"fillmode\":\"overlay\",\"size\":10,\"solidity\":0.2}},\"type\":\"histogram\"}],\"scattergl\":[{\"type\":\"scattergl\",\"marker\":{\"colorbar\":{\"outlinewidth\":0,\"ticks\":\"\"}}}],\"scatter3d\":[{\"type\":\"scatter3d\",\"line\":{\"colorbar\":{\"outlinewidth\":0,\"ticks\":\"\"}},\"marker\":{\"colorbar\":{\"outlinewidth\":0,\"ticks\":\"\"}}}],\"scattermapbox\":[{\"type\":\"scattermapbox\",\"marker\":{\"colorbar\":{\"outlinewidth\":0,\"ticks\":\"\"}}}],\"scatterternary\":[{\"type\":\"scatterternary\",\"marker\":{\"colorbar\":{\"outlinewidth\":0,\"ticks\":\"\"}}}],\"scattercarpet\":[{\"type\":\"scattercarpet\",\"marker\":{\"colorbar\":{\"outlinewidth\":0,\"ticks\":\"\"}}}],\"carpet\":[{\"aaxis\":{\"endlinecolor\":\"#2a3f5f\",\"gridcolor\":\"white\",\"linecolor\":\"white\",\"minorgridcolor\":\"white\",\"startlinecolor\":\"#2a3f5f\"},\"baxis\":{\"endlinecolor\":\"#2a3f5f\",\"gridcolor\":\"white\",\"linecolor\":\"white\",\"minorgridcolor\":\"white\",\"startlinecolor\":\"#2a3f5f\"},\"type\":\"carpet\"}],\"table\":[{\"cells\":{\"fill\":{\"color\":\"#EBF0F8\"},\"line\":{\"color\":\"white\"}},\"header\":{\"fill\":{\"color\":\"#C8D4E3\"},\"line\":{\"color\":\"white\"}},\"type\":\"table\"}],\"barpolar\":[{\"marker\":{\"line\":{\"color\":\"#E5ECF6\",\"width\":0.5},\"pattern\":{\"fillmode\":\"overlay\",\"size\":10,\"solidity\":0.2}},\"type\":\"barpolar\"}],\"pie\":[{\"automargin\":true,\"type\":\"pie\"}]},\"layout\":{\"autotypenumbers\":\"strict\",\"colorway\":[\"#636efa\",\"#EF553B\",\"#00cc96\",\"#ab63fa\",\"#FFA15A\",\"#19d3f3\",\"#FF6692\",\"#B6E880\",\"#FF97FF\",\"#FECB52\"],\"font\":{\"color\":\"#2a3f5f\"},\"hovermode\":\"closest\",\"hoverlabel\":{\"align\":\"left\"},\"paper_bgcolor\":\"white\",\"plot_bgcolor\":\"#E5ECF6\",\"polar\":{\"bgcolor\":\"#E5ECF6\",\"angularaxis\":{\"gridcolor\":\"white\",\"linecolor\":\"white\",\"ticks\":\"\"},\"radialaxis\":{\"gridcolor\":\"white\",\"linecolor\":\"white\",\"ticks\":\"\"}},\"ternary\":{\"bgcolor\":\"#E5ECF6\",\"aaxis\":{\"gridcolor\":\"white\",\"linecolor\":\"white\",\"ticks\":\"\"},\"baxis\":{\"gridcolor\":\"white\",\"linecolor\":\"white\",\"ticks\":\"\"},\"caxis\":{\"gridcolor\":\"white\",\"linecolor\":\"white\",\"ticks\":\"\"}},\"coloraxis\":{\"colorbar\":{\"outlinewidth\":0,\"ticks\":\"\"}},\"colorscale\":{\"sequential\":[[0.0,\"#0d0887\"],[0.1111111111111111,\"#46039f\"],[0.2222222222222222,\"#7201a8\"],[0.3333333333333333,\"#9c179e\"],[0.4444444444444444,\"#bd3786\"],[0.5555555555555556,\"#d8576b\"],[0.6666666666666666,\"#ed7953\"],[0.7777777777777778,\"#fb9f3a\"],[0.8888888888888888,\"#fdca26\"],[1.0,\"#f0f921\"]],\"sequentialminus\":[[0.0,\"#0d0887\"],[0.1111111111111111,\"#46039f\"],[0.2222222222222222,\"#7201a8\"],[0.3333333333333333,\"#9c179e\"],[0.4444444444444444,\"#bd3786\"],[0.5555555555555556,\"#d8576b\"],[0.6666666666666666,\"#ed7953\"],[0.7777777777777778,\"#fb9f3a\"],[0.8888888888888888,\"#fdca26\"],[1.0,\"#f0f921\"]],\"diverging\":[[0,\"#8e0152\"],[0.1,\"#c51b7d\"],[0.2,\"#de77ae\"],[0.3,\"#f1b6da\"],[0.4,\"#fde0ef\"],[0.5,\"#f7f7f7\"],[0.6,\"#e6f5d0\"],[0.7,\"#b8e186\"],[0.8,\"#7fbc41\"],[0.9,\"#4d9221\"],[1,\"#276419\"]]},\"xaxis\":{\"gridcolor\":\"white\",\"linecolor\":\"white\",\"ticks\":\"\",\"title\":{\"standoff\":15},\"zerolinecolor\":\"white\",\"automargin\":true,\"zerolinewidth\":2},\"yaxis\":{\"gridcolor\":\"white\",\"linecolor\":\"white\",\"ticks\":\"\",\"title\":{\"standoff\":15},\"zerolinecolor\":\"white\",\"automargin\":true,\"zerolinewidth\":2},\"scene\":{\"xaxis\":{\"backgroundcolor\":\"#E5ECF6\",\"gridcolor\":\"white\",\"linecolor\":\"white\",\"showbackground\":true,\"ticks\":\"\",\"zerolinecolor\":\"white\",\"gridwidth\":2},\"yaxis\":{\"backgroundcolor\":\"#E5ECF6\",\"gridcolor\":\"white\",\"linecolor\":\"white\",\"showbackground\":true,\"ticks\":\"\",\"zerolinecolor\":\"white\",\"gridwidth\":2},\"zaxis\":{\"backgroundcolor\":\"#E5ECF6\",\"gridcolor\":\"white\",\"linecolor\":\"white\",\"showbackground\":true,\"ticks\":\"\",\"zerolinecolor\":\"white\",\"gridwidth\":2}},\"shapedefaults\":{\"line\":{\"color\":\"#2a3f5f\"}},\"annotationdefaults\":{\"arrowcolor\":\"#2a3f5f\",\"arrowhead\":0,\"arrowwidth\":1},\"geo\":{\"bgcolor\":\"white\",\"landcolor\":\"#E5ECF6\",\"subunitcolor\":\"white\",\"showland\":true,\"showlakes\":true,\"lakecolor\":\"white\"},\"title\":{\"x\":0.05},\"mapbox\":{\"style\":\"light\"}}},\"legend\":{\"tracegroupgap\":0},\"margin\":{\"t\":60},\"height\":800,\"width\":1280},                        {\"responsive\": true}                    ).then(function(){\n",
       "                            \n",
       "var gd = document.getElementById('46bebe28-0eac-4800-9ca6-3037622bd269');\n",
       "var x = new MutationObserver(function (mutations, observer) {{\n",
       "        var display = window.getComputedStyle(gd).display;\n",
       "        if (!display || display === 'none') {{\n",
       "            console.log([gd, 'removed!']);\n",
       "            Plotly.purge(gd);\n",
       "            observer.disconnect();\n",
       "        }}\n",
       "}});\n",
       "\n",
       "// Listen for the removal of the full notebook cells\n",
       "var notebookContainer = gd.closest('#notebook-container');\n",
       "if (notebookContainer) {{\n",
       "    x.observe(notebookContainer, {childList: true});\n",
       "}}\n",
       "\n",
       "// Listen for the clearing of the current output cell\n",
       "var outputEl = gd.closest('.output');\n",
       "if (outputEl) {{\n",
       "    x.observe(outputEl, {childList: true});\n",
       "}}\n",
       "\n",
       "                        })                };                });            </script>        </div>"
      ]
     },
     "metadata": {},
     "output_type": "display_data"
    }
   ],
   "source": [
    "import pandas as pd\n",
    "import plotly.express as px\n",
    "\n",
    "# Filter the DataFrame for rows where Country is USA\n",
    "usa_df = gr_cat[gr_cat['Country'] == 'USA']\n",
    "\n",
    "# Create the treemap using the filtered DataFrame\n",
    "fig = px.treemap(usa_df, width=1280, height=800,\n",
    "                 path=[\"Country\", \"Location_HQ\"], values='size',\n",
    "                 color='Location_HQ')\n",
    "fig.update_traces(textinfo=\"label+percent parent\")\n",
    "fig.show()"
   ]
  },
  {
   "cell_type": "markdown",
   "id": "8607b94a",
   "metadata": {
    "papermill": {
     "duration": 0.00773,
     "end_time": "2024-07-08T17:40:40.716020",
     "exception": false,
     "start_time": "2024-07-08T17:40:40.708290",
     "status": "completed"
    },
    "tags": []
   },
   "source": [
    "Let's use more filter functions for the treemap chart.\n",
    "\n",
    "Filter is now the column state with the entry California."
   ]
  },
  {
   "cell_type": "code",
   "execution_count": 6,
   "id": "e268195f",
   "metadata": {
    "execution": {
     "iopub.execute_input": "2024-07-08T17:40:40.733097Z",
     "iopub.status.busy": "2024-07-08T17:40:40.732364Z",
     "iopub.status.idle": "2024-07-08T17:40:40.831998Z",
     "shell.execute_reply": "2024-07-08T17:40:40.830764Z"
    },
    "papermill": {
     "duration": 0.111104,
     "end_time": "2024-07-08T17:40:40.834514",
     "exception": false,
     "start_time": "2024-07-08T17:40:40.723410",
     "status": "completed"
    },
    "tags": []
   },
   "outputs": [
    {
     "data": {
      "text/html": [
       "<div>                            <div id=\"a5b95fa7-8a91-4632-b9fc-4b4fbda0eaa7\" class=\"plotly-graph-div\" style=\"height:800px; width:1280px;\"></div>            <script type=\"text/javascript\">                require([\"plotly\"], function(Plotly) {                    window.PLOTLYENV=window.PLOTLYENV || {};                                    if (document.getElementById(\"a5b95fa7-8a91-4632-b9fc-4b4fbda0eaa7\")) {                    Plotly.newPlot(                        \"a5b95fa7-8a91-4632-b9fc-4b4fbda0eaa7\",                        [{\"branchvalues\":\"total\",\"customdata\":[[\"Agoura Hills\"],[\"Alameda\"],[\"Berkeley\"],[\"Brisbane\"],[\"Burlingame\"],[\"Campbell\"],[\"Cupertino\"],[\"Forster City\"],[\"Fremont\"],[\"Gilroy\"],[\"Hayward\"],[\"Huntington Beach\"],[\"Los Angeles\"],[\"Los Gatos\"],[\"Menlo Park\"],[\"Milpitas\"],[\"Mountain View\"],[\"Newark\"],[\"North Bethesda\"],[\"Oakland\"],[\"Palo Alto\"],[\"Pleasanton\"],[\"Redwood City\"],[\"Richmond\"],[\"San Bruno\"],[\"San Carlos\"],[\"San Diego\"],[\"San Francisco\"],[\"San Jose\"],[\"San Leandro\"],[\"San Luis Obispo\"],[\"San Mateo\"],[\"San Rafael\"],[\"Santa Barbara\"],[\"Santa Clara\"],[\"Sunnyvale\"],[\"Walnut\"],[\"(?)\"]],\"domain\":{\"x\":[0.0,1.0],\"y\":[0.0,1.0]},\"hovertemplate\":\"labels=%{label}\\u003cbr\\u003esize=%{value}\\u003cbr\\u003eparent=%{parent}\\u003cbr\\u003eid=%{id}\\u003cbr\\u003eLocation_HQ=%{customdata[0]}\\u003cextra\\u003e\\u003c\\u002fextra\\u003e\",\"ids\":[\"California\\u002fAgoura Hills\",\"California\\u002fAlameda\",\"California\\u002fBerkeley\",\"California\\u002fBrisbane\",\"California\\u002fBurlingame\",\"California\\u002fCampbell\",\"California\\u002fCupertino\",\"California\\u002fForster City\",\"California\\u002fFremont\",\"California\\u002fGilroy\",\"California\\u002fHayward\",\"California\\u002fHuntington Beach\",\"California\\u002fLos Angeles\",\"California\\u002fLos Gatos\",\"California\\u002fMenlo Park\",\"California\\u002fMilpitas\",\"California\\u002fMountain View\",\"California\\u002fNewark\",\"California\\u002fNorth Bethesda\",\"California\\u002fOakland\",\"California\\u002fPalo Alto\",\"California\\u002fPleasanton\",\"California\\u002fRedwood City\",\"California\\u002fRichmond\",\"California\\u002fSan Bruno\",\"California\\u002fSan Carlos\",\"California\\u002fSan Diego\",\"California\\u002fSan Francisco\",\"California\\u002fSan Jose\",\"California\\u002fSan Leandro\",\"California\\u002fSan Luis Obispo\",\"California\\u002fSan Mateo\",\"California\\u002fSan Rafael\",\"California\\u002fSanta Barbara\",\"California\\u002fSanta Clara\",\"California\\u002fSunnyvale\",\"California\\u002fWalnut\",\"California\"],\"labels\":[\"Agoura Hills\",\"Alameda\",\"Berkeley\",\"Brisbane\",\"Burlingame\",\"Campbell\",\"Cupertino\",\"Forster City\",\"Fremont\",\"Gilroy\",\"Hayward\",\"Huntington Beach\",\"Los Angeles\",\"Los Gatos\",\"Menlo Park\",\"Milpitas\",\"Mountain View\",\"Newark\",\"North Bethesda\",\"Oakland\",\"Palo Alto\",\"Pleasanton\",\"Redwood City\",\"Richmond\",\"San Bruno\",\"San Carlos\",\"San Diego\",\"San Francisco\",\"San Jose\",\"San Leandro\",\"San Luis Obispo\",\"San Mateo\",\"San Rafael\",\"Santa Barbara\",\"Santa Clara\",\"Sunnyvale\",\"Walnut\",\"California\"],\"marker\":{\"colors\":[\"#636efa\",\"#EF553B\",\"#00cc96\",\"#ab63fa\",\"#FFA15A\",\"#19d3f3\",\"#FF6692\",\"#B6E880\",\"#FF97FF\",\"#FECB52\",\"#636efa\",\"#EF553B\",\"#00cc96\",\"#ab63fa\",\"#FFA15A\",\"#19d3f3\",\"#FF6692\",\"#B6E880\",\"#FF97FF\",\"#FECB52\",\"#636efa\",\"#EF553B\",\"#00cc96\",\"#ab63fa\",\"#FFA15A\",\"#19d3f3\",\"#FF6692\",\"#B6E880\",\"#FF97FF\",\"#FECB52\",\"#636efa\",\"#EF553B\",\"#00cc96\",\"#ab63fa\",\"#FFA15A\",\"#19d3f3\",\"#FF6692\",\"#B6E880\"]},\"name\":\"\",\"parents\":[\"California\",\"California\",\"California\",\"California\",\"California\",\"California\",\"California\",\"California\",\"California\",\"California\",\"California\",\"California\",\"California\",\"California\",\"California\",\"California\",\"California\",\"California\",\"California\",\"California\",\"California\",\"California\",\"California\",\"California\",\"California\",\"California\",\"California\",\"California\",\"California\",\"California\",\"California\",\"California\",\"California\",\"California\",\"California\",\"California\",\"California\",\"\"],\"values\":[1,1,4,1,1,4,2,1,2,1,3,3,69,2,9,2,26,2,2,3,28,3,13,1,2,3,17,304,17,1,2,10,1,2,14,8,1,566],\"type\":\"treemap\",\"textinfo\":\"label+percent parent\"}],                        {\"template\":{\"data\":{\"histogram2dcontour\":[{\"type\":\"histogram2dcontour\",\"colorbar\":{\"outlinewidth\":0,\"ticks\":\"\"},\"colorscale\":[[0.0,\"#0d0887\"],[0.1111111111111111,\"#46039f\"],[0.2222222222222222,\"#7201a8\"],[0.3333333333333333,\"#9c179e\"],[0.4444444444444444,\"#bd3786\"],[0.5555555555555556,\"#d8576b\"],[0.6666666666666666,\"#ed7953\"],[0.7777777777777778,\"#fb9f3a\"],[0.8888888888888888,\"#fdca26\"],[1.0,\"#f0f921\"]]}],\"choropleth\":[{\"type\":\"choropleth\",\"colorbar\":{\"outlinewidth\":0,\"ticks\":\"\"}}],\"histogram2d\":[{\"type\":\"histogram2d\",\"colorbar\":{\"outlinewidth\":0,\"ticks\":\"\"},\"colorscale\":[[0.0,\"#0d0887\"],[0.1111111111111111,\"#46039f\"],[0.2222222222222222,\"#7201a8\"],[0.3333333333333333,\"#9c179e\"],[0.4444444444444444,\"#bd3786\"],[0.5555555555555556,\"#d8576b\"],[0.6666666666666666,\"#ed7953\"],[0.7777777777777778,\"#fb9f3a\"],[0.8888888888888888,\"#fdca26\"],[1.0,\"#f0f921\"]]}],\"heatmap\":[{\"type\":\"heatmap\",\"colorbar\":{\"outlinewidth\":0,\"ticks\":\"\"},\"colorscale\":[[0.0,\"#0d0887\"],[0.1111111111111111,\"#46039f\"],[0.2222222222222222,\"#7201a8\"],[0.3333333333333333,\"#9c179e\"],[0.4444444444444444,\"#bd3786\"],[0.5555555555555556,\"#d8576b\"],[0.6666666666666666,\"#ed7953\"],[0.7777777777777778,\"#fb9f3a\"],[0.8888888888888888,\"#fdca26\"],[1.0,\"#f0f921\"]]}],\"heatmapgl\":[{\"type\":\"heatmapgl\",\"colorbar\":{\"outlinewidth\":0,\"ticks\":\"\"},\"colorscale\":[[0.0,\"#0d0887\"],[0.1111111111111111,\"#46039f\"],[0.2222222222222222,\"#7201a8\"],[0.3333333333333333,\"#9c179e\"],[0.4444444444444444,\"#bd3786\"],[0.5555555555555556,\"#d8576b\"],[0.6666666666666666,\"#ed7953\"],[0.7777777777777778,\"#fb9f3a\"],[0.8888888888888888,\"#fdca26\"],[1.0,\"#f0f921\"]]}],\"contourcarpet\":[{\"type\":\"contourcarpet\",\"colorbar\":{\"outlinewidth\":0,\"ticks\":\"\"}}],\"contour\":[{\"type\":\"contour\",\"colorbar\":{\"outlinewidth\":0,\"ticks\":\"\"},\"colorscale\":[[0.0,\"#0d0887\"],[0.1111111111111111,\"#46039f\"],[0.2222222222222222,\"#7201a8\"],[0.3333333333333333,\"#9c179e\"],[0.4444444444444444,\"#bd3786\"],[0.5555555555555556,\"#d8576b\"],[0.6666666666666666,\"#ed7953\"],[0.7777777777777778,\"#fb9f3a\"],[0.8888888888888888,\"#fdca26\"],[1.0,\"#f0f921\"]]}],\"surface\":[{\"type\":\"surface\",\"colorbar\":{\"outlinewidth\":0,\"ticks\":\"\"},\"colorscale\":[[0.0,\"#0d0887\"],[0.1111111111111111,\"#46039f\"],[0.2222222222222222,\"#7201a8\"],[0.3333333333333333,\"#9c179e\"],[0.4444444444444444,\"#bd3786\"],[0.5555555555555556,\"#d8576b\"],[0.6666666666666666,\"#ed7953\"],[0.7777777777777778,\"#fb9f3a\"],[0.8888888888888888,\"#fdca26\"],[1.0,\"#f0f921\"]]}],\"mesh3d\":[{\"type\":\"mesh3d\",\"colorbar\":{\"outlinewidth\":0,\"ticks\":\"\"}}],\"scatter\":[{\"fillpattern\":{\"fillmode\":\"overlay\",\"size\":10,\"solidity\":0.2},\"type\":\"scatter\"}],\"parcoords\":[{\"type\":\"parcoords\",\"line\":{\"colorbar\":{\"outlinewidth\":0,\"ticks\":\"\"}}}],\"scatterpolargl\":[{\"type\":\"scatterpolargl\",\"marker\":{\"colorbar\":{\"outlinewidth\":0,\"ticks\":\"\"}}}],\"bar\":[{\"error_x\":{\"color\":\"#2a3f5f\"},\"error_y\":{\"color\":\"#2a3f5f\"},\"marker\":{\"line\":{\"color\":\"#E5ECF6\",\"width\":0.5},\"pattern\":{\"fillmode\":\"overlay\",\"size\":10,\"solidity\":0.2}},\"type\":\"bar\"}],\"scattergeo\":[{\"type\":\"scattergeo\",\"marker\":{\"colorbar\":{\"outlinewidth\":0,\"ticks\":\"\"}}}],\"scatterpolar\":[{\"type\":\"scatterpolar\",\"marker\":{\"colorbar\":{\"outlinewidth\":0,\"ticks\":\"\"}}}],\"histogram\":[{\"marker\":{\"pattern\":{\"fillmode\":\"overlay\",\"size\":10,\"solidity\":0.2}},\"type\":\"histogram\"}],\"scattergl\":[{\"type\":\"scattergl\",\"marker\":{\"colorbar\":{\"outlinewidth\":0,\"ticks\":\"\"}}}],\"scatter3d\":[{\"type\":\"scatter3d\",\"line\":{\"colorbar\":{\"outlinewidth\":0,\"ticks\":\"\"}},\"marker\":{\"colorbar\":{\"outlinewidth\":0,\"ticks\":\"\"}}}],\"scattermapbox\":[{\"type\":\"scattermapbox\",\"marker\":{\"colorbar\":{\"outlinewidth\":0,\"ticks\":\"\"}}}],\"scatterternary\":[{\"type\":\"scatterternary\",\"marker\":{\"colorbar\":{\"outlinewidth\":0,\"ticks\":\"\"}}}],\"scattercarpet\":[{\"type\":\"scattercarpet\",\"marker\":{\"colorbar\":{\"outlinewidth\":0,\"ticks\":\"\"}}}],\"carpet\":[{\"aaxis\":{\"endlinecolor\":\"#2a3f5f\",\"gridcolor\":\"white\",\"linecolor\":\"white\",\"minorgridcolor\":\"white\",\"startlinecolor\":\"#2a3f5f\"},\"baxis\":{\"endlinecolor\":\"#2a3f5f\",\"gridcolor\":\"white\",\"linecolor\":\"white\",\"minorgridcolor\":\"white\",\"startlinecolor\":\"#2a3f5f\"},\"type\":\"carpet\"}],\"table\":[{\"cells\":{\"fill\":{\"color\":\"#EBF0F8\"},\"line\":{\"color\":\"white\"}},\"header\":{\"fill\":{\"color\":\"#C8D4E3\"},\"line\":{\"color\":\"white\"}},\"type\":\"table\"}],\"barpolar\":[{\"marker\":{\"line\":{\"color\":\"#E5ECF6\",\"width\":0.5},\"pattern\":{\"fillmode\":\"overlay\",\"size\":10,\"solidity\":0.2}},\"type\":\"barpolar\"}],\"pie\":[{\"automargin\":true,\"type\":\"pie\"}]},\"layout\":{\"autotypenumbers\":\"strict\",\"colorway\":[\"#636efa\",\"#EF553B\",\"#00cc96\",\"#ab63fa\",\"#FFA15A\",\"#19d3f3\",\"#FF6692\",\"#B6E880\",\"#FF97FF\",\"#FECB52\"],\"font\":{\"color\":\"#2a3f5f\"},\"hovermode\":\"closest\",\"hoverlabel\":{\"align\":\"left\"},\"paper_bgcolor\":\"white\",\"plot_bgcolor\":\"#E5ECF6\",\"polar\":{\"bgcolor\":\"#E5ECF6\",\"angularaxis\":{\"gridcolor\":\"white\",\"linecolor\":\"white\",\"ticks\":\"\"},\"radialaxis\":{\"gridcolor\":\"white\",\"linecolor\":\"white\",\"ticks\":\"\"}},\"ternary\":{\"bgcolor\":\"#E5ECF6\",\"aaxis\":{\"gridcolor\":\"white\",\"linecolor\":\"white\",\"ticks\":\"\"},\"baxis\":{\"gridcolor\":\"white\",\"linecolor\":\"white\",\"ticks\":\"\"},\"caxis\":{\"gridcolor\":\"white\",\"linecolor\":\"white\",\"ticks\":\"\"}},\"coloraxis\":{\"colorbar\":{\"outlinewidth\":0,\"ticks\":\"\"}},\"colorscale\":{\"sequential\":[[0.0,\"#0d0887\"],[0.1111111111111111,\"#46039f\"],[0.2222222222222222,\"#7201a8\"],[0.3333333333333333,\"#9c179e\"],[0.4444444444444444,\"#bd3786\"],[0.5555555555555556,\"#d8576b\"],[0.6666666666666666,\"#ed7953\"],[0.7777777777777778,\"#fb9f3a\"],[0.8888888888888888,\"#fdca26\"],[1.0,\"#f0f921\"]],\"sequentialminus\":[[0.0,\"#0d0887\"],[0.1111111111111111,\"#46039f\"],[0.2222222222222222,\"#7201a8\"],[0.3333333333333333,\"#9c179e\"],[0.4444444444444444,\"#bd3786\"],[0.5555555555555556,\"#d8576b\"],[0.6666666666666666,\"#ed7953\"],[0.7777777777777778,\"#fb9f3a\"],[0.8888888888888888,\"#fdca26\"],[1.0,\"#f0f921\"]],\"diverging\":[[0,\"#8e0152\"],[0.1,\"#c51b7d\"],[0.2,\"#de77ae\"],[0.3,\"#f1b6da\"],[0.4,\"#fde0ef\"],[0.5,\"#f7f7f7\"],[0.6,\"#e6f5d0\"],[0.7,\"#b8e186\"],[0.8,\"#7fbc41\"],[0.9,\"#4d9221\"],[1,\"#276419\"]]},\"xaxis\":{\"gridcolor\":\"white\",\"linecolor\":\"white\",\"ticks\":\"\",\"title\":{\"standoff\":15},\"zerolinecolor\":\"white\",\"automargin\":true,\"zerolinewidth\":2},\"yaxis\":{\"gridcolor\":\"white\",\"linecolor\":\"white\",\"ticks\":\"\",\"title\":{\"standoff\":15},\"zerolinecolor\":\"white\",\"automargin\":true,\"zerolinewidth\":2},\"scene\":{\"xaxis\":{\"backgroundcolor\":\"#E5ECF6\",\"gridcolor\":\"white\",\"linecolor\":\"white\",\"showbackground\":true,\"ticks\":\"\",\"zerolinecolor\":\"white\",\"gridwidth\":2},\"yaxis\":{\"backgroundcolor\":\"#E5ECF6\",\"gridcolor\":\"white\",\"linecolor\":\"white\",\"showbackground\":true,\"ticks\":\"\",\"zerolinecolor\":\"white\",\"gridwidth\":2},\"zaxis\":{\"backgroundcolor\":\"#E5ECF6\",\"gridcolor\":\"white\",\"linecolor\":\"white\",\"showbackground\":true,\"ticks\":\"\",\"zerolinecolor\":\"white\",\"gridwidth\":2}},\"shapedefaults\":{\"line\":{\"color\":\"#2a3f5f\"}},\"annotationdefaults\":{\"arrowcolor\":\"#2a3f5f\",\"arrowhead\":0,\"arrowwidth\":1},\"geo\":{\"bgcolor\":\"white\",\"landcolor\":\"#E5ECF6\",\"subunitcolor\":\"white\",\"showland\":true,\"showlakes\":true,\"lakecolor\":\"white\"},\"title\":{\"x\":0.05},\"mapbox\":{\"style\":\"light\"}}},\"legend\":{\"tracegroupgap\":0},\"margin\":{\"t\":60},\"height\":800,\"width\":1280},                        {\"responsive\": true}                    ).then(function(){\n",
       "                            \n",
       "var gd = document.getElementById('a5b95fa7-8a91-4632-b9fc-4b4fbda0eaa7');\n",
       "var x = new MutationObserver(function (mutations, observer) {{\n",
       "        var display = window.getComputedStyle(gd).display;\n",
       "        if (!display || display === 'none') {{\n",
       "            console.log([gd, 'removed!']);\n",
       "            Plotly.purge(gd);\n",
       "            observer.disconnect();\n",
       "        }}\n",
       "}});\n",
       "\n",
       "// Listen for the removal of the full notebook cells\n",
       "var notebookContainer = gd.closest('#notebook-container');\n",
       "if (notebookContainer) {{\n",
       "    x.observe(notebookContainer, {childList: true});\n",
       "}}\n",
       "\n",
       "// Listen for the clearing of the current output cell\n",
       "var outputEl = gd.closest('.output');\n",
       "if (outputEl) {{\n",
       "    x.observe(outputEl, {childList: true});\n",
       "}}\n",
       "\n",
       "                        })                };                });            </script>        </div>"
      ]
     },
     "metadata": {},
     "output_type": "display_data"
    }
   ],
   "source": [
    "st_cat = df[[\"State\",\n",
    "             \"Location_HQ\"]].groupby([\"State\",\n",
    "                                       \"Location_HQ\"], as_index=False).size()\n",
    "\n",
    "import pandas as pd\n",
    "import plotly.express as px\n",
    "\n",
    "\n",
    "Ca_df = st_cat[st_cat['State'] == 'California']\n",
    "\n",
    "# Create the treemap using the filtered DataFrame\n",
    "fig = px.treemap(Ca_df, width=1280, height=800,\n",
    "                 path=[\"State\", \"Location_HQ\"], values='size',\n",
    "                 color='Location_HQ')\n",
    "fig.update_traces(textinfo=\"label+percent parent\")\n",
    "fig.show()"
   ]
  },
  {
   "cell_type": "markdown",
   "id": "d6e20902",
   "metadata": {
    "papermill": {
     "duration": 0.007564,
     "end_time": "2024-07-08T17:40:40.850401",
     "exception": false,
     "start_time": "2024-07-08T17:40:40.842837",
     "status": "completed"
    },
    "tags": []
   },
   "source": [
    "And finally the filter for the region = San Francisco Bay Area."
   ]
  },
  {
   "cell_type": "code",
   "execution_count": 7,
   "id": "7ceabac8",
   "metadata": {
    "execution": {
     "iopub.execute_input": "2024-07-08T17:40:40.867759Z",
     "iopub.status.busy": "2024-07-08T17:40:40.867344Z",
     "iopub.status.idle": "2024-07-08T17:40:40.968063Z",
     "shell.execute_reply": "2024-07-08T17:40:40.966796Z"
    },
    "papermill": {
     "duration": 0.112505,
     "end_time": "2024-07-08T17:40:40.970625",
     "exception": false,
     "start_time": "2024-07-08T17:40:40.858120",
     "status": "completed"
    },
    "tags": []
   },
   "outputs": [
    {
     "data": {
      "text/html": [
       "<div>                            <div id=\"963e37ea-187b-453a-8f38-4fb62841e215\" class=\"plotly-graph-div\" style=\"height:800px; width:1280px;\"></div>            <script type=\"text/javascript\">                require([\"plotly\"], function(Plotly) {                    window.PLOTLYENV=window.PLOTLYENV || {};                                    if (document.getElementById(\"963e37ea-187b-453a-8f38-4fb62841e215\")) {                    Plotly.newPlot(                        \"963e37ea-187b-453a-8f38-4fb62841e215\",                        [{\"branchvalues\":\"total\",\"customdata\":[[\"Agoura Hills\"],[\"Alameda\"],[\"Berkeley\"],[\"Brisbane\"],[\"Burlingame\"],[\"Campbell\"],[\"Cupertino\"],[\"Forster City\"],[\"Fremont\"],[\"Gilroy\"],[\"Hayward\"],[\"Los Gatos\"],[\"Menlo Park\"],[\"Milpitas\"],[\"Mountain View\"],[\"Newark\"],[\"North Bethesda\"],[\"Oakland\"],[\"Palo Alto\"],[\"Pleasanton\"],[\"Redwood City\"],[\"Richmond\"],[\"San Bruno\"],[\"San Carlos\"],[\"San Francisco\"],[\"San Jose\"],[\"San Leandro\"],[\"San Mateo\"],[\"San Rafael\"],[\"Santa Clara\"],[\"Sunnyvale\"],[\"Walnut\"],[\"(?)\"]],\"domain\":{\"x\":[0.0,1.0],\"y\":[0.0,1.0]},\"hovertemplate\":\"labels=%{label}\\u003cbr\\u003esize=%{value}\\u003cbr\\u003eparent=%{parent}\\u003cbr\\u003eid=%{id}\\u003cbr\\u003eLocation_HQ=%{customdata[0]}\\u003cextra\\u003e\\u003c\\u002fextra\\u003e\",\"ids\":[\"San Francisco Bay Area\\u002fAgoura Hills\",\"San Francisco Bay Area\\u002fAlameda\",\"San Francisco Bay Area\\u002fBerkeley\",\"San Francisco Bay Area\\u002fBrisbane\",\"San Francisco Bay Area\\u002fBurlingame\",\"San Francisco Bay Area\\u002fCampbell\",\"San Francisco Bay Area\\u002fCupertino\",\"San Francisco Bay Area\\u002fForster City\",\"San Francisco Bay Area\\u002fFremont\",\"San Francisco Bay Area\\u002fGilroy\",\"San Francisco Bay Area\\u002fHayward\",\"San Francisco Bay Area\\u002fLos Gatos\",\"San Francisco Bay Area\\u002fMenlo Park\",\"San Francisco Bay Area\\u002fMilpitas\",\"San Francisco Bay Area\\u002fMountain View\",\"San Francisco Bay Area\\u002fNewark\",\"San Francisco Bay Area\\u002fNorth Bethesda\",\"San Francisco Bay Area\\u002fOakland\",\"San Francisco Bay Area\\u002fPalo Alto\",\"San Francisco Bay Area\\u002fPleasanton\",\"San Francisco Bay Area\\u002fRedwood City\",\"San Francisco Bay Area\\u002fRichmond\",\"San Francisco Bay Area\\u002fSan Bruno\",\"San Francisco Bay Area\\u002fSan Carlos\",\"San Francisco Bay Area\\u002fSan Francisco\",\"San Francisco Bay Area\\u002fSan Jose\",\"San Francisco Bay Area\\u002fSan Leandro\",\"San Francisco Bay Area\\u002fSan Mateo\",\"San Francisco Bay Area\\u002fSan Rafael\",\"San Francisco Bay Area\\u002fSanta Clara\",\"San Francisco Bay Area\\u002fSunnyvale\",\"San Francisco Bay Area\\u002fWalnut\",\"San Francisco Bay Area\"],\"labels\":[\"Agoura Hills\",\"Alameda\",\"Berkeley\",\"Brisbane\",\"Burlingame\",\"Campbell\",\"Cupertino\",\"Forster City\",\"Fremont\",\"Gilroy\",\"Hayward\",\"Los Gatos\",\"Menlo Park\",\"Milpitas\",\"Mountain View\",\"Newark\",\"North Bethesda\",\"Oakland\",\"Palo Alto\",\"Pleasanton\",\"Redwood City\",\"Richmond\",\"San Bruno\",\"San Carlos\",\"San Francisco\",\"San Jose\",\"San Leandro\",\"San Mateo\",\"San Rafael\",\"Santa Clara\",\"Sunnyvale\",\"Walnut\",\"San Francisco Bay Area\"],\"marker\":{\"colors\":[\"#636efa\",\"#EF553B\",\"#00cc96\",\"#ab63fa\",\"#FFA15A\",\"#19d3f3\",\"#FF6692\",\"#B6E880\",\"#FF97FF\",\"#FECB52\",\"#636efa\",\"#EF553B\",\"#00cc96\",\"#ab63fa\",\"#FFA15A\",\"#19d3f3\",\"#FF6692\",\"#B6E880\",\"#FF97FF\",\"#FECB52\",\"#636efa\",\"#EF553B\",\"#00cc96\",\"#ab63fa\",\"#FFA15A\",\"#19d3f3\",\"#FF6692\",\"#B6E880\",\"#FF97FF\",\"#FECB52\",\"#636efa\",\"#EF553B\",\"#00cc96\"]},\"name\":\"\",\"parents\":[\"San Francisco Bay Area\",\"San Francisco Bay Area\",\"San Francisco Bay Area\",\"San Francisco Bay Area\",\"San Francisco Bay Area\",\"San Francisco Bay Area\",\"San Francisco Bay Area\",\"San Francisco Bay Area\",\"San Francisco Bay Area\",\"San Francisco Bay Area\",\"San Francisco Bay Area\",\"San Francisco Bay Area\",\"San Francisco Bay Area\",\"San Francisco Bay Area\",\"San Francisco Bay Area\",\"San Francisco Bay Area\",\"San Francisco Bay Area\",\"San Francisco Bay Area\",\"San Francisco Bay Area\",\"San Francisco Bay Area\",\"San Francisco Bay Area\",\"San Francisco Bay Area\",\"San Francisco Bay Area\",\"San Francisco Bay Area\",\"San Francisco Bay Area\",\"San Francisco Bay Area\",\"San Francisco Bay Area\",\"San Francisco Bay Area\",\"San Francisco Bay Area\",\"San Francisco Bay Area\",\"San Francisco Bay Area\",\"San Francisco Bay Area\",\"\"],\"values\":[1,1,4,1,1,4,2,1,2,1,3,2,9,2,26,2,2,3,28,3,13,1,2,3,304,17,1,10,1,14,8,1,473],\"type\":\"treemap\",\"textinfo\":\"label+percent parent\"}],                        {\"template\":{\"data\":{\"histogram2dcontour\":[{\"type\":\"histogram2dcontour\",\"colorbar\":{\"outlinewidth\":0,\"ticks\":\"\"},\"colorscale\":[[0.0,\"#0d0887\"],[0.1111111111111111,\"#46039f\"],[0.2222222222222222,\"#7201a8\"],[0.3333333333333333,\"#9c179e\"],[0.4444444444444444,\"#bd3786\"],[0.5555555555555556,\"#d8576b\"],[0.6666666666666666,\"#ed7953\"],[0.7777777777777778,\"#fb9f3a\"],[0.8888888888888888,\"#fdca26\"],[1.0,\"#f0f921\"]]}],\"choropleth\":[{\"type\":\"choropleth\",\"colorbar\":{\"outlinewidth\":0,\"ticks\":\"\"}}],\"histogram2d\":[{\"type\":\"histogram2d\",\"colorbar\":{\"outlinewidth\":0,\"ticks\":\"\"},\"colorscale\":[[0.0,\"#0d0887\"],[0.1111111111111111,\"#46039f\"],[0.2222222222222222,\"#7201a8\"],[0.3333333333333333,\"#9c179e\"],[0.4444444444444444,\"#bd3786\"],[0.5555555555555556,\"#d8576b\"],[0.6666666666666666,\"#ed7953\"],[0.7777777777777778,\"#fb9f3a\"],[0.8888888888888888,\"#fdca26\"],[1.0,\"#f0f921\"]]}],\"heatmap\":[{\"type\":\"heatmap\",\"colorbar\":{\"outlinewidth\":0,\"ticks\":\"\"},\"colorscale\":[[0.0,\"#0d0887\"],[0.1111111111111111,\"#46039f\"],[0.2222222222222222,\"#7201a8\"],[0.3333333333333333,\"#9c179e\"],[0.4444444444444444,\"#bd3786\"],[0.5555555555555556,\"#d8576b\"],[0.6666666666666666,\"#ed7953\"],[0.7777777777777778,\"#fb9f3a\"],[0.8888888888888888,\"#fdca26\"],[1.0,\"#f0f921\"]]}],\"heatmapgl\":[{\"type\":\"heatmapgl\",\"colorbar\":{\"outlinewidth\":0,\"ticks\":\"\"},\"colorscale\":[[0.0,\"#0d0887\"],[0.1111111111111111,\"#46039f\"],[0.2222222222222222,\"#7201a8\"],[0.3333333333333333,\"#9c179e\"],[0.4444444444444444,\"#bd3786\"],[0.5555555555555556,\"#d8576b\"],[0.6666666666666666,\"#ed7953\"],[0.7777777777777778,\"#fb9f3a\"],[0.8888888888888888,\"#fdca26\"],[1.0,\"#f0f921\"]]}],\"contourcarpet\":[{\"type\":\"contourcarpet\",\"colorbar\":{\"outlinewidth\":0,\"ticks\":\"\"}}],\"contour\":[{\"type\":\"contour\",\"colorbar\":{\"outlinewidth\":0,\"ticks\":\"\"},\"colorscale\":[[0.0,\"#0d0887\"],[0.1111111111111111,\"#46039f\"],[0.2222222222222222,\"#7201a8\"],[0.3333333333333333,\"#9c179e\"],[0.4444444444444444,\"#bd3786\"],[0.5555555555555556,\"#d8576b\"],[0.6666666666666666,\"#ed7953\"],[0.7777777777777778,\"#fb9f3a\"],[0.8888888888888888,\"#fdca26\"],[1.0,\"#f0f921\"]]}],\"surface\":[{\"type\":\"surface\",\"colorbar\":{\"outlinewidth\":0,\"ticks\":\"\"},\"colorscale\":[[0.0,\"#0d0887\"],[0.1111111111111111,\"#46039f\"],[0.2222222222222222,\"#7201a8\"],[0.3333333333333333,\"#9c179e\"],[0.4444444444444444,\"#bd3786\"],[0.5555555555555556,\"#d8576b\"],[0.6666666666666666,\"#ed7953\"],[0.7777777777777778,\"#fb9f3a\"],[0.8888888888888888,\"#fdca26\"],[1.0,\"#f0f921\"]]}],\"mesh3d\":[{\"type\":\"mesh3d\",\"colorbar\":{\"outlinewidth\":0,\"ticks\":\"\"}}],\"scatter\":[{\"fillpattern\":{\"fillmode\":\"overlay\",\"size\":10,\"solidity\":0.2},\"type\":\"scatter\"}],\"parcoords\":[{\"type\":\"parcoords\",\"line\":{\"colorbar\":{\"outlinewidth\":0,\"ticks\":\"\"}}}],\"scatterpolargl\":[{\"type\":\"scatterpolargl\",\"marker\":{\"colorbar\":{\"outlinewidth\":0,\"ticks\":\"\"}}}],\"bar\":[{\"error_x\":{\"color\":\"#2a3f5f\"},\"error_y\":{\"color\":\"#2a3f5f\"},\"marker\":{\"line\":{\"color\":\"#E5ECF6\",\"width\":0.5},\"pattern\":{\"fillmode\":\"overlay\",\"size\":10,\"solidity\":0.2}},\"type\":\"bar\"}],\"scattergeo\":[{\"type\":\"scattergeo\",\"marker\":{\"colorbar\":{\"outlinewidth\":0,\"ticks\":\"\"}}}],\"scatterpolar\":[{\"type\":\"scatterpolar\",\"marker\":{\"colorbar\":{\"outlinewidth\":0,\"ticks\":\"\"}}}],\"histogram\":[{\"marker\":{\"pattern\":{\"fillmode\":\"overlay\",\"size\":10,\"solidity\":0.2}},\"type\":\"histogram\"}],\"scattergl\":[{\"type\":\"scattergl\",\"marker\":{\"colorbar\":{\"outlinewidth\":0,\"ticks\":\"\"}}}],\"scatter3d\":[{\"type\":\"scatter3d\",\"line\":{\"colorbar\":{\"outlinewidth\":0,\"ticks\":\"\"}},\"marker\":{\"colorbar\":{\"outlinewidth\":0,\"ticks\":\"\"}}}],\"scattermapbox\":[{\"type\":\"scattermapbox\",\"marker\":{\"colorbar\":{\"outlinewidth\":0,\"ticks\":\"\"}}}],\"scatterternary\":[{\"type\":\"scatterternary\",\"marker\":{\"colorbar\":{\"outlinewidth\":0,\"ticks\":\"\"}}}],\"scattercarpet\":[{\"type\":\"scattercarpet\",\"marker\":{\"colorbar\":{\"outlinewidth\":0,\"ticks\":\"\"}}}],\"carpet\":[{\"aaxis\":{\"endlinecolor\":\"#2a3f5f\",\"gridcolor\":\"white\",\"linecolor\":\"white\",\"minorgridcolor\":\"white\",\"startlinecolor\":\"#2a3f5f\"},\"baxis\":{\"endlinecolor\":\"#2a3f5f\",\"gridcolor\":\"white\",\"linecolor\":\"white\",\"minorgridcolor\":\"white\",\"startlinecolor\":\"#2a3f5f\"},\"type\":\"carpet\"}],\"table\":[{\"cells\":{\"fill\":{\"color\":\"#EBF0F8\"},\"line\":{\"color\":\"white\"}},\"header\":{\"fill\":{\"color\":\"#C8D4E3\"},\"line\":{\"color\":\"white\"}},\"type\":\"table\"}],\"barpolar\":[{\"marker\":{\"line\":{\"color\":\"#E5ECF6\",\"width\":0.5},\"pattern\":{\"fillmode\":\"overlay\",\"size\":10,\"solidity\":0.2}},\"type\":\"barpolar\"}],\"pie\":[{\"automargin\":true,\"type\":\"pie\"}]},\"layout\":{\"autotypenumbers\":\"strict\",\"colorway\":[\"#636efa\",\"#EF553B\",\"#00cc96\",\"#ab63fa\",\"#FFA15A\",\"#19d3f3\",\"#FF6692\",\"#B6E880\",\"#FF97FF\",\"#FECB52\"],\"font\":{\"color\":\"#2a3f5f\"},\"hovermode\":\"closest\",\"hoverlabel\":{\"align\":\"left\"},\"paper_bgcolor\":\"white\",\"plot_bgcolor\":\"#E5ECF6\",\"polar\":{\"bgcolor\":\"#E5ECF6\",\"angularaxis\":{\"gridcolor\":\"white\",\"linecolor\":\"white\",\"ticks\":\"\"},\"radialaxis\":{\"gridcolor\":\"white\",\"linecolor\":\"white\",\"ticks\":\"\"}},\"ternary\":{\"bgcolor\":\"#E5ECF6\",\"aaxis\":{\"gridcolor\":\"white\",\"linecolor\":\"white\",\"ticks\":\"\"},\"baxis\":{\"gridcolor\":\"white\",\"linecolor\":\"white\",\"ticks\":\"\"},\"caxis\":{\"gridcolor\":\"white\",\"linecolor\":\"white\",\"ticks\":\"\"}},\"coloraxis\":{\"colorbar\":{\"outlinewidth\":0,\"ticks\":\"\"}},\"colorscale\":{\"sequential\":[[0.0,\"#0d0887\"],[0.1111111111111111,\"#46039f\"],[0.2222222222222222,\"#7201a8\"],[0.3333333333333333,\"#9c179e\"],[0.4444444444444444,\"#bd3786\"],[0.5555555555555556,\"#d8576b\"],[0.6666666666666666,\"#ed7953\"],[0.7777777777777778,\"#fb9f3a\"],[0.8888888888888888,\"#fdca26\"],[1.0,\"#f0f921\"]],\"sequentialminus\":[[0.0,\"#0d0887\"],[0.1111111111111111,\"#46039f\"],[0.2222222222222222,\"#7201a8\"],[0.3333333333333333,\"#9c179e\"],[0.4444444444444444,\"#bd3786\"],[0.5555555555555556,\"#d8576b\"],[0.6666666666666666,\"#ed7953\"],[0.7777777777777778,\"#fb9f3a\"],[0.8888888888888888,\"#fdca26\"],[1.0,\"#f0f921\"]],\"diverging\":[[0,\"#8e0152\"],[0.1,\"#c51b7d\"],[0.2,\"#de77ae\"],[0.3,\"#f1b6da\"],[0.4,\"#fde0ef\"],[0.5,\"#f7f7f7\"],[0.6,\"#e6f5d0\"],[0.7,\"#b8e186\"],[0.8,\"#7fbc41\"],[0.9,\"#4d9221\"],[1,\"#276419\"]]},\"xaxis\":{\"gridcolor\":\"white\",\"linecolor\":\"white\",\"ticks\":\"\",\"title\":{\"standoff\":15},\"zerolinecolor\":\"white\",\"automargin\":true,\"zerolinewidth\":2},\"yaxis\":{\"gridcolor\":\"white\",\"linecolor\":\"white\",\"ticks\":\"\",\"title\":{\"standoff\":15},\"zerolinecolor\":\"white\",\"automargin\":true,\"zerolinewidth\":2},\"scene\":{\"xaxis\":{\"backgroundcolor\":\"#E5ECF6\",\"gridcolor\":\"white\",\"linecolor\":\"white\",\"showbackground\":true,\"ticks\":\"\",\"zerolinecolor\":\"white\",\"gridwidth\":2},\"yaxis\":{\"backgroundcolor\":\"#E5ECF6\",\"gridcolor\":\"white\",\"linecolor\":\"white\",\"showbackground\":true,\"ticks\":\"\",\"zerolinecolor\":\"white\",\"gridwidth\":2},\"zaxis\":{\"backgroundcolor\":\"#E5ECF6\",\"gridcolor\":\"white\",\"linecolor\":\"white\",\"showbackground\":true,\"ticks\":\"\",\"zerolinecolor\":\"white\",\"gridwidth\":2}},\"shapedefaults\":{\"line\":{\"color\":\"#2a3f5f\"}},\"annotationdefaults\":{\"arrowcolor\":\"#2a3f5f\",\"arrowhead\":0,\"arrowwidth\":1},\"geo\":{\"bgcolor\":\"white\",\"landcolor\":\"#E5ECF6\",\"subunitcolor\":\"white\",\"showland\":true,\"showlakes\":true,\"lakecolor\":\"white\"},\"title\":{\"x\":0.05},\"mapbox\":{\"style\":\"light\"}}},\"legend\":{\"tracegroupgap\":0},\"margin\":{\"t\":60},\"height\":800,\"width\":1280},                        {\"responsive\": true}                    ).then(function(){\n",
       "                            \n",
       "var gd = document.getElementById('963e37ea-187b-453a-8f38-4fb62841e215');\n",
       "var x = new MutationObserver(function (mutations, observer) {{\n",
       "        var display = window.getComputedStyle(gd).display;\n",
       "        if (!display || display === 'none') {{\n",
       "            console.log([gd, 'removed!']);\n",
       "            Plotly.purge(gd);\n",
       "            observer.disconnect();\n",
       "        }}\n",
       "}});\n",
       "\n",
       "// Listen for the removal of the full notebook cells\n",
       "var notebookContainer = gd.closest('#notebook-container');\n",
       "if (notebookContainer) {{\n",
       "    x.observe(notebookContainer, {childList: true});\n",
       "}}\n",
       "\n",
       "// Listen for the clearing of the current output cell\n",
       "var outputEl = gd.closest('.output');\n",
       "if (outputEl) {{\n",
       "    x.observe(outputEl, {childList: true});\n",
       "}}\n",
       "\n",
       "                        })                };                });            </script>        </div>"
      ]
     },
     "metadata": {},
     "output_type": "display_data"
    }
   ],
   "source": [
    "re_cat = df[[\"Region\",\n",
    "             \"Location_HQ\"]].groupby([\"Region\",\n",
    "                                       \"Location_HQ\"], as_index=False).size()\n",
    "\n",
    "import pandas as pd\n",
    "import plotly.express as px\n",
    "\n",
    "\n",
    "SF_df = re_cat[re_cat['Region'] == 'San Francisco Bay Area']\n",
    "\n",
    "# Create the treemap using the filtered DataFrame\n",
    "fig = px.treemap(SF_df, width=1280, height=800,\n",
    "                 path=[\"Region\", \"Location_HQ\"], values='size',\n",
    "                 color='Location_HQ')\n",
    "fig.update_traces(textinfo=\"label+percent parent\")\n",
    "fig.show()"
   ]
  },
  {
   "cell_type": "markdown",
   "id": "916b6827",
   "metadata": {
    "papermill": {
     "duration": 0.00807,
     "end_time": "2024-07-08T17:40:40.986897",
     "exception": false,
     "start_time": "2024-07-08T17:40:40.978827",
     "status": "completed"
    },
    "tags": []
   },
   "source": []
  }
 ],
 "metadata": {
  "kaggle": {
   "accelerator": "none",
   "dataSources": [
    {
     "datasetId": 4363856,
     "sourceId": 8907976,
     "sourceType": "datasetVersion"
    }
   ],
   "dockerImageVersionId": 30732,
   "isGpuEnabled": false,
   "isInternetEnabled": true,
   "language": "python",
   "sourceType": "notebook"
  },
  "kernelspec": {
   "display_name": "Python 3",
   "language": "python",
   "name": "python3"
  },
  "language_info": {
   "codemirror_mode": {
    "name": "ipython",
    "version": 3
   },
   "file_extension": ".py",
   "mimetype": "text/x-python",
   "name": "python",
   "nbconvert_exporter": "python",
   "pygments_lexer": "ipython3",
   "version": "3.10.13"
  },
  "papermill": {
   "default_parameters": {},
   "duration": 8.643227,
   "end_time": "2024-07-08T17:40:41.616817",
   "environment_variables": {},
   "exception": null,
   "input_path": "__notebook__.ipynb",
   "output_path": "__notebook__.ipynb",
   "parameters": {},
   "start_time": "2024-07-08T17:40:32.973590",
   "version": "2.5.0"
  }
 },
 "nbformat": 4,
 "nbformat_minor": 5
}
